{
  "nbformat": 4,
  "nbformat_minor": 0,
  "metadata": {
    "colab": {
      "provenance": [],
      "gpuType": "T4"
    },
    "kernelspec": {
      "name": "python3",
      "display_name": "Python 3"
    },
    "language_info": {
      "name": "python"
    },
    "accelerator": "GPU"
  },
  "cells": [
    {
      "cell_type": "markdown",
      "source": [
        "# Neural Network using Iris dataset"
      ],
      "metadata": {
        "id": "OFZQlmHzMeDx"
      }
    },
    {
      "cell_type": "code",
      "execution_count": 53,
      "metadata": {
        "id": "eFUWEbu0n3A0"
      },
      "outputs": [],
      "source": [
        "import torch\n",
        "import torch.nn as nn\n",
        "import torch.nn.functional as F\n",
        "import numpy as np\n",
        "\n"
      ]
    },
    {
      "cell_type": "code",
      "source": [
        "# Create a model class that inherits `nn.Module`\n",
        "\n",
        "class  IrisDatasetModel(nn.Module):\n",
        "  # Input layer ( 4 features of the flower : sepal length, sepal width, petal length, petal width)\n",
        "  # --> Hidden layer 1(number of neurons)\n",
        "  # --> H2 (n)\n",
        "  # --> output (3 class of iris flowers: Iris Setosa, Iris Versicolour, Iris Virginica)\n",
        "\n",
        "  def __init__(self, in_features=4, h1=13, h2=15, out_features=3):\n",
        "    super().__init__()    # initantiate our nn.Module\n",
        "    # print(f\"in_feat : {h1}, h1 : {h1}, h2 : {h2}, out_features: {out_features}\")\n",
        "    self.fc1 = nn.Linear(in_features, h1)\n",
        "    self.fc2 = nn.Linear(h1, h2)\n",
        "    self.out = nn.Linear(h2, out_features)\n",
        "  # def __init__(self):\n",
        "  #   super().__init__()    # initantiate our nn.Module\n",
        "  #   self.fc1 = nn.Linear(4, 8)\n",
        "  #   self.fc2 = nn.Linear(8, 9)\n",
        "  #   self.out = nn.Linear(9, 3)\n",
        "\n",
        "  def forward(self, x: torch.Tensor) -> torch.Tensor :\n",
        "    x = F.relu(self.fc1(x))\n",
        "    x = F.relu(self.fc2(x))\n",
        "    x = self.out(x)\n",
        "\n",
        "    return x\n",
        "\n"
      ],
      "metadata": {
        "id": "89IALhvyM2-I"
      },
      "execution_count": 54,
      "outputs": []
    },
    {
      "cell_type": "code",
      "source": [
        "RANDOM = 31\n",
        "# pick a manual seed for reproducibility\n",
        "torch.manual_seed(RANDOM)\n",
        "\n",
        "# create an instance of the model\n",
        "model_0 = IrisDatasetModel()\n",
        "# model, model.state_dict()"
      ],
      "metadata": {
        "id": "Cea8I9awZ30F"
      },
      "execution_count": 55,
      "outputs": []
    },
    {
      "cell_type": "code",
      "source": [
        "list(model_0.parameters())"
      ],
      "metadata": {
        "colab": {
          "base_uri": "https://localhost:8080/"
        },
        "id": "MVuRhiFUcZ_o",
        "outputId": "c275b601-8e10-4069-a503-362a1d9d2b65"
      },
      "execution_count": 56,
      "outputs": [
        {
          "output_type": "execute_result",
          "data": {
            "text/plain": [
              "[Parameter containing:\n",
              " tensor([[-0.2702, -0.0782, -0.2250,  0.0173],\n",
              "         [-0.2999,  0.0276,  0.1387, -0.0156],\n",
              "         [-0.2096, -0.1999, -0.4492, -0.1074],\n",
              "         [ 0.0437, -0.4737,  0.0715,  0.1611],\n",
              "         [-0.2148, -0.3602, -0.3551,  0.2162],\n",
              "         [ 0.3863,  0.2342,  0.3927,  0.3888],\n",
              "         [-0.3485,  0.1383,  0.3673,  0.3752],\n",
              "         [-0.2472,  0.3562,  0.2372,  0.4845],\n",
              "         [-0.1552,  0.3903, -0.4812, -0.0868],\n",
              "         [-0.3228,  0.4181,  0.0695, -0.3738],\n",
              "         [-0.1004,  0.2239,  0.0295, -0.1423],\n",
              "         [-0.2519,  0.0351, -0.0465,  0.4427],\n",
              "         [ 0.2154, -0.3264,  0.4857, -0.1453]], requires_grad=True),\n",
              " Parameter containing:\n",
              " tensor([-0.4118,  0.0815, -0.0352, -0.3205, -0.3180,  0.1000, -0.4783, -0.2402,\n",
              "          0.2576, -0.0182, -0.2126,  0.3374, -0.3707], requires_grad=True),\n",
              " Parameter containing:\n",
              " tensor([[-0.0574,  0.1984, -0.0627,  0.2480,  0.0019,  0.2265, -0.0015,  0.1384,\n",
              "           0.1701,  0.1075, -0.1490, -0.2216, -0.0660],\n",
              "         [-0.0023,  0.0714,  0.0760,  0.1724, -0.1713,  0.1384,  0.2715, -0.1811,\n",
              "          -0.2660,  0.0356, -0.2058,  0.2201, -0.2579],\n",
              "         [ 0.2653, -0.0013, -0.0792,  0.2212, -0.1502, -0.1674,  0.1812,  0.0890,\n",
              "           0.2122,  0.1388,  0.0989, -0.1374, -0.0783],\n",
              "         [ 0.2169,  0.0687, -0.0873, -0.1071,  0.2160, -0.0025, -0.1334, -0.0954,\n",
              "           0.1214, -0.1270,  0.1878, -0.1475,  0.0508],\n",
              "         [ 0.0335,  0.0520,  0.2303, -0.2301, -0.0918, -0.2749,  0.1631, -0.2420,\n",
              "          -0.0584,  0.2241,  0.0970,  0.1351,  0.2605],\n",
              "         [ 0.0224, -0.2436,  0.1195,  0.2381, -0.1866, -0.0943,  0.0342, -0.2493,\n",
              "           0.2085,  0.2428,  0.2526, -0.1971, -0.2281],\n",
              "         [ 0.2148,  0.0659,  0.1157, -0.1090, -0.2625,  0.0928,  0.1737,  0.2126,\n",
              "          -0.0821,  0.0045,  0.1754,  0.1729,  0.0247],\n",
              "         [-0.0266, -0.1350,  0.1363,  0.1619, -0.2000, -0.2217, -0.1982,  0.1130,\n",
              "          -0.0880, -0.1826, -0.0589, -0.0656,  0.2130],\n",
              "         [ 0.1647,  0.2308, -0.0508,  0.0765, -0.0301,  0.1754, -0.0845,  0.0547,\n",
              "          -0.2013, -0.0438, -0.2473, -0.2015, -0.1188],\n",
              "         [ 0.1880,  0.2370,  0.2638,  0.1906, -0.1675,  0.2017, -0.1804, -0.2614,\n",
              "          -0.1043, -0.2530, -0.1344, -0.1738,  0.0929],\n",
              "         [ 0.0058,  0.0161, -0.2325,  0.0011,  0.1749,  0.2244, -0.2331,  0.0029,\n",
              "           0.2210, -0.1897,  0.2325,  0.1941,  0.1918],\n",
              "         [-0.1845,  0.0494, -0.0789, -0.2407, -0.0689, -0.2062, -0.0926,  0.1879,\n",
              "          -0.1525,  0.2241,  0.1200,  0.1632,  0.1850],\n",
              "         [-0.1803, -0.0785, -0.0237, -0.0949,  0.0110, -0.0283, -0.1841, -0.0307,\n",
              "           0.2024,  0.1013, -0.2692,  0.0624, -0.1178],\n",
              "         [-0.2363,  0.1543, -0.0324, -0.0178, -0.0623,  0.1899,  0.0864, -0.0521,\n",
              "           0.2421, -0.2292, -0.1516, -0.1860,  0.0476],\n",
              "         [-0.0014, -0.2415, -0.0968, -0.0897,  0.0520,  0.2165,  0.1059, -0.2597,\n",
              "          -0.1382,  0.1405,  0.1091, -0.2579, -0.0794]], requires_grad=True),\n",
              " Parameter containing:\n",
              " tensor([ 0.1524,  0.2403,  0.2275, -0.1929, -0.0558,  0.1692, -0.1075, -0.1771,\n",
              "          0.2252,  0.2221, -0.0454, -0.1930, -0.1667, -0.2660, -0.2158],\n",
              "        requires_grad=True),\n",
              " Parameter containing:\n",
              " tensor([[ 0.0424,  0.1582,  0.2106, -0.2557,  0.0158, -0.0282,  0.1805,  0.0756,\n",
              "           0.1025, -0.0114, -0.0615, -0.2580,  0.1331, -0.1298, -0.1877],\n",
              "         [ 0.1183, -0.0399, -0.2153,  0.0451, -0.0671, -0.0457, -0.1960, -0.2227,\n",
              "          -0.0846, -0.0272, -0.0267, -0.0407, -0.1520,  0.1308, -0.0821],\n",
              "         [-0.0033,  0.0816,  0.0532, -0.0490,  0.0641,  0.1774, -0.0800,  0.2484,\n",
              "           0.1605, -0.1562, -0.1965,  0.1268,  0.1268,  0.0043,  0.1080]],\n",
              "        requires_grad=True),\n",
              " Parameter containing:\n",
              " tensor([-0.0285,  0.1733, -0.0330], requires_grad=True)]"
            ]
          },
          "metadata": {},
          "execution_count": 56
        }
      ]
    },
    {
      "cell_type": "code",
      "source": [
        "import matplotlib.pyplot as plt\n",
        "import pandas as pd\n",
        "%matplotlib inline"
      ],
      "metadata": {
        "id": "djVBKOxF4qHA"
      },
      "execution_count": 57,
      "outputs": []
    },
    {
      "cell_type": "code",
      "source": [
        "url = 'https://gist.githubusercontent.com/netj/8836201/raw/6f9306ad21398ea43cba4f7d537619d0e07d5ae3/iris.csv'\n",
        "my_dataframe = pd.read_csv(url)\n"
      ],
      "metadata": {
        "id": "FxN9wYvb4wc8"
      },
      "execution_count": 58,
      "outputs": []
    },
    {
      "cell_type": "code",
      "source": [
        "my_dataframe"
      ],
      "metadata": {
        "colab": {
          "base_uri": "https://localhost:8080/",
          "height": 424
        },
        "id": "3bqJ1R3VFy50",
        "outputId": "d2a8b69e-6c3e-4c8e-b6ff-886cc73e3d52"
      },
      "execution_count": 59,
      "outputs": [
        {
          "output_type": "execute_result",
          "data": {
            "text/plain": [
              "     sepal.length  sepal.width  petal.length  petal.width    variety\n",
              "0             5.1          3.5           1.4          0.2     Setosa\n",
              "1             4.9          3.0           1.4          0.2     Setosa\n",
              "2             4.7          3.2           1.3          0.2     Setosa\n",
              "3             4.6          3.1           1.5          0.2     Setosa\n",
              "4             5.0          3.6           1.4          0.2     Setosa\n",
              "..            ...          ...           ...          ...        ...\n",
              "145           6.7          3.0           5.2          2.3  Virginica\n",
              "146           6.3          2.5           5.0          1.9  Virginica\n",
              "147           6.5          3.0           5.2          2.0  Virginica\n",
              "148           6.2          3.4           5.4          2.3  Virginica\n",
              "149           5.9          3.0           5.1          1.8  Virginica\n",
              "\n",
              "[150 rows x 5 columns]"
            ],
            "text/html": [
              "\n",
              "  <div id=\"df-b4832acb-6cb1-46f3-b114-2b4d084c44ec\" class=\"colab-df-container\">\n",
              "    <div>\n",
              "<style scoped>\n",
              "    .dataframe tbody tr th:only-of-type {\n",
              "        vertical-align: middle;\n",
              "    }\n",
              "\n",
              "    .dataframe tbody tr th {\n",
              "        vertical-align: top;\n",
              "    }\n",
              "\n",
              "    .dataframe thead th {\n",
              "        text-align: right;\n",
              "    }\n",
              "</style>\n",
              "<table border=\"1\" class=\"dataframe\">\n",
              "  <thead>\n",
              "    <tr style=\"text-align: right;\">\n",
              "      <th></th>\n",
              "      <th>sepal.length</th>\n",
              "      <th>sepal.width</th>\n",
              "      <th>petal.length</th>\n",
              "      <th>petal.width</th>\n",
              "      <th>variety</th>\n",
              "    </tr>\n",
              "  </thead>\n",
              "  <tbody>\n",
              "    <tr>\n",
              "      <th>0</th>\n",
              "      <td>5.1</td>\n",
              "      <td>3.5</td>\n",
              "      <td>1.4</td>\n",
              "      <td>0.2</td>\n",
              "      <td>Setosa</td>\n",
              "    </tr>\n",
              "    <tr>\n",
              "      <th>1</th>\n",
              "      <td>4.9</td>\n",
              "      <td>3.0</td>\n",
              "      <td>1.4</td>\n",
              "      <td>0.2</td>\n",
              "      <td>Setosa</td>\n",
              "    </tr>\n",
              "    <tr>\n",
              "      <th>2</th>\n",
              "      <td>4.7</td>\n",
              "      <td>3.2</td>\n",
              "      <td>1.3</td>\n",
              "      <td>0.2</td>\n",
              "      <td>Setosa</td>\n",
              "    </tr>\n",
              "    <tr>\n",
              "      <th>3</th>\n",
              "      <td>4.6</td>\n",
              "      <td>3.1</td>\n",
              "      <td>1.5</td>\n",
              "      <td>0.2</td>\n",
              "      <td>Setosa</td>\n",
              "    </tr>\n",
              "    <tr>\n",
              "      <th>4</th>\n",
              "      <td>5.0</td>\n",
              "      <td>3.6</td>\n",
              "      <td>1.4</td>\n",
              "      <td>0.2</td>\n",
              "      <td>Setosa</td>\n",
              "    </tr>\n",
              "    <tr>\n",
              "      <th>...</th>\n",
              "      <td>...</td>\n",
              "      <td>...</td>\n",
              "      <td>...</td>\n",
              "      <td>...</td>\n",
              "      <td>...</td>\n",
              "    </tr>\n",
              "    <tr>\n",
              "      <th>145</th>\n",
              "      <td>6.7</td>\n",
              "      <td>3.0</td>\n",
              "      <td>5.2</td>\n",
              "      <td>2.3</td>\n",
              "      <td>Virginica</td>\n",
              "    </tr>\n",
              "    <tr>\n",
              "      <th>146</th>\n",
              "      <td>6.3</td>\n",
              "      <td>2.5</td>\n",
              "      <td>5.0</td>\n",
              "      <td>1.9</td>\n",
              "      <td>Virginica</td>\n",
              "    </tr>\n",
              "    <tr>\n",
              "      <th>147</th>\n",
              "      <td>6.5</td>\n",
              "      <td>3.0</td>\n",
              "      <td>5.2</td>\n",
              "      <td>2.0</td>\n",
              "      <td>Virginica</td>\n",
              "    </tr>\n",
              "    <tr>\n",
              "      <th>148</th>\n",
              "      <td>6.2</td>\n",
              "      <td>3.4</td>\n",
              "      <td>5.4</td>\n",
              "      <td>2.3</td>\n",
              "      <td>Virginica</td>\n",
              "    </tr>\n",
              "    <tr>\n",
              "      <th>149</th>\n",
              "      <td>5.9</td>\n",
              "      <td>3.0</td>\n",
              "      <td>5.1</td>\n",
              "      <td>1.8</td>\n",
              "      <td>Virginica</td>\n",
              "    </tr>\n",
              "  </tbody>\n",
              "</table>\n",
              "<p>150 rows × 5 columns</p>\n",
              "</div>\n",
              "    <div class=\"colab-df-buttons\">\n",
              "\n",
              "  <div class=\"colab-df-container\">\n",
              "    <button class=\"colab-df-convert\" onclick=\"convertToInteractive('df-b4832acb-6cb1-46f3-b114-2b4d084c44ec')\"\n",
              "            title=\"Convert this dataframe to an interactive table.\"\n",
              "            style=\"display:none;\">\n",
              "\n",
              "  <svg xmlns=\"http://www.w3.org/2000/svg\" height=\"24px\" viewBox=\"0 -960 960 960\">\n",
              "    <path d=\"M120-120v-720h720v720H120Zm60-500h600v-160H180v160Zm220 220h160v-160H400v160Zm0 220h160v-160H400v160ZM180-400h160v-160H180v160Zm440 0h160v-160H620v160ZM180-180h160v-160H180v160Zm440 0h160v-160H620v160Z\"/>\n",
              "  </svg>\n",
              "    </button>\n",
              "\n",
              "  <style>\n",
              "    .colab-df-container {\n",
              "      display:flex;\n",
              "      gap: 12px;\n",
              "    }\n",
              "\n",
              "    .colab-df-convert {\n",
              "      background-color: #E8F0FE;\n",
              "      border: none;\n",
              "      border-radius: 50%;\n",
              "      cursor: pointer;\n",
              "      display: none;\n",
              "      fill: #1967D2;\n",
              "      height: 32px;\n",
              "      padding: 0 0 0 0;\n",
              "      width: 32px;\n",
              "    }\n",
              "\n",
              "    .colab-df-convert:hover {\n",
              "      background-color: #E2EBFA;\n",
              "      box-shadow: 0px 1px 2px rgba(60, 64, 67, 0.3), 0px 1px 3px 1px rgba(60, 64, 67, 0.15);\n",
              "      fill: #174EA6;\n",
              "    }\n",
              "\n",
              "    .colab-df-buttons div {\n",
              "      margin-bottom: 4px;\n",
              "    }\n",
              "\n",
              "    [theme=dark] .colab-df-convert {\n",
              "      background-color: #3B4455;\n",
              "      fill: #D2E3FC;\n",
              "    }\n",
              "\n",
              "    [theme=dark] .colab-df-convert:hover {\n",
              "      background-color: #434B5C;\n",
              "      box-shadow: 0px 1px 3px 1px rgba(0, 0, 0, 0.15);\n",
              "      filter: drop-shadow(0px 1px 2px rgba(0, 0, 0, 0.3));\n",
              "      fill: #FFFFFF;\n",
              "    }\n",
              "  </style>\n",
              "\n",
              "    <script>\n",
              "      const buttonEl =\n",
              "        document.querySelector('#df-b4832acb-6cb1-46f3-b114-2b4d084c44ec button.colab-df-convert');\n",
              "      buttonEl.style.display =\n",
              "        google.colab.kernel.accessAllowed ? 'block' : 'none';\n",
              "\n",
              "      async function convertToInteractive(key) {\n",
              "        const element = document.querySelector('#df-b4832acb-6cb1-46f3-b114-2b4d084c44ec');\n",
              "        const dataTable =\n",
              "          await google.colab.kernel.invokeFunction('convertToInteractive',\n",
              "                                                    [key], {});\n",
              "        if (!dataTable) return;\n",
              "\n",
              "        const docLinkHtml = 'Like what you see? Visit the ' +\n",
              "          '<a target=\"_blank\" href=https://colab.research.google.com/notebooks/data_table.ipynb>data table notebook</a>'\n",
              "          + ' to learn more about interactive tables.';\n",
              "        element.innerHTML = '';\n",
              "        dataTable['output_type'] = 'display_data';\n",
              "        await google.colab.output.renderOutput(dataTable, element);\n",
              "        const docLink = document.createElement('div');\n",
              "        docLink.innerHTML = docLinkHtml;\n",
              "        element.appendChild(docLink);\n",
              "      }\n",
              "    </script>\n",
              "  </div>\n",
              "\n",
              "\n",
              "<div id=\"df-1bf83b8c-7f17-43ad-ab9f-84f683a3f341\">\n",
              "  <button class=\"colab-df-quickchart\" onclick=\"quickchart('df-1bf83b8c-7f17-43ad-ab9f-84f683a3f341')\"\n",
              "            title=\"Suggest charts\"\n",
              "            style=\"display:none;\">\n",
              "\n",
              "<svg xmlns=\"http://www.w3.org/2000/svg\" height=\"24px\"viewBox=\"0 0 24 24\"\n",
              "     width=\"24px\">\n",
              "    <g>\n",
              "        <path d=\"M19 3H5c-1.1 0-2 .9-2 2v14c0 1.1.9 2 2 2h14c1.1 0 2-.9 2-2V5c0-1.1-.9-2-2-2zM9 17H7v-7h2v7zm4 0h-2V7h2v10zm4 0h-2v-4h2v4z\"/>\n",
              "    </g>\n",
              "</svg>\n",
              "  </button>\n",
              "\n",
              "<style>\n",
              "  .colab-df-quickchart {\n",
              "      --bg-color: #E8F0FE;\n",
              "      --fill-color: #1967D2;\n",
              "      --hover-bg-color: #E2EBFA;\n",
              "      --hover-fill-color: #174EA6;\n",
              "      --disabled-fill-color: #AAA;\n",
              "      --disabled-bg-color: #DDD;\n",
              "  }\n",
              "\n",
              "  [theme=dark] .colab-df-quickchart {\n",
              "      --bg-color: #3B4455;\n",
              "      --fill-color: #D2E3FC;\n",
              "      --hover-bg-color: #434B5C;\n",
              "      --hover-fill-color: #FFFFFF;\n",
              "      --disabled-bg-color: #3B4455;\n",
              "      --disabled-fill-color: #666;\n",
              "  }\n",
              "\n",
              "  .colab-df-quickchart {\n",
              "    background-color: var(--bg-color);\n",
              "    border: none;\n",
              "    border-radius: 50%;\n",
              "    cursor: pointer;\n",
              "    display: none;\n",
              "    fill: var(--fill-color);\n",
              "    height: 32px;\n",
              "    padding: 0;\n",
              "    width: 32px;\n",
              "  }\n",
              "\n",
              "  .colab-df-quickchart:hover {\n",
              "    background-color: var(--hover-bg-color);\n",
              "    box-shadow: 0 1px 2px rgba(60, 64, 67, 0.3), 0 1px 3px 1px rgba(60, 64, 67, 0.15);\n",
              "    fill: var(--button-hover-fill-color);\n",
              "  }\n",
              "\n",
              "  .colab-df-quickchart-complete:disabled,\n",
              "  .colab-df-quickchart-complete:disabled:hover {\n",
              "    background-color: var(--disabled-bg-color);\n",
              "    fill: var(--disabled-fill-color);\n",
              "    box-shadow: none;\n",
              "  }\n",
              "\n",
              "  .colab-df-spinner {\n",
              "    border: 2px solid var(--fill-color);\n",
              "    border-color: transparent;\n",
              "    border-bottom-color: var(--fill-color);\n",
              "    animation:\n",
              "      spin 1s steps(1) infinite;\n",
              "  }\n",
              "\n",
              "  @keyframes spin {\n",
              "    0% {\n",
              "      border-color: transparent;\n",
              "      border-bottom-color: var(--fill-color);\n",
              "      border-left-color: var(--fill-color);\n",
              "    }\n",
              "    20% {\n",
              "      border-color: transparent;\n",
              "      border-left-color: var(--fill-color);\n",
              "      border-top-color: var(--fill-color);\n",
              "    }\n",
              "    30% {\n",
              "      border-color: transparent;\n",
              "      border-left-color: var(--fill-color);\n",
              "      border-top-color: var(--fill-color);\n",
              "      border-right-color: var(--fill-color);\n",
              "    }\n",
              "    40% {\n",
              "      border-color: transparent;\n",
              "      border-right-color: var(--fill-color);\n",
              "      border-top-color: var(--fill-color);\n",
              "    }\n",
              "    60% {\n",
              "      border-color: transparent;\n",
              "      border-right-color: var(--fill-color);\n",
              "    }\n",
              "    80% {\n",
              "      border-color: transparent;\n",
              "      border-right-color: var(--fill-color);\n",
              "      border-bottom-color: var(--fill-color);\n",
              "    }\n",
              "    90% {\n",
              "      border-color: transparent;\n",
              "      border-bottom-color: var(--fill-color);\n",
              "    }\n",
              "  }\n",
              "</style>\n",
              "\n",
              "  <script>\n",
              "    async function quickchart(key) {\n",
              "      const quickchartButtonEl =\n",
              "        document.querySelector('#' + key + ' button');\n",
              "      quickchartButtonEl.disabled = true;  // To prevent multiple clicks.\n",
              "      quickchartButtonEl.classList.add('colab-df-spinner');\n",
              "      try {\n",
              "        const charts = await google.colab.kernel.invokeFunction(\n",
              "            'suggestCharts', [key], {});\n",
              "      } catch (error) {\n",
              "        console.error('Error during call to suggestCharts:', error);\n",
              "      }\n",
              "      quickchartButtonEl.classList.remove('colab-df-spinner');\n",
              "      quickchartButtonEl.classList.add('colab-df-quickchart-complete');\n",
              "    }\n",
              "    (() => {\n",
              "      let quickchartButtonEl =\n",
              "        document.querySelector('#df-1bf83b8c-7f17-43ad-ab9f-84f683a3f341 button');\n",
              "      quickchartButtonEl.style.display =\n",
              "        google.colab.kernel.accessAllowed ? 'block' : 'none';\n",
              "    })();\n",
              "  </script>\n",
              "</div>\n",
              "    </div>\n",
              "  </div>\n"
            ]
          },
          "metadata": {},
          "execution_count": 59
        }
      ]
    },
    {
      "cell_type": "code",
      "source": [
        "my_dataframe['variety'] = my_dataframe['variety'].replace(\"Setosa\",0.0)\n",
        "my_dataframe['variety'] = my_dataframe['variety'].replace(\"Versicolor\",1.0)\n",
        "my_dataframe['variety'] = my_dataframe['variety'].replace(\"Virginica\",2.0)"
      ],
      "metadata": {
        "id": "WCRZE_DpF0JT"
      },
      "execution_count": 60,
      "outputs": []
    },
    {
      "cell_type": "code",
      "source": [
        "my_dataframe"
      ],
      "metadata": {
        "colab": {
          "base_uri": "https://localhost:8080/",
          "height": 424
        },
        "id": "9SQb4GN8NAdl",
        "outputId": "d247463a-8e15-46bb-995a-9b9b81b868f3"
      },
      "execution_count": 61,
      "outputs": [
        {
          "output_type": "execute_result",
          "data": {
            "text/plain": [
              "     sepal.length  sepal.width  petal.length  petal.width  variety\n",
              "0             5.1          3.5           1.4          0.2      0.0\n",
              "1             4.9          3.0           1.4          0.2      0.0\n",
              "2             4.7          3.2           1.3          0.2      0.0\n",
              "3             4.6          3.1           1.5          0.2      0.0\n",
              "4             5.0          3.6           1.4          0.2      0.0\n",
              "..            ...          ...           ...          ...      ...\n",
              "145           6.7          3.0           5.2          2.3      2.0\n",
              "146           6.3          2.5           5.0          1.9      2.0\n",
              "147           6.5          3.0           5.2          2.0      2.0\n",
              "148           6.2          3.4           5.4          2.3      2.0\n",
              "149           5.9          3.0           5.1          1.8      2.0\n",
              "\n",
              "[150 rows x 5 columns]"
            ],
            "text/html": [
              "\n",
              "  <div id=\"df-33b96d37-a79e-4f4a-ba6e-04adcb1a0a8e\" class=\"colab-df-container\">\n",
              "    <div>\n",
              "<style scoped>\n",
              "    .dataframe tbody tr th:only-of-type {\n",
              "        vertical-align: middle;\n",
              "    }\n",
              "\n",
              "    .dataframe tbody tr th {\n",
              "        vertical-align: top;\n",
              "    }\n",
              "\n",
              "    .dataframe thead th {\n",
              "        text-align: right;\n",
              "    }\n",
              "</style>\n",
              "<table border=\"1\" class=\"dataframe\">\n",
              "  <thead>\n",
              "    <tr style=\"text-align: right;\">\n",
              "      <th></th>\n",
              "      <th>sepal.length</th>\n",
              "      <th>sepal.width</th>\n",
              "      <th>petal.length</th>\n",
              "      <th>petal.width</th>\n",
              "      <th>variety</th>\n",
              "    </tr>\n",
              "  </thead>\n",
              "  <tbody>\n",
              "    <tr>\n",
              "      <th>0</th>\n",
              "      <td>5.1</td>\n",
              "      <td>3.5</td>\n",
              "      <td>1.4</td>\n",
              "      <td>0.2</td>\n",
              "      <td>0.0</td>\n",
              "    </tr>\n",
              "    <tr>\n",
              "      <th>1</th>\n",
              "      <td>4.9</td>\n",
              "      <td>3.0</td>\n",
              "      <td>1.4</td>\n",
              "      <td>0.2</td>\n",
              "      <td>0.0</td>\n",
              "    </tr>\n",
              "    <tr>\n",
              "      <th>2</th>\n",
              "      <td>4.7</td>\n",
              "      <td>3.2</td>\n",
              "      <td>1.3</td>\n",
              "      <td>0.2</td>\n",
              "      <td>0.0</td>\n",
              "    </tr>\n",
              "    <tr>\n",
              "      <th>3</th>\n",
              "      <td>4.6</td>\n",
              "      <td>3.1</td>\n",
              "      <td>1.5</td>\n",
              "      <td>0.2</td>\n",
              "      <td>0.0</td>\n",
              "    </tr>\n",
              "    <tr>\n",
              "      <th>4</th>\n",
              "      <td>5.0</td>\n",
              "      <td>3.6</td>\n",
              "      <td>1.4</td>\n",
              "      <td>0.2</td>\n",
              "      <td>0.0</td>\n",
              "    </tr>\n",
              "    <tr>\n",
              "      <th>...</th>\n",
              "      <td>...</td>\n",
              "      <td>...</td>\n",
              "      <td>...</td>\n",
              "      <td>...</td>\n",
              "      <td>...</td>\n",
              "    </tr>\n",
              "    <tr>\n",
              "      <th>145</th>\n",
              "      <td>6.7</td>\n",
              "      <td>3.0</td>\n",
              "      <td>5.2</td>\n",
              "      <td>2.3</td>\n",
              "      <td>2.0</td>\n",
              "    </tr>\n",
              "    <tr>\n",
              "      <th>146</th>\n",
              "      <td>6.3</td>\n",
              "      <td>2.5</td>\n",
              "      <td>5.0</td>\n",
              "      <td>1.9</td>\n",
              "      <td>2.0</td>\n",
              "    </tr>\n",
              "    <tr>\n",
              "      <th>147</th>\n",
              "      <td>6.5</td>\n",
              "      <td>3.0</td>\n",
              "      <td>5.2</td>\n",
              "      <td>2.0</td>\n",
              "      <td>2.0</td>\n",
              "    </tr>\n",
              "    <tr>\n",
              "      <th>148</th>\n",
              "      <td>6.2</td>\n",
              "      <td>3.4</td>\n",
              "      <td>5.4</td>\n",
              "      <td>2.3</td>\n",
              "      <td>2.0</td>\n",
              "    </tr>\n",
              "    <tr>\n",
              "      <th>149</th>\n",
              "      <td>5.9</td>\n",
              "      <td>3.0</td>\n",
              "      <td>5.1</td>\n",
              "      <td>1.8</td>\n",
              "      <td>2.0</td>\n",
              "    </tr>\n",
              "  </tbody>\n",
              "</table>\n",
              "<p>150 rows × 5 columns</p>\n",
              "</div>\n",
              "    <div class=\"colab-df-buttons\">\n",
              "\n",
              "  <div class=\"colab-df-container\">\n",
              "    <button class=\"colab-df-convert\" onclick=\"convertToInteractive('df-33b96d37-a79e-4f4a-ba6e-04adcb1a0a8e')\"\n",
              "            title=\"Convert this dataframe to an interactive table.\"\n",
              "            style=\"display:none;\">\n",
              "\n",
              "  <svg xmlns=\"http://www.w3.org/2000/svg\" height=\"24px\" viewBox=\"0 -960 960 960\">\n",
              "    <path d=\"M120-120v-720h720v720H120Zm60-500h600v-160H180v160Zm220 220h160v-160H400v160Zm0 220h160v-160H400v160ZM180-400h160v-160H180v160Zm440 0h160v-160H620v160ZM180-180h160v-160H180v160Zm440 0h160v-160H620v160Z\"/>\n",
              "  </svg>\n",
              "    </button>\n",
              "\n",
              "  <style>\n",
              "    .colab-df-container {\n",
              "      display:flex;\n",
              "      gap: 12px;\n",
              "    }\n",
              "\n",
              "    .colab-df-convert {\n",
              "      background-color: #E8F0FE;\n",
              "      border: none;\n",
              "      border-radius: 50%;\n",
              "      cursor: pointer;\n",
              "      display: none;\n",
              "      fill: #1967D2;\n",
              "      height: 32px;\n",
              "      padding: 0 0 0 0;\n",
              "      width: 32px;\n",
              "    }\n",
              "\n",
              "    .colab-df-convert:hover {\n",
              "      background-color: #E2EBFA;\n",
              "      box-shadow: 0px 1px 2px rgba(60, 64, 67, 0.3), 0px 1px 3px 1px rgba(60, 64, 67, 0.15);\n",
              "      fill: #174EA6;\n",
              "    }\n",
              "\n",
              "    .colab-df-buttons div {\n",
              "      margin-bottom: 4px;\n",
              "    }\n",
              "\n",
              "    [theme=dark] .colab-df-convert {\n",
              "      background-color: #3B4455;\n",
              "      fill: #D2E3FC;\n",
              "    }\n",
              "\n",
              "    [theme=dark] .colab-df-convert:hover {\n",
              "      background-color: #434B5C;\n",
              "      box-shadow: 0px 1px 3px 1px rgba(0, 0, 0, 0.15);\n",
              "      filter: drop-shadow(0px 1px 2px rgba(0, 0, 0, 0.3));\n",
              "      fill: #FFFFFF;\n",
              "    }\n",
              "  </style>\n",
              "\n",
              "    <script>\n",
              "      const buttonEl =\n",
              "        document.querySelector('#df-33b96d37-a79e-4f4a-ba6e-04adcb1a0a8e button.colab-df-convert');\n",
              "      buttonEl.style.display =\n",
              "        google.colab.kernel.accessAllowed ? 'block' : 'none';\n",
              "\n",
              "      async function convertToInteractive(key) {\n",
              "        const element = document.querySelector('#df-33b96d37-a79e-4f4a-ba6e-04adcb1a0a8e');\n",
              "        const dataTable =\n",
              "          await google.colab.kernel.invokeFunction('convertToInteractive',\n",
              "                                                    [key], {});\n",
              "        if (!dataTable) return;\n",
              "\n",
              "        const docLinkHtml = 'Like what you see? Visit the ' +\n",
              "          '<a target=\"_blank\" href=https://colab.research.google.com/notebooks/data_table.ipynb>data table notebook</a>'\n",
              "          + ' to learn more about interactive tables.';\n",
              "        element.innerHTML = '';\n",
              "        dataTable['output_type'] = 'display_data';\n",
              "        await google.colab.output.renderOutput(dataTable, element);\n",
              "        const docLink = document.createElement('div');\n",
              "        docLink.innerHTML = docLinkHtml;\n",
              "        element.appendChild(docLink);\n",
              "      }\n",
              "    </script>\n",
              "  </div>\n",
              "\n",
              "\n",
              "<div id=\"df-815c4d9b-1e6d-4d42-a7de-b5ce428664c3\">\n",
              "  <button class=\"colab-df-quickchart\" onclick=\"quickchart('df-815c4d9b-1e6d-4d42-a7de-b5ce428664c3')\"\n",
              "            title=\"Suggest charts\"\n",
              "            style=\"display:none;\">\n",
              "\n",
              "<svg xmlns=\"http://www.w3.org/2000/svg\" height=\"24px\"viewBox=\"0 0 24 24\"\n",
              "     width=\"24px\">\n",
              "    <g>\n",
              "        <path d=\"M19 3H5c-1.1 0-2 .9-2 2v14c0 1.1.9 2 2 2h14c1.1 0 2-.9 2-2V5c0-1.1-.9-2-2-2zM9 17H7v-7h2v7zm4 0h-2V7h2v10zm4 0h-2v-4h2v4z\"/>\n",
              "    </g>\n",
              "</svg>\n",
              "  </button>\n",
              "\n",
              "<style>\n",
              "  .colab-df-quickchart {\n",
              "      --bg-color: #E8F0FE;\n",
              "      --fill-color: #1967D2;\n",
              "      --hover-bg-color: #E2EBFA;\n",
              "      --hover-fill-color: #174EA6;\n",
              "      --disabled-fill-color: #AAA;\n",
              "      --disabled-bg-color: #DDD;\n",
              "  }\n",
              "\n",
              "  [theme=dark] .colab-df-quickchart {\n",
              "      --bg-color: #3B4455;\n",
              "      --fill-color: #D2E3FC;\n",
              "      --hover-bg-color: #434B5C;\n",
              "      --hover-fill-color: #FFFFFF;\n",
              "      --disabled-bg-color: #3B4455;\n",
              "      --disabled-fill-color: #666;\n",
              "  }\n",
              "\n",
              "  .colab-df-quickchart {\n",
              "    background-color: var(--bg-color);\n",
              "    border: none;\n",
              "    border-radius: 50%;\n",
              "    cursor: pointer;\n",
              "    display: none;\n",
              "    fill: var(--fill-color);\n",
              "    height: 32px;\n",
              "    padding: 0;\n",
              "    width: 32px;\n",
              "  }\n",
              "\n",
              "  .colab-df-quickchart:hover {\n",
              "    background-color: var(--hover-bg-color);\n",
              "    box-shadow: 0 1px 2px rgba(60, 64, 67, 0.3), 0 1px 3px 1px rgba(60, 64, 67, 0.15);\n",
              "    fill: var(--button-hover-fill-color);\n",
              "  }\n",
              "\n",
              "  .colab-df-quickchart-complete:disabled,\n",
              "  .colab-df-quickchart-complete:disabled:hover {\n",
              "    background-color: var(--disabled-bg-color);\n",
              "    fill: var(--disabled-fill-color);\n",
              "    box-shadow: none;\n",
              "  }\n",
              "\n",
              "  .colab-df-spinner {\n",
              "    border: 2px solid var(--fill-color);\n",
              "    border-color: transparent;\n",
              "    border-bottom-color: var(--fill-color);\n",
              "    animation:\n",
              "      spin 1s steps(1) infinite;\n",
              "  }\n",
              "\n",
              "  @keyframes spin {\n",
              "    0% {\n",
              "      border-color: transparent;\n",
              "      border-bottom-color: var(--fill-color);\n",
              "      border-left-color: var(--fill-color);\n",
              "    }\n",
              "    20% {\n",
              "      border-color: transparent;\n",
              "      border-left-color: var(--fill-color);\n",
              "      border-top-color: var(--fill-color);\n",
              "    }\n",
              "    30% {\n",
              "      border-color: transparent;\n",
              "      border-left-color: var(--fill-color);\n",
              "      border-top-color: var(--fill-color);\n",
              "      border-right-color: var(--fill-color);\n",
              "    }\n",
              "    40% {\n",
              "      border-color: transparent;\n",
              "      border-right-color: var(--fill-color);\n",
              "      border-top-color: var(--fill-color);\n",
              "    }\n",
              "    60% {\n",
              "      border-color: transparent;\n",
              "      border-right-color: var(--fill-color);\n",
              "    }\n",
              "    80% {\n",
              "      border-color: transparent;\n",
              "      border-right-color: var(--fill-color);\n",
              "      border-bottom-color: var(--fill-color);\n",
              "    }\n",
              "    90% {\n",
              "      border-color: transparent;\n",
              "      border-bottom-color: var(--fill-color);\n",
              "    }\n",
              "  }\n",
              "</style>\n",
              "\n",
              "  <script>\n",
              "    async function quickchart(key) {\n",
              "      const quickchartButtonEl =\n",
              "        document.querySelector('#' + key + ' button');\n",
              "      quickchartButtonEl.disabled = true;  // To prevent multiple clicks.\n",
              "      quickchartButtonEl.classList.add('colab-df-spinner');\n",
              "      try {\n",
              "        const charts = await google.colab.kernel.invokeFunction(\n",
              "            'suggestCharts', [key], {});\n",
              "      } catch (error) {\n",
              "        console.error('Error during call to suggestCharts:', error);\n",
              "      }\n",
              "      quickchartButtonEl.classList.remove('colab-df-spinner');\n",
              "      quickchartButtonEl.classList.add('colab-df-quickchart-complete');\n",
              "    }\n",
              "    (() => {\n",
              "      let quickchartButtonEl =\n",
              "        document.querySelector('#df-815c4d9b-1e6d-4d42-a7de-b5ce428664c3 button');\n",
              "      quickchartButtonEl.style.display =\n",
              "        google.colab.kernel.accessAllowed ? 'block' : 'none';\n",
              "    })();\n",
              "  </script>\n",
              "</div>\n",
              "    </div>\n",
              "  </div>\n"
            ]
          },
          "metadata": {},
          "execution_count": 61
        }
      ]
    },
    {
      "cell_type": "code",
      "source": [
        "# Train test splitting! set  X, y\n",
        "X = my_dataframe.drop('variety', axis=1)\n",
        "y = my_dataframe['variety']\n"
      ],
      "metadata": {
        "id": "PfwTWGcDNBsH"
      },
      "execution_count": 62,
      "outputs": []
    },
    {
      "cell_type": "code",
      "source": [
        "# Convert these to numpy arrays\n",
        "X = X.values\n",
        "y = y.values"
      ],
      "metadata": {
        "id": "UjekJCyWYw3W"
      },
      "execution_count": 63,
      "outputs": []
    },
    {
      "cell_type": "code",
      "source": [
        "# Split test split\n",
        "\"\"\"\n",
        "Test size = 20%\n",
        "train size = 80%\n",
        "\"\"\"\n",
        "\n",
        "# from sklearn.model_selection import train_test_split\n",
        "# X_train, X_test, y_train, y_test = train_test_split(X, y, test_size=0.2, random_state=RANDOM)\n",
        "\n",
        "\n",
        "train_split = int(0.8 * len(X))\n",
        "X_train, y_train = X[:train_split], y[:train_split]\n",
        "X_test, y_test = X[train_split:], y[train_split:]\n",
        "\n"
      ],
      "metadata": {
        "id": "z3OcxdXDYjfO"
      },
      "execution_count": 89,
      "outputs": []
    },
    {
      "cell_type": "code",
      "source": [
        "# in built function to split the data\n",
        "type(X_train), type(X_test), type(y_train), type(y_test)"
      ],
      "metadata": {
        "colab": {
          "base_uri": "https://localhost:8080/"
        },
        "id": "yxPMNjKGCvfS",
        "outputId": "6c9b3bda-7975-49ea-c1c5-6fb292648f9f"
      },
      "execution_count": 88,
      "outputs": [
        {
          "output_type": "execute_result",
          "data": {
            "text/plain": [
              "(numpy.ndarray, numpy.ndarray, numpy.ndarray, numpy.ndarray)"
            ]
          },
          "metadata": {},
          "execution_count": 88
        }
      ]
    },
    {
      "cell_type": "code",
      "source": [
        "# manual split\n",
        "type(X_train), type(X_test), type(y_train), type(y_test)"
      ],
      "metadata": {
        "colab": {
          "base_uri": "https://localhost:8080/"
        },
        "id": "BUFnLW9-CfGg",
        "outputId": "c2a09a81-99fc-4853-c7ef-efaa9591a3d9"
      },
      "execution_count": 86,
      "outputs": [
        {
          "output_type": "execute_result",
          "data": {
            "text/plain": [
              "(numpy.ndarray, numpy.ndarray, numpy.ndarray, numpy.ndarray)"
            ]
          },
          "metadata": {},
          "execution_count": 86
        }
      ]
    },
    {
      "cell_type": "code",
      "source": [
        "len(X_train), len(y_train), len(X_test),  len(y_test)"
      ],
      "metadata": {
        "colab": {
          "base_uri": "https://localhost:8080/"
        },
        "id": "P2HZ9MgpDDX1",
        "outputId": "aff75a58-5133-4076-e0ce-6037e7ce268c"
      },
      "execution_count": 94,
      "outputs": [
        {
          "output_type": "execute_result",
          "data": {
            "text/plain": [
              "(120, 120, 30, 30)"
            ]
          },
          "metadata": {},
          "execution_count": 94
        }
      ]
    },
    {
      "cell_type": "code",
      "source": [
        "print(f\"X_train shape = {X_train.shape} - X_test shape = {X_test.shape} \")\n",
        "print(f\"y_train shape = {X_train.shape} - y_test shape = {y_train.shape}\")"
      ],
      "metadata": {
        "colab": {
          "base_uri": "https://localhost:8080/"
        },
        "id": "oQvqFStrGKoZ",
        "outputId": "2f9150a0-35f9-4fa7-c8d3-0578f75e8e00"
      },
      "execution_count": 112,
      "outputs": [
        {
          "output_type": "stream",
          "name": "stdout",
          "text": [
            "X_train shape = (120, 4) - X_test shape = (30, 4) \n",
            "y_train shape = (120, 4) - y_test shape = (120,)\n"
          ]
        }
      ]
    },
    {
      "cell_type": "markdown",
      "source": [
        "## data visualization using matplotlib"
      ],
      "metadata": {
        "id": "G_mWLEezDRNc"
      }
    },
    {
      "cell_type": "code",
      "source": [],
      "metadata": {
        "id": "L7wl9OGPD-Xi"
      },
      "execution_count": 96,
      "outputs": []
    },
    {
      "cell_type": "code",
      "source": [
        "import matplotlib.pyplot as plt\n",
        "from sklearn.decomposition import PCA\n",
        "\n",
        "# Assuming X_train and X_test are your feature matrices, and y_train and y_test are your labels\n",
        "\n",
        "# Use PCA to reduce dimensionality for visualization (adjust n_components as needed)\n",
        "pca = PCA(n_components=2)\n",
        "X_train_pca = pca.fit_transform(X_train)\n",
        "X_test_pca = pca.transform(X_test)\n",
        "\n",
        "# Visualize the training data\n",
        "plt.scatter(X_train_pca[:, 0], X_train_pca[:, 1], c=y_train, cmap='viridis', label='Train')\n",
        "plt.title('Training Data Visualization')\n",
        "plt.xlabel('Principal Component 1')\n",
        "plt.ylabel('Principal Component 2')\n",
        "plt.legend()\n",
        "plt.show()\n",
        "\n",
        "# Visualize the test data\n",
        "plt.scatter(X_test_pca[:, 0], X_test_pca[:, 1], c=y_test, cmap='viridis', label='Test')\n",
        "plt.title('Test Data Visualization')\n",
        "plt.xlabel('Principal Component 1')\n",
        "plt.ylabel('Principal Component 2')\n",
        "plt.legend()\n",
        "plt.show()\n"
      ],
      "metadata": {
        "colab": {
          "base_uri": "https://localhost:8080/",
          "height": 927
        },
        "id": "QZ_Gj07PDQeZ",
        "outputId": "2b1b7a70-76e0-4bce-ce40-7feb22802308"
      },
      "execution_count": 113,
      "outputs": [
        {
          "output_type": "display_data",
          "data": {
            "text/plain": [
              "<Figure size 640x480 with 1 Axes>"
            ],
            "image/png": "[encoded data removed]"
          },
          "metadata": {}
        },
        {
          "output_type": "display_data",
          "data": {
            "text/plain": [
              "<Figure size 640x480 with 1 Axes>"
            ],
            "image/png": "[encoded data removed]"
          },
          "metadata": {}
        }
      ]
    },
    {
      "cell_type": "code",
      "source": [
        "from sklearn import datasets\n",
        "\n",
        "iris = datasets.load_iris()\n",
        "\n",
        "\n",
        "# unused but required import for doing 3d projections with matplotlib < 3.2\n",
        "import mpl_toolkits.mplot3d  # noqa: F401\n",
        "\n",
        "from sklearn.decomposition import PCA\n",
        "\n",
        "fig = plt.figure(1, figsize=(8, 6))\n",
        "ax = fig.add_subplot(111, projection=\"3d\", elev=-150, azim=110)\n",
        "\n",
        "X_reduced = PCA(n_components=3).fit_transform(iris.data)\n",
        "ax.scatter(\n",
        "    X_reduced[:, 0],\n",
        "    X_reduced[:, 1],\n",
        "    X_reduced[:, 2],\n",
        "    c=iris.target,\n",
        "    s=40,\n",
        ")\n",
        "\n",
        "ax.set_title(\"First three PCA dimensions\")\n",
        "ax.set_xlabel(\"1st Eigenvector\")\n",
        "ax.xaxis.set_ticklabels([])\n",
        "ax.set_ylabel(\"2nd Eigenvector\")\n",
        "ax.yaxis.set_ticklabels([])\n",
        "ax.set_zlabel(\"3rd Eigenvector\")\n",
        "ax.zaxis.set_ticklabels([])\n",
        "\n",
        "plt.show()"
      ],
      "metadata": {
        "colab": {
          "base_uri": "https://localhost:8080/",
          "height": 521
        },
        "id": "THAp0ShiDYzE",
        "outputId": "e42ebf8c-8405-4b91-c6c3-409219fddf0a"
      },
      "execution_count": 117,
      "outputs": [
        {
          "output_type": "display_data",
          "data": {
            "text/plain": [
              "<Figure size 800x600 with 1 Axes>"
            ],
            "image/png": "[encoded data removed]"
          },
          "metadata": {}
        }
      ]
    },
    {
      "cell_type": "markdown",
      "source": [],
      "metadata": {
        "id": "wiZR57Mmisyo"
      }
    },
    {
      "cell_type": "code",
      "source": [
        "# converting X features to float tensor\n",
        "X_train = torch.FloatTensor(X_train)\n",
        "X_test = torch.FloatTensor(X_test)\n"
      ],
      "metadata": {
        "id": "s5EYezcUYwUC"
      },
      "execution_count": 65,
      "outputs": []
    },
    {
      "cell_type": "code",
      "source": [
        "# Converting y labels to tensor long\n",
        "y_train = torch.LongTensor(y_train)\n",
        "y_test = torch.LongTensor(y_test)"
      ],
      "metadata": {
        "id": "2cAhvs7EaikA"
      },
      "execution_count": 66,
      "outputs": []
    },
    {
      "cell_type": "code",
      "source": [
        "# Set the criteria of model to measure the erro, how far off the prediction are from the data\n",
        "criteria = nn.CrossEntropyLoss() # loss function\n",
        "\n",
        "# Choose Optimizer, lr = learning rate (if erro doesn't go down after a bunch of iteration (epochs), lower our learning rate)\n",
        "optimizer = torch.optim.Adam(model_0.parameters(), lr=0.01)"
      ],
      "metadata": {
        "id": "gRvAA2CWaeNn"
      },
      "execution_count": 67,
      "outputs": []
    },
    {
      "cell_type": "code",
      "source": [
        "model_0.parameters"
      ],
      "metadata": {
        "colab": {
          "base_uri": "https://localhost:8080/"
        },
        "id": "NUX23nkHadeT",
        "outputId": "07812aac-0d89-4ff0-9a8b-9e4de91c431a"
      },
      "execution_count": 68,
      "outputs": [
        {
          "output_type": "execute_result",
          "data": {
            "text/plain": [
              "<bound method Module.parameters of IrisDatasetModel(\n",
              "  (fc1): Linear(in_features=4, out_features=13, bias=True)\n",
              "  (fc2): Linear(in_features=13, out_features=15, bias=True)\n",
              "  (out): Linear(in_features=15, out_features=3, bias=True)\n",
              ")>"
            ]
          },
          "metadata": {},
          "execution_count": 68
        }
      ]
    },
    {
      "cell_type": "code",
      "source": [
        "# Train our model\n",
        "\n",
        "# epochs ? ( one run through all the training data in our network)\n",
        "epochs = 200\n",
        "\n",
        "loss_values = []\n",
        "epoch_count = []\n",
        "\n",
        "for epoch in range(epochs):\n",
        "  # model_0.train()\n",
        "\n",
        "  # Go forward and get a prediction\n",
        "  # basically means forward pass\n",
        "  y_pred = model_0.forward(X_train)   # get the predicted result\n",
        "\n",
        "  # measure the loss/error\n",
        "  loss = criteria(y_pred, y_train)    # predicted values vs the y_train\n",
        "\n",
        "  # print on every 10 epoch\n",
        "  if epoch % 10 == 0:\n",
        "    epoch_count.append(epoch)\n",
        "    loss_values.append(loss)\n",
        "    print(f\"Epoch: {epoch} and loss : {loss}\")\n",
        "\n",
        "  # backpropagation :- take the error of the previous step and feed it back through the network\n",
        "  # to fine tune the parameters\n",
        "  optimizer.zero_grad()\n",
        "  loss.backward()\n",
        "  optimizer.step()\n"
      ],
      "metadata": {
        "colab": {
          "base_uri": "https://localhost:8080/"
        },
        "id": "onYIviozhpQl",
        "outputId": "2212afc1-a020-45b1-fe59-7adcfb94a63c"
      },
      "execution_count": 69,
      "outputs": [
        {
          "output_type": "stream",
          "name": "stdout",
          "text": [
            "Epoch: 0 and loss : 1.1400972604751587\n",
            "Epoch: 10 and loss : 0.9413363337516785\n",
            "Epoch: 20 and loss : 0.6700056791305542\n",
            "Epoch: 30 and loss : 0.3779221475124359\n",
            "Epoch: 40 and loss : 0.2023150473833084\n",
            "Epoch: 50 and loss : 0.09338031709194183\n",
            "Epoch: 60 and loss : 0.052762679755687714\n",
            "Epoch: 70 and loss : 0.03897128254175186\n",
            "Epoch: 80 and loss : 0.032737504690885544\n",
            "Epoch: 90 and loss : 0.02899477630853653\n",
            "Epoch: 100 and loss : 0.02627052552998066\n",
            "Epoch: 110 and loss : 0.024121960625052452\n",
            "Epoch: 120 and loss : 0.02235816977918148\n",
            "Epoch: 130 and loss : 0.02086477540433407\n",
            "Epoch: 140 and loss : 0.019564837217330933\n",
            "Epoch: 150 and loss : 0.01840483956038952\n",
            "Epoch: 160 and loss : 0.017350753769278526\n",
            "Epoch: 170 and loss : 0.016380002722144127\n",
            "Epoch: 180 and loss : 0.015479124151170254\n",
            "Epoch: 190 and loss : 0.014637342654168606\n"
          ]
        }
      ]
    },
    {
      "cell_type": "code",
      "source": [
        "epoch_count, loss_values"
      ],
      "metadata": {
        "colab": {
          "base_uri": "https://localhost:8080/"
        },
        "id": "hFESvfVsl09V",
        "outputId": "a1c943f2-1eae-4329-e26b-18d1b8969b3d"
      },
      "execution_count": 70,
      "outputs": [
        {
          "output_type": "execute_result",
          "data": {
            "text/plain": [
              "([0,\n",
              "  10,\n",
              "  20,\n",
              "  30,\n",
              "  40,\n",
              "  50,\n",
              "  60,\n",
              "  70,\n",
              "  80,\n",
              "  90,\n",
              "  100,\n",
              "  110,\n",
              "  120,\n",
              "  130,\n",
              "  140,\n",
              "  150,\n",
              "  160,\n",
              "  170,\n",
              "  180,\n",
              "  190],\n",
              " [tensor(1.1401, grad_fn=<NllLossBackward0>),\n",
              "  tensor(0.9413, grad_fn=<NllLossBackward0>),\n",
              "  tensor(0.6700, grad_fn=<NllLossBackward0>),\n",
              "  tensor(0.3779, grad_fn=<NllLossBackward0>),\n",
              "  tensor(0.2023, grad_fn=<NllLossBackward0>),\n",
              "  tensor(0.0934, grad_fn=<NllLossBackward0>),\n",
              "  tensor(0.0528, grad_fn=<NllLossBackward0>),\n",
              "  tensor(0.0390, grad_fn=<NllLossBackward0>),\n",
              "  tensor(0.0327, grad_fn=<NllLossBackward0>),\n",
              "  tensor(0.0290, grad_fn=<NllLossBackward0>),\n",
              "  tensor(0.0263, grad_fn=<NllLossBackward0>),\n",
              "  tensor(0.0241, grad_fn=<NllLossBackward0>),\n",
              "  tensor(0.0224, grad_fn=<NllLossBackward0>),\n",
              "  tensor(0.0209, grad_fn=<NllLossBackward0>),\n",
              "  tensor(0.0196, grad_fn=<NllLossBackward0>),\n",
              "  tensor(0.0184, grad_fn=<NllLossBackward0>),\n",
              "  tensor(0.0174, grad_fn=<NllLossBackward0>),\n",
              "  tensor(0.0164, grad_fn=<NllLossBackward0>),\n",
              "  tensor(0.0155, grad_fn=<NllLossBackward0>),\n",
              "  tensor(0.0146, grad_fn=<NllLossBackward0>)])"
            ]
          },
          "metadata": {},
          "execution_count": 70
        }
      ]
    },
    {
      "cell_type": "code",
      "source": [],
      "metadata": {
        "id": "kAvGDMRkkbcK"
      },
      "execution_count": 70,
      "outputs": []
    },
    {
      "cell_type": "code",
      "source": [
        "# Graph it out\n",
        "plt.plot(epoch_count, torch.tensor(loss_values).cpu().numpy())\n",
        "plt.ylabel(\"loss/error\")\n",
        "plt.xlabel(\"Epoch\")"
      ],
      "metadata": {
        "colab": {
          "base_uri": "https://localhost:8080/",
          "height": 466
        },
        "id": "1db6NVO2iZfG",
        "outputId": "0ef5ebb0-f62b-4873-c5f7-0a657735251a"
      },
      "execution_count": 71,
      "outputs": [
        {
          "output_type": "execute_result",
          "data": {
            "text/plain": [
              "Text(0.5, 0, 'Epoch')"
            ]
          },
          "metadata": {},
          "execution_count": 71
        },
        {
          "output_type": "display_data",
          "data": {
            "text/plain": [
              "<Figure size 640x480 with 1 Axes>"
            ],
            "image/png": "[encoded data removed]"
          },
          "metadata": {}
        }
      ]
    },
    {
      "cell_type": "code",
      "source": [
        "# Evaluate model on the test dataset (validate model on the test set )\n",
        "with torch.inference_mode(): # <- turn off the backpropagation\n",
        "  y_eval = model_0.forward(X_test)    # X_test are the features from the test set, y_eval will the prediction of the model\n",
        "  loss = criteria(y_eval, y_test)     # loss\n",
        "\n"
      ],
      "metadata": {
        "id": "FEIHJlFXj7kh"
      },
      "execution_count": 72,
      "outputs": []
    },
    {
      "cell_type": "code",
      "source": [
        "loss"
      ],
      "metadata": {
        "colab": {
          "base_uri": "https://localhost:8080/"
        },
        "id": "ysfC1FOAnryp",
        "outputId": "8a29c7cc-68b7-4501-ee75-c792af0f1d1a"
      },
      "execution_count": 73,
      "outputs": [
        {
          "output_type": "execute_result",
          "data": {
            "text/plain": [
              "tensor(0.2621)"
            ]
          },
          "metadata": {},
          "execution_count": 73
        }
      ]
    },
    {
      "cell_type": "code",
      "source": [
        "def print_item(item):\n",
        "    if item == 0:\n",
        "      x = \"Setosa\"\n",
        "    elif item == 1:\n",
        "      x = \"Versicolor\"\n",
        "    else:\n",
        "      x = \"Virginica\"\n",
        "\n",
        "    return x\n",
        "\n",
        "\n",
        "correct = 0\n",
        "with torch.no_grad():\n",
        "  for i, data in enumerate(X_test):\n",
        "    y_val = model_0.forward(data)\n",
        "\n",
        "    predicted_flower = print_item(y_val.argmax().item())\n",
        "\n",
        "    correct_flower = print_item(y_test[i])\n",
        "\n",
        "\n",
        "    # will tell that what types of flower class our network thinks it\n",
        "    hit_miss= \"  - miss\" if predicted_flower!= correct_flower else \"  - hit\"\n",
        "    print(f\"{i+1:3}|  predicted tensor : {str(y_val):38}   |   correct: {y_test[i]} - {correct_flower:12} |  predicted: {y_val.argmax().item()} - {predicted_flower:20} | {hit_miss} \")\n",
        "\n",
        "\n",
        "\n",
        "    # correct or not\n",
        "    if y_val.argmax().item() == y_test[i]:\n",
        "      correct +=1\n",
        "\n",
        "print(f\"we got {correct} correct\")"
      ],
      "metadata": {
        "colab": {
          "base_uri": "https://localhost:8080/"
        },
        "id": "py0O1oG-n5GN",
        "outputId": "9ddba5f5-8d39-402e-fadb-0556dcaaa27e"
      },
      "execution_count": 83,
      "outputs": [
        {
          "output_type": "stream",
          "name": "stdout",
          "text": [
            "  1|  predicted tensor : tensor([-4.1212,  4.6919, -0.0585])      |   correct: 1 - Versicolor   |  predicted: 1 - Versicolor           |   - hit \n",
            "  2|  predicted tensor : tensor([-11.5530,  -4.3749,  13.2192])   |   correct: 2 - Virginica    |  predicted: 2 - Virginica            |   - hit \n",
            "  3|  predicted tensor : tensor([ 10.1479,   1.9961, -13.4101])   |   correct: 0 - Setosa       |  predicted: 0 - Setosa               |   - hit \n",
            "  4|  predicted tensor : tensor([-2.3746,  6.7994, -3.1251])      |   correct: 1 - Versicolor   |  predicted: 1 - Versicolor           |   - hit \n",
            "  5|  predicted tensor : tensor([-9.4180, -0.9199,  8.7385])      |   correct: 2 - Virginica    |  predicted: 2 - Virginica            |   - hit \n",
            "  6|  predicted tensor : tensor([  9.8937,   2.1503, -13.1942])   |   correct: 0 - Setosa       |  predicted: 0 - Setosa               |   - hit \n",
            "  7|  predicted tensor : tensor([-6.9495,  1.5475,  4.7620])      |   correct: 2 - Virginica    |  predicted: 2 - Virginica            |   - hit \n",
            "  8|  predicted tensor : tensor([-1.9484,  6.9836, -3.6713])      |   correct: 1 - Versicolor   |  predicted: 1 - Versicolor           |   - hit \n",
            "  9|  predicted tensor : tensor([ 12.6464,   2.3029, -16.6836])   |   correct: 0 - Setosa       |  predicted: 0 - Setosa               |   - hit \n",
            " 10|  predicted tensor : tensor([ 11.0572,   2.2729, -14.6995])   |   correct: 0 - Setosa       |  predicted: 0 - Setosa               |   - hit \n",
            " 11|  predicted tensor : tensor([-9.3683, -1.8335,  9.4103])      |   correct: 2 - Virginica    |  predicted: 2 - Virginica            |   - hit \n",
            " 12|  predicted tensor : tensor([-2.7739,  7.0658, -3.0085])      |   correct: 1 - Versicolor   |  predicted: 1 - Versicolor           |   - hit \n",
            " 13|  predicted tensor : tensor([-6.1304,  2.4777,  3.3463])      |   correct: 2 - Virginica    |  predicted: 2 - Virginica            |   - hit \n",
            " 14|  predicted tensor : tensor([  9.9526,   1.6337, -12.9438])   |   correct: 0 - Setosa       |  predicted: 0 - Setosa               |   - hit \n",
            " 15|  predicted tensor : tensor([-11.9317,  -2.5324,  12.0687])   |   correct: 2 - Virginica    |  predicted: 2 - Virginica            |   - hit \n",
            " 16|  predicted tensor : tensor([-7.6245,  0.3491,  6.2561])      |   correct: 1 - Versicolor   |  predicted: 2 - Virginica            |   - miss \n",
            " 17|  predicted tensor : tensor([-6.2889,  2.3366,  3.5969])      |   correct: 1 - Versicolor   |  predicted: 2 - Virginica            |   - miss \n",
            " 18|  predicted tensor : tensor([-3.7216,  5.6275, -1.1188])      |   correct: 1 - Versicolor   |  predicted: 1 - Versicolor           |   - hit \n",
            " 19|  predicted tensor : tensor([-10.9381,  -4.3537,  12.6945])   |   correct: 2 - Virginica    |  predicted: 2 - Virginica            |   - hit \n",
            " 20|  predicted tensor : tensor([  9.5105,   1.9954, -12.6268])   |   correct: 0 - Setosa       |  predicted: 0 - Setosa               |   - hit \n",
            " 21|  predicted tensor : tensor([-9.3724, -1.2486,  8.9552])      |   correct: 2 - Virginica    |  predicted: 2 - Virginica            |   - hit \n",
            " 22|  predicted tensor : tensor([-13.5021,  -6.7454,  16.6829])   |   correct: 2 - Virginica    |  predicted: 2 - Virginica            |   - hit \n",
            " 23|  predicted tensor : tensor([ 10.3707,   2.5170, -14.0090])   |   correct: 0 - Setosa       |  predicted: 0 - Setosa               |   - hit \n",
            " 24|  predicted tensor : tensor([-11.1463,  -3.8180,  12.4445])   |   correct: 2 - Virginica    |  predicted: 2 - Virginica            |   - hit \n",
            " 25|  predicted tensor : tensor([-2.1373,  6.3234, -2.9525])      |   correct: 1 - Versicolor   |  predicted: 1 - Versicolor           |   - hit \n",
            " 26|  predicted tensor : tensor([ 10.3175,   1.9373, -13.5816])   |   correct: 0 - Setosa       |  predicted: 0 - Setosa               |   - hit \n",
            " 27|  predicted tensor : tensor([-3.2536,  7.1107, -2.6637])      |   correct: 1 - Versicolor   |  predicted: 1 - Versicolor           |   - hit \n",
            " 28|  predicted tensor : tensor([-2.3946,  6.1631, -2.6209])      |   correct: 1 - Versicolor   |  predicted: 1 - Versicolor           |   - hit \n",
            " 29|  predicted tensor : tensor([-3.6417,  6.2672, -1.6824])      |   correct: 1 - Versicolor   |  predicted: 1 - Versicolor           |   - hit \n",
            " 30|  predicted tensor : tensor([-4.4609,  4.0037,  0.7615])      |   correct: 1 - Versicolor   |  predicted: 1 - Versicolor           |   - hit \n",
            "we got 28 correct\n"
          ]
        }
      ]
    },
    {
      "cell_type": "code",
      "source": [],
      "metadata": {
        "id": "lpBCuDxzocFW"
      },
      "execution_count": 74,
      "outputs": []
    },
    {
      "cell_type": "markdown",
      "source": [
        "# Evaluate the new data on the network"
      ],
      "metadata": {
        "id": "FRUYoVX14YeE"
      }
    },
    {
      "cell_type": "code",
      "source": [
        "# new data to evaluate\n",
        "new_iris = torch.tensor([4.7, 4.2, 1.3, 0.2])\n"
      ],
      "metadata": {
        "id": "SUQosfGa4X-5"
      },
      "execution_count": 75,
      "outputs": []
    },
    {
      "cell_type": "code",
      "source": [
        "with torch.no_grad():\n",
        "  print(model_0(new_iris))"
      ],
      "metadata": {
        "colab": {
          "base_uri": "https://localhost:8080/"
        },
        "id": "FImF1M9p4X8J",
        "outputId": "43387a36-5691-40b2-b476-d973ead50b4f"
      },
      "execution_count": 76,
      "outputs": [
        {
          "output_type": "stream",
          "name": "stdout",
          "text": [
            "tensor([ 11.8907,   1.7815, -15.4369])\n"
          ]
        }
      ]
    },
    {
      "cell_type": "code",
      "source": [
        "newer_iris = torch.tensor([5.9,3.0, 5.1, 1.8])\n",
        "with torch.no_grad():\n",
        "  print(model_0(newer_iris))"
      ],
      "metadata": {
        "colab": {
          "base_uri": "https://localhost:8080/"
        },
        "id": "zVO4wmxv4XrF",
        "outputId": "1333f975-69ed-46ec-9129-60f2fb0a9f47"
      },
      "execution_count": 77,
      "outputs": [
        {
          "output_type": "stream",
          "name": "stdout",
          "text": [
            "tensor([-7.7686,  0.2137,  6.4768])\n"
          ]
        }
      ]
    },
    {
      "cell_type": "code",
      "source": [],
      "metadata": {
        "id": "J5ztRmbq5JMy"
      },
      "execution_count": 77,
      "outputs": []
    },
    {
      "cell_type": "code",
      "source": [],
      "metadata": {
        "id": "QyQbDMt95TrO"
      },
      "execution_count": 77,
      "outputs": []
    },
    {
      "cell_type": "markdown",
      "source": [
        "# Saving and load our NN model\n"
      ],
      "metadata": {
        "id": "F_s6O9oO5UNv"
      }
    },
    {
      "cell_type": "code",
      "source": [
        "from google.colab import drive\n",
        "drive.mount('/content/drive')\n",
        "\n",
        "torch.save(model_0.state_dict(),'drive/MyDrive/models/model_from_iris.pt')"
      ],
      "metadata": {
        "id": "hgTr0BwC5TPJ",
        "colab": {
          "base_uri": "https://localhost:8080/"
        },
        "outputId": "40079905-705b-499a-9d1a-8c51f1a6ce4b"
      },
      "execution_count": 78,
      "outputs": [
        {
          "output_type": "stream",
          "name": "stdout",
          "text": [
            "Drive already mounted at /content/drive; to attempt to forcibly remount, call drive.mount(\"/content/drive\", force_remount=True).\n"
          ]
        }
      ]
    },
    {
      "cell_type": "markdown",
      "source": [
        "# Loading the saved model"
      ],
      "metadata": {
        "id": "R6F9PQtu50Bn"
      }
    },
    {
      "cell_type": "code",
      "source": [
        "saved_model = IrisDatasetModel()"
      ],
      "metadata": {
        "id": "3tp5cagL5xPC"
      },
      "execution_count": 79,
      "outputs": []
    },
    {
      "cell_type": "code",
      "source": [
        "saved_model.state_dict()"
      ],
      "metadata": {
        "colab": {
          "base_uri": "https://localhost:8080/"
        },
        "id": "DvUS9ueL6KPQ",
        "outputId": "e0b3795b-d6c3-44d7-eef0-c2d3dd3102d3"
      },
      "execution_count": 80,
      "outputs": [
        {
          "output_type": "execute_result",
          "data": {
            "text/plain": [
              "OrderedDict([('fc1.weight',\n",
              "              tensor([[ 0.3298,  0.3746, -0.0425, -0.4322],\n",
              "                      [ 0.3318,  0.2112, -0.4302,  0.2749],\n",
              "                      [-0.3141,  0.4431, -0.2441,  0.4795],\n",
              "                      [ 0.4757, -0.4838,  0.3304,  0.3954],\n",
              "                      [-0.3672,  0.1522, -0.1491, -0.0574],\n",
              "                      [ 0.4599, -0.2142,  0.1616,  0.1999],\n",
              "                      [ 0.1345,  0.4934, -0.1345,  0.1558],\n",
              "                      [-0.4463,  0.1194,  0.0949,  0.3816],\n",
              "                      [ 0.2099, -0.1926,  0.2638,  0.3767],\n",
              "                      [-0.1481,  0.0042, -0.1717, -0.4041],\n",
              "                      [-0.0910, -0.2276, -0.4707,  0.1472],\n",
              "                      [-0.0428, -0.4239,  0.3426, -0.2467],\n",
              "                      [ 0.4539, -0.4637, -0.0863,  0.0392]])),\n",
              "             ('fc1.bias',\n",
              "              tensor([ 0.3505, -0.1065, -0.4549, -0.2411, -0.1078,  0.1211,  0.2112, -0.2081,\n",
              "                       0.3951, -0.0246, -0.3644, -0.0774,  0.2820])),\n",
              "             ('fc2.weight',\n",
              "              tensor([[-0.2324,  0.1887, -0.1370,  0.0609,  0.1884,  0.2660, -0.1291,  0.0300,\n",
              "                        0.0458, -0.1674,  0.0260, -0.0872,  0.1548],\n",
              "                      [ 0.1425, -0.0136,  0.0445, -0.1215, -0.0408, -0.0677, -0.0858,  0.2704,\n",
              "                       -0.1485, -0.1274,  0.0304, -0.1180,  0.2011],\n",
              "                      [-0.0147,  0.1962,  0.2489, -0.2694,  0.2161,  0.1404,  0.1372,  0.2534,\n",
              "                       -0.2341,  0.1792, -0.1723,  0.1606,  0.2358],\n",
              "                      [-0.0181, -0.2228,  0.1592, -0.0245, -0.0702, -0.1816,  0.2246, -0.1086,\n",
              "                       -0.2462, -0.1422,  0.0286, -0.2469, -0.2201],\n",
              "                      [ 0.1029,  0.0690, -0.0247, -0.0807, -0.0642, -0.1529, -0.2656,  0.1720,\n",
              "                        0.1952,  0.1283,  0.0747,  0.0322,  0.2253],\n",
              "                      [-0.1167, -0.1092, -0.0816, -0.1294, -0.0878,  0.0482, -0.0483, -0.0354,\n",
              "                       -0.2460,  0.2075,  0.2062,  0.1803, -0.1949],\n",
              "                      [ 0.2755,  0.0892,  0.0628,  0.1265,  0.0946, -0.1886,  0.0126, -0.0750,\n",
              "                        0.0811,  0.2534,  0.1520,  0.1244, -0.2192],\n",
              "                      [ 0.2419,  0.1068,  0.2360, -0.1994,  0.2168, -0.1123, -0.1440, -0.1656,\n",
              "                       -0.2103, -0.0230,  0.0022,  0.0864,  0.1247],\n",
              "                      [-0.1102,  0.2465,  0.0192,  0.1195, -0.1173, -0.0351,  0.1576, -0.0068,\n",
              "                       -0.1533, -0.1227,  0.2003,  0.1119,  0.2504],\n",
              "                      [ 0.1847, -0.0079,  0.2332,  0.2020,  0.1085, -0.2253, -0.0411,  0.0395,\n",
              "                        0.1016, -0.2674,  0.1433,  0.1278, -0.1149],\n",
              "                      [-0.0611, -0.0805, -0.0367, -0.1035,  0.0122,  0.2571, -0.1996,  0.1435,\n",
              "                       -0.1911,  0.0891,  0.1344,  0.2144,  0.0192],\n",
              "                      [-0.1991,  0.0153,  0.0612, -0.2193,  0.2465,  0.2112, -0.2644,  0.2298,\n",
              "                       -0.0556, -0.1609, -0.1949, -0.0593, -0.2118],\n",
              "                      [ 0.1989, -0.2295,  0.0274,  0.1889,  0.0833,  0.0571, -0.2145, -0.0807,\n",
              "                       -0.2488, -0.1083, -0.2670,  0.0421,  0.1078],\n",
              "                      [ 0.1021, -0.1181,  0.0546,  0.0903, -0.0496,  0.1920, -0.0700, -0.0325,\n",
              "                        0.1789, -0.1920, -0.1113,  0.2173,  0.2515],\n",
              "                      [-0.0622,  0.1507, -0.2262, -0.1369, -0.1121, -0.1261,  0.1245, -0.1024,\n",
              "                       -0.2077,  0.2193,  0.0054, -0.0631,  0.1251]])),\n",
              "             ('fc2.bias',\n",
              "              tensor([-0.2252, -0.1156,  0.0785,  0.0485, -0.0248,  0.1307, -0.0321, -0.2350,\n",
              "                      -0.0648, -0.1546,  0.2419, -0.1038, -0.0294, -0.2160, -0.2304])),\n",
              "             ('out.weight',\n",
              "              tensor([[-0.0165,  0.2135,  0.1624,  0.2084,  0.0258, -0.0516, -0.1331,  0.1346,\n",
              "                        0.0569, -0.1547, -0.1858, -0.1746,  0.1657,  0.2269,  0.1388],\n",
              "                      [-0.2401,  0.0888, -0.1424,  0.2227,  0.2548, -0.0535,  0.1287,  0.2265,\n",
              "                       -0.0480, -0.1447, -0.2204, -0.2008,  0.0821,  0.2361, -0.2373],\n",
              "                      [-0.0057, -0.0775,  0.2241,  0.0611, -0.2372, -0.0801,  0.1592, -0.1350,\n",
              "                        0.1766,  0.1324,  0.2350,  0.1885,  0.0741, -0.1910,  0.0035]])),\n",
              "             ('out.bias', tensor([ 0.0244, -0.1245, -0.0004]))])"
            ]
          },
          "metadata": {},
          "execution_count": 80
        }
      ]
    },
    {
      "cell_type": "code",
      "source": [
        "saved_model.load_state_dict(torch.load('model_from_iris.pt'))"
      ],
      "metadata": {
        "colab": {
          "base_uri": "https://localhost:8080/",
          "height": 321
        },
        "id": "TvSEhoH958C7",
        "outputId": "18f6b042-467f-409f-acf5-cf3743a41575"
      },
      "execution_count": 81,
      "outputs": [
        {
          "output_type": "error",
          "ename": "FileNotFoundError",
          "evalue": "ignored",
          "traceback": [
            "\u001b[0;31m---------------------------------------------------------------------------\u001b[0m",
            "\u001b[0;31mFileNotFoundError\u001b[0m                         Traceback (most recent call last)",
            "\u001b[0;32m<ipython-input-81-058e71878c85>\u001b[0m in \u001b[0;36m<cell line: 1>\u001b[0;34m()\u001b[0m\n\u001b[0;32m----> 1\u001b[0;31m \u001b[0msaved_model\u001b[0m\u001b[0;34m.\u001b[0m\u001b[0mload_state_dict\u001b[0m\u001b[0;34m(\u001b[0m\u001b[0mtorch\u001b[0m\u001b[0;34m.\u001b[0m\u001b[0mload\u001b[0m\u001b[0;34m(\u001b[0m\u001b[0;34m'model_from_iris.pt'\u001b[0m\u001b[0;34m)\u001b[0m\u001b[0;34m)\u001b[0m\u001b[0;34m\u001b[0m\u001b[0;34m\u001b[0m\u001b[0m\n\u001b[0m",
            "\u001b[0;32m/usr/local/lib/python3.10/dist-packages/torch/serialization.py\u001b[0m in \u001b[0;36mload\u001b[0;34m(f, map_location, pickle_module, weights_only, mmap, **pickle_load_args)\u001b[0m\n\u001b[1;32m    984\u001b[0m         \u001b[0mpickle_load_args\u001b[0m\u001b[0;34m[\u001b[0m\u001b[0;34m'encoding'\u001b[0m\u001b[0;34m]\u001b[0m \u001b[0;34m=\u001b[0m \u001b[0;34m'utf-8'\u001b[0m\u001b[0;34m\u001b[0m\u001b[0;34m\u001b[0m\u001b[0m\n\u001b[1;32m    985\u001b[0m \u001b[0;34m\u001b[0m\u001b[0m\n\u001b[0;32m--> 986\u001b[0;31m     \u001b[0;32mwith\u001b[0m \u001b[0m_open_file_like\u001b[0m\u001b[0;34m(\u001b[0m\u001b[0mf\u001b[0m\u001b[0;34m,\u001b[0m \u001b[0;34m'rb'\u001b[0m\u001b[0;34m)\u001b[0m \u001b[0;32mas\u001b[0m \u001b[0mopened_file\u001b[0m\u001b[0;34m:\u001b[0m\u001b[0;34m\u001b[0m\u001b[0;34m\u001b[0m\u001b[0m\n\u001b[0m\u001b[1;32m    987\u001b[0m         \u001b[0;32mif\u001b[0m \u001b[0m_is_zipfile\u001b[0m\u001b[0;34m(\u001b[0m\u001b[0mopened_file\u001b[0m\u001b[0;34m)\u001b[0m\u001b[0;34m:\u001b[0m\u001b[0;34m\u001b[0m\u001b[0;34m\u001b[0m\u001b[0m\n\u001b[1;32m    988\u001b[0m             \u001b[0;31m# The zipfile reader is going to advance the current file position.\u001b[0m\u001b[0;34m\u001b[0m\u001b[0;34m\u001b[0m\u001b[0m\n",
            "\u001b[0;32m/usr/local/lib/python3.10/dist-packages/torch/serialization.py\u001b[0m in \u001b[0;36m_open_file_like\u001b[0;34m(name_or_buffer, mode)\u001b[0m\n\u001b[1;32m    433\u001b[0m \u001b[0;32mdef\u001b[0m \u001b[0m_open_file_like\u001b[0m\u001b[0;34m(\u001b[0m\u001b[0mname_or_buffer\u001b[0m\u001b[0;34m,\u001b[0m \u001b[0mmode\u001b[0m\u001b[0;34m)\u001b[0m\u001b[0;34m:\u001b[0m\u001b[0;34m\u001b[0m\u001b[0;34m\u001b[0m\u001b[0m\n\u001b[1;32m    434\u001b[0m     \u001b[0;32mif\u001b[0m \u001b[0m_is_path\u001b[0m\u001b[0;34m(\u001b[0m\u001b[0mname_or_buffer\u001b[0m\u001b[0;34m)\u001b[0m\u001b[0;34m:\u001b[0m\u001b[0;34m\u001b[0m\u001b[0;34m\u001b[0m\u001b[0m\n\u001b[0;32m--> 435\u001b[0;31m         \u001b[0;32mreturn\u001b[0m \u001b[0m_open_file\u001b[0m\u001b[0;34m(\u001b[0m\u001b[0mname_or_buffer\u001b[0m\u001b[0;34m,\u001b[0m \u001b[0mmode\u001b[0m\u001b[0;34m)\u001b[0m\u001b[0;34m\u001b[0m\u001b[0;34m\u001b[0m\u001b[0m\n\u001b[0m\u001b[1;32m    436\u001b[0m     \u001b[0;32melse\u001b[0m\u001b[0;34m:\u001b[0m\u001b[0;34m\u001b[0m\u001b[0;34m\u001b[0m\u001b[0m\n\u001b[1;32m    437\u001b[0m         \u001b[0;32mif\u001b[0m \u001b[0;34m'w'\u001b[0m \u001b[0;32min\u001b[0m \u001b[0mmode\u001b[0m\u001b[0;34m:\u001b[0m\u001b[0;34m\u001b[0m\u001b[0;34m\u001b[0m\u001b[0m\n",
            "\u001b[0;32m/usr/local/lib/python3.10/dist-packages/torch/serialization.py\u001b[0m in \u001b[0;36m__init__\u001b[0;34m(self, name, mode)\u001b[0m\n\u001b[1;32m    414\u001b[0m \u001b[0;32mclass\u001b[0m \u001b[0m_open_file\u001b[0m\u001b[0;34m(\u001b[0m\u001b[0m_opener\u001b[0m\u001b[0;34m)\u001b[0m\u001b[0;34m:\u001b[0m\u001b[0;34m\u001b[0m\u001b[0;34m\u001b[0m\u001b[0m\n\u001b[1;32m    415\u001b[0m     \u001b[0;32mdef\u001b[0m \u001b[0m__init__\u001b[0m\u001b[0;34m(\u001b[0m\u001b[0mself\u001b[0m\u001b[0;34m,\u001b[0m \u001b[0mname\u001b[0m\u001b[0;34m,\u001b[0m \u001b[0mmode\u001b[0m\u001b[0;34m)\u001b[0m\u001b[0;34m:\u001b[0m\u001b[0;34m\u001b[0m\u001b[0;34m\u001b[0m\u001b[0m\n\u001b[0;32m--> 416\u001b[0;31m         \u001b[0msuper\u001b[0m\u001b[0;34m(\u001b[0m\u001b[0;34m)\u001b[0m\u001b[0;34m.\u001b[0m\u001b[0m__init__\u001b[0m\u001b[0;34m(\u001b[0m\u001b[0mopen\u001b[0m\u001b[0;34m(\u001b[0m\u001b[0mname\u001b[0m\u001b[0;34m,\u001b[0m \u001b[0mmode\u001b[0m\u001b[0;34m)\u001b[0m\u001b[0;34m)\u001b[0m\u001b[0;34m\u001b[0m\u001b[0;34m\u001b[0m\u001b[0m\n\u001b[0m\u001b[1;32m    417\u001b[0m \u001b[0;34m\u001b[0m\u001b[0m\n\u001b[1;32m    418\u001b[0m     \u001b[0;32mdef\u001b[0m \u001b[0m__exit__\u001b[0m\u001b[0;34m(\u001b[0m\u001b[0mself\u001b[0m\u001b[0;34m,\u001b[0m \u001b[0;34m*\u001b[0m\u001b[0margs\u001b[0m\u001b[0;34m)\u001b[0m\u001b[0;34m:\u001b[0m\u001b[0;34m\u001b[0m\u001b[0;34m\u001b[0m\u001b[0m\n",
            "\u001b[0;31mFileNotFoundError\u001b[0m: [Errno 2] No such file or directory: 'model_from_iris.pt'"
          ]
        }
      ]
    },
    {
      "cell_type": "code",
      "source": [
        "saved_model.eval()"
      ],
      "metadata": {
        "id": "cmwFcE6X6Iz7"
      },
      "execution_count": null,
      "outputs": []
    },
    {
      "cell_type": "code",
      "source": [
        "!pip install google-colab\n"
      ],
      "metadata": {
        "id": "mwfq-0Zo6Zj-"
      },
      "execution_count": null,
      "outputs": []
    },
    {
      "cell_type": "code",
      "source": [],
      "metadata": {
        "id": "A2CxWr22rpZr"
      },
      "execution_count": null,
      "outputs": []
    }
  ]
}