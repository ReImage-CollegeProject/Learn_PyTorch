{
  "cells": [
    {
      "cell_type": "markdown",
      "metadata": {
        "id": "view-in-github",
        "colab_type": "text"
      },
      "source": [
        "<a href=\"https://colab.research.google.com/github/ReImage-CollegeProject/Learn_PyTorch/blob/main/01_PyTorch_Workflow.ipynb\" target=\"_parent\"><img src=\"https://colab.research.google.com/assets/colab-badge.svg\" alt=\"Open In Colab\"/></a>"
      ]
    },
    {
      "cell_type": "markdown",
      "metadata": {
        "id": "3La8kmHWaCkI"
      },
      "source": [
        "# Pytorch Workflow\n",
        "\n",
        "Resources:\n",
        "* Book : https://www.learnpytorch.io/01_pytorch_workflow/"
      ]
    },
    {
      "cell_type": "code",
      "execution_count": 48,
      "metadata": {
        "id": "RYLCtvzqZvXk"
      },
      "outputs": [],
      "source": []
    },
    {
      "cell_type": "markdown",
      "metadata": {
        "id": "VHTMtAmoa3Rg"
      },
      "source": []
    },
    {
      "cell_type": "code",
      "execution_count": 49,
      "metadata": {
        "colab": {
          "base_uri": "https://localhost:8080/"
        },
        "id": "fxyN2ED5bD3o",
        "outputId": "e926791d-2c90-489e-be19-49b6a1505f45"
      },
      "outputs": [
        {
          "output_type": "execute_result",
          "data": {
            "text/plain": [
              "{1: 'data (prepare and load)',\n",
              " 2: 'build model',\n",
              " 3: 'fitting the model to data (training)',\n",
              " 4: 'making predictions and evaluating a model (inferences)',\n",
              " 5: 'saving and loading a model',\n",
              " 6: 'putting it all together'}"
            ]
          },
          "metadata": {},
          "execution_count": 49
        }
      ],
      "source": [
        "what_we_are_covering = {\n",
        "    1: \"data (prepare and load)\",\n",
        "    2: \"build model\",\n",
        "    3: \"fitting the model to data (training)\",\n",
        "    4: \"making predictions and evaluating a model (inferences)\",\n",
        "    5: \"saving and loading a model\",\n",
        "    6: \"putting it all together\"\n",
        "}\n",
        "\n",
        "what_we_are_covering"
      ]
    },
    {
      "cell_type": "code",
      "execution_count": 17,
      "metadata": {
        "colab": {
          "base_uri": "https://localhost:8080/",
          "height": 36
        },
        "id": "-GCVKJAVbhRN",
        "outputId": "6b40f949-9644-46c2-c095-3fb99f06729d"
      },
      "outputs": [
        {
          "output_type": "execute_result",
          "data": {
            "text/plain": [
              "'2.1.0+cu121'"
            ],
            "application/vnd.google.colaboratory.intrinsic+json": {
              "type": "string"
            }
          },
          "metadata": {},
          "execution_count": 17
        }
      ],
      "source": [
        "import torch\n",
        "from torch import nn    # nn contains all of PyTorch's building blocks for neural network\n",
        "import matplotlib.pyplot as plt\n",
        "\n",
        "\n",
        "## check PyTorch version\n",
        "torch.__version__\n"
      ]
    },
    {
      "cell_type": "markdown",
      "metadata": {
        "id": "pYBe0SgKcI-Y"
      },
      "source": [
        "## 1. Data (Preparing and Loading)\n",
        "\n",
        "data can be almost anything .. in machin leanring\n",
        "* Excel spreadsheet\n",
        "* images of any kind\n",
        "* videos (YouTube has lots of data..)\n",
        "* audio like songs or podcasts\n",
        "* DNA\n",
        "* text\n",
        "\n",
        "Machine leaning is a game of two parts:\n",
        "1. Get data into a numerical representation\n",
        "2. Build a model to learn patterns in that numerical representaion\n",
        "\n",
        "To showcase this, let's create some known data using Linear regression data\n",
        "\n",
        "We'll use linear regression formula to make a straight line with known **parameters**."
      ]
    },
    {
      "cell_type": "code",
      "execution_count": 51,
      "metadata": {
        "colab": {
          "base_uri": "https://localhost:8080/"
        },
        "id": "LeOI_va6buto",
        "outputId": "c00e6756-fbea-41b8-b776-42afccbd5de4"
      },
      "outputs": [
        {
          "output_type": "execute_result",
          "data": {
            "text/plain": [
              "(tensor([[0.0000],\n",
              "         [0.0200],\n",
              "         [0.0400],\n",
              "         [0.0600],\n",
              "         [0.0800],\n",
              "         [0.1000],\n",
              "         [0.1200],\n",
              "         [0.1400],\n",
              "         [0.1600],\n",
              "         [0.1800]]),\n",
              " tensor([[0.3000],\n",
              "         [0.3140],\n",
              "         [0.3280],\n",
              "         [0.3420],\n",
              "         [0.3560],\n",
              "         [0.3700],\n",
              "         [0.3840],\n",
              "         [0.3980],\n",
              "         [0.4120],\n",
              "         [0.4260]]))"
            ]
          },
          "metadata": {},
          "execution_count": 51
        }
      ],
      "source": [
        " # create known parameter\n",
        " weight = 0.7\n",
        " bias = 0.3\n",
        "\n",
        " # create\n",
        " start = 0\n",
        " end = 1\n",
        " step = 0.02\n",
        " X = torch.arange(start,end,step).unsqueeze(dim=1) # tensor\n",
        " y = weight  * X + bias\n",
        "\n",
        " X[:10], y[:10]\n"
      ]
    },
    {
      "cell_type": "code",
      "execution_count": 52,
      "metadata": {
        "colab": {
          "base_uri": "https://localhost:8080/"
        },
        "id": "9i8a9ZL5et5b",
        "outputId": "e1d09bee-25ce-446c-8805-8e0f29985a1d"
      },
      "outputs": [
        {
          "output_type": "execute_result",
          "data": {
            "text/plain": [
              "(50, 50)"
            ]
          },
          "metadata": {},
          "execution_count": 52
        }
      ],
      "source": [
        "len(X), len(y)"
      ]
    },
    {
      "cell_type": "markdown",
      "metadata": {
        "id": "ScqDdVJPfy2p"
      },
      "source": [
        "### 2. Splitting data into training and test sets (one of the most important concepts in Machine learning in general)\n",
        "\n",
        "* Training set   - (60 - 80%)\n",
        "* Validation set - (10 - 20%)\n",
        "* Testing set    - (10 - 20%)\n",
        "\n",
        "Let's create a training and test set with our data.\n"
      ]
    },
    {
      "cell_type": "code",
      "execution_count": 53,
      "metadata": {
        "colab": {
          "base_uri": "https://localhost:8080/"
        },
        "id": "W1QRdZCIfU1k",
        "outputId": "bf7c5c38-b2a3-4142-afd5-9caac0fb96d5"
      },
      "outputs": [
        {
          "output_type": "execute_result",
          "data": {
            "text/plain": [
              "(40, 40, 10, 10)"
            ]
          },
          "metadata": {},
          "execution_count": 53
        }
      ],
      "source": [
        "\n",
        "#  create a train/test split data from given dataset\n",
        "\n",
        "train_split = int(0.8 * len(X))\n",
        "X_train, y_train = X[:train_split],y[:train_split]\n",
        "X_test, y_test = X[train_split:], y[train_split:]\n",
        "\n",
        "# we can create train split using `scikit learn` train test split\n",
        "## search `scikit learn train test split`\n",
        "\n",
        "\n",
        "len(X_train), len(y_train), len(X_test), len(y_test)"
      ]
    },
    {
      "cell_type": "code",
      "execution_count": 54,
      "metadata": {
        "colab": {
          "base_uri": "https://localhost:8080/"
        },
        "id": "q_8eAwefI7WR",
        "outputId": "ecd16b31-554e-4c44-806b-76757fca5b1d"
      },
      "outputs": [
        {
          "output_type": "execute_result",
          "data": {
            "text/plain": [
              "(tensor([[0.0000],\n",
              "         [0.0200],\n",
              "         [0.0400],\n",
              "         [0.0600],\n",
              "         [0.0800],\n",
              "         [0.1000],\n",
              "         [0.1200],\n",
              "         [0.1400],\n",
              "         [0.1600],\n",
              "         [0.1800],\n",
              "         [0.2000],\n",
              "         [0.2200],\n",
              "         [0.2400],\n",
              "         [0.2600],\n",
              "         [0.2800],\n",
              "         [0.3000],\n",
              "         [0.3200],\n",
              "         [0.3400],\n",
              "         [0.3600],\n",
              "         [0.3800],\n",
              "         [0.4000],\n",
              "         [0.4200],\n",
              "         [0.4400],\n",
              "         [0.4600],\n",
              "         [0.4800],\n",
              "         [0.5000],\n",
              "         [0.5200],\n",
              "         [0.5400],\n",
              "         [0.5600],\n",
              "         [0.5800],\n",
              "         [0.6000],\n",
              "         [0.6200],\n",
              "         [0.6400],\n",
              "         [0.6600],\n",
              "         [0.6800],\n",
              "         [0.7000],\n",
              "         [0.7200],\n",
              "         [0.7400],\n",
              "         [0.7600],\n",
              "         [0.7800]]),\n",
              " tensor([[0.3000],\n",
              "         [0.3140],\n",
              "         [0.3280],\n",
              "         [0.3420],\n",
              "         [0.3560],\n",
              "         [0.3700],\n",
              "         [0.3840],\n",
              "         [0.3980],\n",
              "         [0.4120],\n",
              "         [0.4260],\n",
              "         [0.4400],\n",
              "         [0.4540],\n",
              "         [0.4680],\n",
              "         [0.4820],\n",
              "         [0.4960],\n",
              "         [0.5100],\n",
              "         [0.5240],\n",
              "         [0.5380],\n",
              "         [0.5520],\n",
              "         [0.5660],\n",
              "         [0.5800],\n",
              "         [0.5940],\n",
              "         [0.6080],\n",
              "         [0.6220],\n",
              "         [0.6360],\n",
              "         [0.6500],\n",
              "         [0.6640],\n",
              "         [0.6780],\n",
              "         [0.6920],\n",
              "         [0.7060],\n",
              "         [0.7200],\n",
              "         [0.7340],\n",
              "         [0.7480],\n",
              "         [0.7620],\n",
              "         [0.7760],\n",
              "         [0.7900],\n",
              "         [0.8040],\n",
              "         [0.8180],\n",
              "         [0.8320],\n",
              "         [0.8460]]))"
            ]
          },
          "metadata": {},
          "execution_count": 54
        }
      ],
      "source": [
        "X_train, y_train"
      ]
    },
    {
      "cell_type": "markdown",
      "metadata": {
        "id": "XJs-7AFhLHEk"
      },
      "source": [
        "how to better visualize our data?\n",
        "\n",
        "this is where the data explorer's moto comes in !!!\n",
        "\n",
        "\"Visualize, visualize, visualize\""
      ]
    },
    {
      "cell_type": "code",
      "execution_count": 22,
      "metadata": {
        "id": "ZZrh19ryLEtf"
      },
      "outputs": [],
      "source": [
        "# import the matplotlib library\n",
        "import matplotlib.pyplot as plt\n",
        "\n",
        "\n",
        "def plot_predictions(train_data=X_train,\n",
        "                     train_labels=y_train,\n",
        "                     test_data=X_test,\n",
        "                     test_labels=y_test,\n",
        "                     predictions=None):\n",
        "  \"\"\"\n",
        "  Plots training data, test data and compares the predictions:\n",
        "  \"\"\"\n",
        "  plt.figure(figsize=(10,7))\n",
        "\n",
        "  # Plot training data in blue\n",
        "  plt.scatter(train_data, train_labels, c=\"b\", s=4, label=\"Training data\")\n",
        "\n",
        "  # Plot test data in green\n",
        "  plt.scatter(test_data, test_labels, c=\"#02d1a8\", s=4, label=\"Testing data\")\n",
        "\n",
        "  # Are there predictions\n",
        "  if predictions is not None:\n",
        "    # plot the predictions if they exists\n",
        "    plt.scatter(test_data, predictions, c=\"r\", s=4, label=\"Predictions\")\n",
        "\n",
        "\n",
        "  #show legend\n",
        "  plt.legend(prop={\"size\": 14})"
      ]
    },
    {
      "cell_type": "code",
      "execution_count": 23,
      "metadata": {
        "colab": {
          "base_uri": "https://localhost:8080/",
          "height": 309
        },
        "id": "oedkOjrQWDOy",
        "outputId": "33c44196-b182-4d93-d875-876710485dbc"
      },
      "outputs": [
        {
          "output_type": "error",
          "ename": "AttributeError",
          "evalue": "ignored",
          "traceback": [
            "\u001b[0;31m---------------------------------------------------------------------------\u001b[0m",
            "\u001b[0;31mAttributeError\u001b[0m                            Traceback (most recent call last)",
            "\u001b[0;32m<ipython-input-23-48fab58fa37f>\u001b[0m in \u001b[0;36m<cell line: 1>\u001b[0;34m()\u001b[0m\n\u001b[0;32m----> 1\u001b[0;31m \u001b[0mplot_predictions\u001b[0m\u001b[0;34m(\u001b[0m\u001b[0;34m)\u001b[0m\u001b[0;34m\u001b[0m\u001b[0;34m\u001b[0m\u001b[0m\n\u001b[0m",
            "\u001b[0;32m<ipython-input-22-c14705ed2a8a>\u001b[0m in \u001b[0;36mplot_predictions\u001b[0;34m(train_data, train_labels, test_data, test_labels, predictions)\u001b[0m\n\u001b[1;32m     10\u001b[0m   \u001b[0mPlots\u001b[0m \u001b[0mtraining\u001b[0m \u001b[0mdata\u001b[0m\u001b[0;34m,\u001b[0m \u001b[0mtest\u001b[0m \u001b[0mdata\u001b[0m \u001b[0;32mand\u001b[0m \u001b[0mcompares\u001b[0m \u001b[0mthe\u001b[0m \u001b[0mpredictions\u001b[0m\u001b[0;34m:\u001b[0m\u001b[0;34m\u001b[0m\u001b[0;34m\u001b[0m\u001b[0m\n\u001b[1;32m     11\u001b[0m   \"\"\"\n\u001b[0;32m---> 12\u001b[0;31m   \u001b[0mplt\u001b[0m\u001b[0;34m.\u001b[0m\u001b[0mfigure\u001b[0m\u001b[0;34m(\u001b[0m\u001b[0mfigsize\u001b[0m\u001b[0;34m=\u001b[0m\u001b[0;34m(\u001b[0m\u001b[0;36m10\u001b[0m\u001b[0;34m,\u001b[0m\u001b[0;36m7\u001b[0m\u001b[0;34m)\u001b[0m\u001b[0;34m)\u001b[0m\u001b[0;34m\u001b[0m\u001b[0;34m\u001b[0m\u001b[0m\n\u001b[0m\u001b[1;32m     13\u001b[0m \u001b[0;34m\u001b[0m\u001b[0m\n\u001b[1;32m     14\u001b[0m   \u001b[0;31m# Plot training data in blue\u001b[0m\u001b[0;34m\u001b[0m\u001b[0;34m\u001b[0m\u001b[0m\n",
            "\u001b[0;31mAttributeError\u001b[0m: 'function' object has no attribute 'figure'"
          ]
        }
      ],
      "source": [
        "plot_predictions()"
      ]
    },
    {
      "cell_type": "markdown",
      "metadata": {
        "id": "43vIv3s1XHqW"
      },
      "source": [
        "## Build Model\n",
        "\n",
        "### Creating our first PyTorch model for linear regression\n",
        "\n",
        "\n",
        "\n",
        "What our model does:\n",
        "* start with random values (weight & bias)\n",
        "* look at training data and adjus the random values to better represent (or get closer to) the ideal values (the weight and bias values we used to create the data)\n",
        "\n",
        "\n",
        "How to do so?\n",
        "\n",
        "through two main algorithms:\n",
        "1. Gradient descent\n",
        "2. backpropagation"
      ]
    },
    {
      "cell_type": "code",
      "execution_count": 57,
      "metadata": {
        "id": "5ad_LDhyWFIL"
      },
      "outputs": [],
      "source": [
        "## y = mx + c\n",
        "## y = ax + b\n",
        "\n",
        "from torch import nn\n",
        "import torch\n",
        "\n",
        "# Create linear regresson model class\n",
        "# `nn.Module` contains all the building blocks of the neural network\n",
        "class LinearRegressionModel(nn.Module): # <- almost everything in PyTorch inherihts fom nn.Moudle\n",
        "  def __init__(self):\n",
        "    super().__init__()\n",
        "\n",
        "    # Initialize the model parameters\n",
        "    \"\"\" initialize the *model parameters to be used in various computaitons (these could be different layers from torch.nn,\n",
        "    single parameter, hard-coded values or functions* \"\"\"\n",
        "    self.weights = nn.Parameter(torch.randn(1,    # <- start with a random weight and try to adjust it to the ideal weight\n",
        "                                            requires_grad=True,   # <- can this parameter be updated via gradient descent?\n",
        "                                            dtype=torch.float))   # <- PyTorch lovest the datatype torch.float32\n",
        "    \"\"\" `requires_grad=True` means PyTorch will track the gradients of this specific parameter for use\n",
        "    with `torch.autograd` and gradient descent (for many `torch.nn` moduels, `requires_grad=True` is set by default)  \"\"\"\n",
        "\n",
        "    self.bias = nn.Parameter(torch.randn(1,       # <- start with a random bias and try to adjust it to the ideal bias\n",
        "                                         requires_grad=True,  # <- can this parameter be updated via gradient descent ?\n",
        "                                         dtype=torch.float))  # <- PyTorch loves the datatype torch.float32\n",
        "\n",
        "  # Forward metho to define the computation in the model\n",
        "  \"\"\"Any subclass of the `nn.Module` needs to override forward()\n",
        "  (this defines the forward computation of the model)\"\"\"\n",
        "  def forward(self, x: torch.Tensor) -> torch.Tensor: # <- \"x\" is the input data\n",
        "    return self.weights * x + self.bias     # this is the linear regression formula y = mx + b"
      ]
    },
    {
      "cell_type": "markdown",
      "metadata": {
        "id": "qyl1GGmg-pVV"
      },
      "source": [
        "### PyTorch model building essentials\n",
        "\n",
        "* `torch.nn` - contains all of the building blocks for computation graphs (a neural network can be considered as computational graph)\n",
        "* `torch.nn.Parameter` - what parameter should our model try and learn, often a PyTorch layer from `torch.nn` will set these for us\n",
        "* `torch.nn.Module` - base class for all the neural network modules, if you subclass it, you should override `forward()` method\n",
        "* `torch.optim` - this is where the optimizers in PyTorch live, they will help with gradient descent\n",
        "* `def forward()` - All the `nn.Module` subclasses require you to override the `forward()` method, this method define what happens in the forward computation  \n",
        "* `torch.utils.data.Dataset` - Represent a map between key(label) and sample(features) pairs of your data. Such as images and their associated labels.\n",
        "* `torch.utils.data.DataLoader` - Creates a Python iterable overa a torch Dataset (allows you to iterate over your data)\n",
        "\n",
        "\n",
        "\n",
        "\n",
        "Resources:\n",
        " - PyTorch cheatsheet: https://pytorch.org/tutorials/beginner/ptcheat.html"
      ]
    },
    {
      "cell_type": "code",
      "execution_count": 57,
      "metadata": {
        "id": "7ov8QxPvAKqp"
      },
      "outputs": [],
      "source": []
    },
    {
      "cell_type": "markdown",
      "metadata": {
        "id": "SG991nFGLp1p"
      },
      "source": [
        "### Checking the contents of our PyTorch model\n",
        "\n",
        "Now we've created the model let's see what's inside\n",
        "\n",
        "So we can checkout our model parameters or what's inside our model using `.parameters()`."
      ]
    },
    {
      "cell_type": "code",
      "execution_count": 58,
      "metadata": {
        "colab": {
          "base_uri": "https://localhost:8080/"
        },
        "id": "3XVtx0WHcbxf",
        "outputId": "110409a3-5bfe-4b8a-af15-904e3c824392"
      },
      "outputs": [
        {
          "output_type": "execute_result",
          "data": {
            "text/plain": [
              "[Parameter containing:\n",
              " tensor([0.3367], requires_grad=True),\n",
              " Parameter containing:\n",
              " tensor([0.1288], requires_grad=True)]"
            ]
          },
          "metadata": {},
          "execution_count": 58
        }
      ],
      "source": [
        "## create a random seed\n",
        "\n",
        "RANDOM_SEED=42\n",
        "torch.manual_seed(RANDOM_SEED)\n",
        "\n",
        "# Create an instace of the model (this is a subclcass of `nn.Module`)\n",
        "model_0 = LinearRegressionModel()\n",
        "\n",
        "\n",
        "# Checkout the parameters\n",
        "\n",
        "list(model_0.parameters())"
      ]
    },
    {
      "cell_type": "code",
      "execution_count": 59,
      "metadata": {
        "colab": {
          "base_uri": "https://localhost:8080/"
        },
        "id": "LzCn8qBqMWU4",
        "outputId": "aec8e039-837f-447c-e976-50e7928ad623"
      },
      "outputs": [
        {
          "output_type": "execute_result",
          "data": {
            "text/plain": [
              "OrderedDict([('weights', tensor([0.3367])), ('bias', tensor([0.1288]))])"
            ]
          },
          "metadata": {},
          "execution_count": 59
        }
      ],
      "source": [
        "# list named parameters\n",
        "model_0.state_dict()"
      ]
    },
    {
      "cell_type": "code",
      "execution_count": 60,
      "metadata": {
        "colab": {
          "base_uri": "https://localhost:8080/"
        },
        "id": "bKV8tIEXAsJf",
        "outputId": "d1b9d0e9-d5da-4f4a-f081-2a414922ffd1"
      },
      "outputs": [
        {
          "output_type": "execute_result",
          "data": {
            "text/plain": [
              "(0.7, 0.3)"
            ]
          },
          "metadata": {},
          "execution_count": 60
        }
      ],
      "source": [
        "weight, bias"
      ]
    },
    {
      "cell_type": "markdown",
      "metadata": {
        "id": "4GMaZUpeP3PJ"
      },
      "source": [
        "### making prediction using `torch.inference_mode()`\n",
        "\n",
        "To check our model's predictive power, let's see how well it predicts `y_test` based on `X_test`.\n",
        "\n",
        "When we pass data through our model, it's  going to run it through the `forward()` method"
      ]
    },
    {
      "cell_type": "code",
      "execution_count": 61,
      "metadata": {
        "colab": {
          "base_uri": "https://localhost:8080/"
        },
        "id": "O7JXJTIQRzHu",
        "outputId": "c760ac58-72e8-4367-efd2-40c3b098a017"
      },
      "outputs": [
        {
          "output_type": "execute_result",
          "data": {
            "text/plain": [
              "tensor([[0.3982],\n",
              "        [0.4049],\n",
              "        [0.4116],\n",
              "        [0.4184],\n",
              "        [0.4251],\n",
              "        [0.4318],\n",
              "        [0.4386],\n",
              "        [0.4453],\n",
              "        [0.4520],\n",
              "        [0.4588]], grad_fn=<AddBackward0>)"
            ]
          },
          "metadata": {},
          "execution_count": 61
        }
      ],
      "source": [
        "y_preds = model_0(X_test)\n",
        "y_preds"
      ]
    },
    {
      "cell_type": "code",
      "execution_count": 62,
      "metadata": {
        "colab": {
          "base_uri": "https://localhost:8080/"
        },
        "id": "rSKRTX5nQo83",
        "outputId": "4a07d835-7bba-4ad3-8450-974995ced3d1"
      },
      "outputs": [
        {
          "output_type": "execute_result",
          "data": {
            "text/plain": [
              "(tensor([[0.8000],\n",
              "         [0.8200],\n",
              "         [0.8400],\n",
              "         [0.8600],\n",
              "         [0.8800],\n",
              "         [0.9000],\n",
              "         [0.9200],\n",
              "         [0.9400],\n",
              "         [0.9600],\n",
              "         [0.9800]]),\n",
              " tensor([[0.8600],\n",
              "         [0.8740],\n",
              "         [0.8880],\n",
              "         [0.9020],\n",
              "         [0.9160],\n",
              "         [0.9300],\n",
              "         [0.9440],\n",
              "         [0.9580],\n",
              "         [0.9720],\n",
              "         [0.9860]]))"
            ]
          },
          "metadata": {},
          "execution_count": 62
        }
      ],
      "source": [
        "X_test,y_test"
      ]
    },
    {
      "cell_type": "code",
      "execution_count": 63,
      "metadata": {
        "colab": {
          "base_uri": "https://localhost:8080/"
        },
        "id": "PC-uhfv3NTvJ",
        "outputId": "58f5b5c5-53b6-44a6-b68c-151de3f4450e"
      },
      "outputs": [
        {
          "output_type": "execute_result",
          "data": {
            "text/plain": [
              "tensor([[0.3982],\n",
              "        [0.4049],\n",
              "        [0.4116],\n",
              "        [0.4184],\n",
              "        [0.4251],\n",
              "        [0.4318],\n",
              "        [0.4386],\n",
              "        [0.4453],\n",
              "        [0.4520],\n",
              "        [0.4588]])"
            ]
          },
          "metadata": {},
          "execution_count": 63
        }
      ],
      "source": [
        "# Make predictions with model\n",
        "### inference mode disables all of the gradient which is needed while training our model\n",
        "with torch.inference_mode():\n",
        "  y_preds = model_0(X_test)\n",
        "\n",
        "# something similar can be done using `torch.no_grad()`, however `torch.inference_mode()` is preferred\n",
        "# with torch.no_grad():\n",
        "#   y_preds = model_0(X_test)\n",
        "\n",
        "y_preds"
      ]
    },
    {
      "cell_type": "markdown",
      "metadata": {
        "id": "Y7LFJtGjSqvI"
      },
      "source": [
        "Inference mode learning : https://x.com/PyTorch/status/1437838231505096708?s=20"
      ]
    },
    {
      "cell_type": "code",
      "execution_count": 64,
      "metadata": {
        "colab": {
          "base_uri": "https://localhost:8080/",
          "height": 599
        },
        "id": "O5ikIQ3WPX-S",
        "outputId": "f5093e9a-5684-44ae-ab4c-7b340f848dc1"
      },
      "outputs": [
        {
          "output_type": "display_data",
          "data": {
            "text/plain": [
              "<Figure size 1000x700 with 1 Axes>"
            ],
            "image/png": "[encoded data removed]"
          },
          "metadata": {}
        }
      ],
      "source": [
        "plot_predictions(predictions=y_preds)"
      ]
    },
    {
      "cell_type": "markdown",
      "metadata": {
        "id": "PcnaVkDvDdKg"
      },
      "source": [
        "####  Transfer learning\n",
        "\n",
        "\n",
        "\n",
        "<br>\n",
        "<br>\n",
        "<br>\n",
        "<br>\n",
        "<br>\n",
        "\n",
        "another approach\n",
        ">  start the parameter with unknown random values and then adjust the value accordingly"
      ]
    },
    {
      "cell_type": "markdown",
      "metadata": {
        "id": "plt7TZHoInVD"
      },
      "source": [
        "## 3. **Train model**\n",
        "\n",
        "The whole idea of training is for a model to move from *unknown* parameters (these may be random) to some *known* parameters.\n",
        "\n",
        "In other words, from a poor representation of the data to a better representation of the data.\n",
        "\n",
        "\n",
        "One way to how poor or how wrong your model predictions are is to use loss function or cost function\n",
        "\n",
        "* **NOTE** : Loss function may also be called `cost function` and `criterion` in different areas. For our case we are going to refer it as a loss function - https://pytorch.org/docs/stable/optim.html\n",
        "\n"
      ]
    },
    {
      "cell_type": "markdown",
      "metadata": {
        "id": "thLgGzAFCVC-"
      },
      "source": [
        "---\n",
        "\n",
        "### 3.1 **Pick a loss function and optimizer**\n",
        "\n",
        "Things we are going to need to train our model:\n",
        "\n",
        "* **Loss Function** : A function to measure how wrong your model's predictions are to the ideal outputs, lower is better.\n",
        "* **Optimizer** : Take into account the loss of a model and adjusts the model's paramters (e.g. weight & bias in our case ) to improve the loss function\n",
        "\n",
        "  * Inside the optimizer you will often have to setup two parameters:\n",
        "    * `params`: the model parameters you'd like to optimize, for example: `params=model_0.parameters()`\n",
        "    * `lr` (learning rate): the learning rate is the hyperparameter that decides how big/small the optimizer changes the parameters with each step (a small `lr` results in small changes, a large `lr` results in large changes)\n",
        "\n",
        "<br>\n",
        "\n",
        "And specifically for PyTorch we need :\n",
        "* A training loop\n",
        "* A testinng loop"
      ]
    },
    {
      "cell_type": "code",
      "execution_count": 65,
      "metadata": {
        "id": "G2OFWDgQRcBY"
      },
      "outputs": [],
      "source": [
        "## to check those parameters we can use\n",
        "# list(model_0.parameters())\n",
        "\n"
      ]
    },
    {
      "cell_type": "code",
      "execution_count": 66,
      "metadata": {
        "colab": {
          "base_uri": "https://localhost:8080/"
        },
        "id": "mt_6oxXJQo-F",
        "outputId": "4aa6797d-2be7-4129-d9a4-363e0bf13dca"
      },
      "outputs": [
        {
          "output_type": "execute_result",
          "data": {
            "text/plain": [
              "OrderedDict([('weights', tensor([0.3367])), ('bias', tensor([0.1288]))])"
            ]
          },
          "metadata": {},
          "execution_count": 66
        }
      ],
      "source": [
        "# Check out our model's parameters (a paramter is the value that the model sets itself)\n",
        "## for named parameter we need to use\n",
        "model_0.state_dict()"
      ]
    },
    {
      "cell_type": "code",
      "execution_count": 67,
      "metadata": {
        "id": "6VpzOW2FLfO-"
      },
      "outputs": [],
      "source": [
        "## Steup the loss function\n",
        "loss_fn = nn.L1Loss()       # <- measurse the how wrong our model is\n",
        "\n",
        "## Setup an optimizer\n",
        "# optimizer <- adjusts the model parameter to reduce the loss\n",
        "optimizer = torch.optim.SGD(params=model_0.parameters(),\n",
        "                            lr=0.01)       # lr = learning rate (most important  hyperparameter that we can set)\n"
      ]
    },
    {
      "cell_type": "markdown",
      "metadata": {
        "id": "6u70OzoI_guv"
      },
      "source": [
        "**Q**: Which loss function and optimizer should I use ? <br>\n",
        "**A**: The answer of this question is problem specific. <br>\n",
        "  For example: for a regression problem(like ours), a loss function of `nn.L1Loss()` and an optimizer like `torch.optim.SGD()` will suffice\n",
        "\n",
        "\n",
        "But for a classification problem like classifying whether a photo is of a cat or a dog, loss functions of `nn.BCELoss()`(binary cross entropy loss) is likely to be used."
      ]
    },
    {
      "cell_type": "markdown",
      "metadata": {
        "id": "8iZxuGYpBtga"
      },
      "source": [
        "---\n",
        "\n",
        "### 3.2 **Building a training loop (and a testing loop) in PyTorch**\n",
        "\n",
        "A couple of things we need in a training loop:\n",
        "0. Loop through the data and do...\n",
        "1. Forward pass (this involves data moving through our model's `forward()` methods ) to make predictions on data - also called `forward propagtion`\n",
        "2. Calculate the loss (compare forward pass prediction to ground truth labels)\n",
        "3. Optimize the zero grad\n",
        "4. Loss backward - move backward through the network to calculate the gradients of each of the parameters of our model with respect to the loss (**backpropagation**)\n",
        "5. Optimize step - use the optimizer to adjust our model's parameters to try and improve the loss (**gradient descent**)\n"
      ]
    },
    {
      "cell_type": "code",
      "execution_count": 68,
      "metadata": {
        "id": "DzdARtD0Zl3x"
      },
      "outputs": [],
      "source": [
        "list(model_0.eval().parameters())\n",
        "\n",
        "with torch.no_grad():\n",
        "  list(model_0.parameters())"
      ]
    },
    {
      "cell_type": "code",
      "execution_count": 69,
      "metadata": {
        "colab": {
          "base_uri": "https://localhost:8080/"
        },
        "id": "f_JDdQ16YvOZ",
        "outputId": "815c28fa-8665-40f0-ca1f-d2a95cf7f95c"
      },
      "outputs": [
        {
          "output_type": "execute_result",
          "data": {
            "text/plain": [
              "[Parameter containing:\n",
              " tensor([0.3367], requires_grad=True),\n",
              " Parameter containing:\n",
              " tensor([0.1288], requires_grad=True)]"
            ]
          },
          "metadata": {},
          "execution_count": 69
        }
      ],
      "source": [
        "list(model_0.parameters())"
      ]
    },
    {
      "cell_type": "code",
      "execution_count": 70,
      "metadata": {
        "colab": {
          "base_uri": "https://localhost:8080/"
        },
        "id": "I23tCd8LO6mY",
        "outputId": "cfa41a4b-a695-4f89-dfd1-abefc47f1e04"
      },
      "outputs": [
        {
          "output_type": "stream",
          "name": "stdout",
          "text": [
            "Epoch : 0 | Loss : 0.31288138031959534 | Test Loss: 0.48106518387794495\n",
            "\t parameters: OrderedDict([('weights', tensor([0.3406])), ('bias', tensor([0.1388]))])\n",
            "\n",
            "\n",
            "Epoch : 10 | Loss : 0.1976713240146637 | Test Loss: 0.3463551998138428\n",
            "\t parameters: OrderedDict([('weights', tensor([0.3796])), ('bias', tensor([0.2388]))])\n",
            "\n",
            "\n",
            "Epoch : 20 | Loss : 0.08908725529909134 | Test Loss: 0.21729660034179688\n",
            "\t parameters: OrderedDict([('weights', tensor([0.4184])), ('bias', tensor([0.3333]))])\n",
            "\n",
            "\n",
            "Epoch : 30 | Loss : 0.053148526698350906 | Test Loss: 0.14464017748832703\n",
            "\t parameters: OrderedDict([('weights', tensor([0.4512])), ('bias', tensor([0.3768]))])\n",
            "\n",
            "\n",
            "Epoch : 40 | Loss : 0.04543796554207802 | Test Loss: 0.11360953003168106\n",
            "\t parameters: OrderedDict([('weights', tensor([0.4748])), ('bias', tensor([0.3868]))])\n",
            "\n",
            "\n",
            "Epoch : 50 | Loss : 0.04167863354086876 | Test Loss: 0.09919948130846024\n",
            "\t parameters: OrderedDict([('weights', tensor([0.4938])), ('bias', tensor([0.3843]))])\n",
            "\n",
            "\n",
            "Epoch : 60 | Loss : 0.03818932920694351 | Test Loss: 0.08886633068323135\n",
            "\t parameters: OrderedDict([('weights', tensor([0.5116])), ('bias', tensor([0.3788]))])\n",
            "\n",
            "\n",
            "Epoch : 70 | Loss : 0.03476089984178543 | Test Loss: 0.0805937647819519\n",
            "\t parameters: OrderedDict([('weights', tensor([0.5288])), ('bias', tensor([0.3718]))])\n",
            "\n",
            "\n",
            "Epoch : 80 | Loss : 0.03132382780313492 | Test Loss: 0.07232122868299484\n",
            "\t parameters: OrderedDict([('weights', tensor([0.5459])), ('bias', tensor([0.3648]))])\n",
            "\n",
            "\n",
            "Epoch : 90 | Loss : 0.02788739837706089 | Test Loss: 0.06473556160926819\n",
            "\t parameters: OrderedDict([('weights', tensor([0.5629])), ('bias', tensor([0.3573]))])\n",
            "\n",
            "\n",
            "Epoch : 100 | Loss : 0.024458957836031914 | Test Loss: 0.05646304413676262\n",
            "\t parameters: OrderedDict([('weights', tensor([0.5800])), ('bias', tensor([0.3503]))])\n",
            "\n",
            "\n",
            "Epoch : 110 | Loss : 0.021020207554101944 | Test Loss: 0.04819049686193466\n",
            "\t parameters: OrderedDict([('weights', tensor([0.5972])), ('bias', tensor([0.3433]))])\n",
            "\n",
            "\n",
            "Epoch : 120 | Loss : 0.01758546568453312 | Test Loss: 0.04060482233762741\n",
            "\t parameters: OrderedDict([('weights', tensor([0.6141])), ('bias', tensor([0.3358]))])\n",
            "\n",
            "\n",
            "Epoch : 130 | Loss : 0.014155393466353416 | Test Loss: 0.03233227878808975\n",
            "\t parameters: OrderedDict([('weights', tensor([0.6313])), ('bias', tensor([0.3288]))])\n",
            "\n",
            "\n",
            "Epoch : 140 | Loss : 0.010716589167714119 | Test Loss: 0.024059748277068138\n",
            "\t parameters: OrderedDict([('weights', tensor([0.6485])), ('bias', tensor([0.3218]))])\n",
            "\n",
            "\n",
            "Epoch : 150 | Loss : 0.0072835334576666355 | Test Loss: 0.016474086791276932\n",
            "\t parameters: OrderedDict([('weights', tensor([0.6654])), ('bias', tensor([0.3143]))])\n",
            "\n",
            "\n",
            "Epoch : 160 | Loss : 0.0038517764769494534 | Test Loss: 0.008201557211577892\n",
            "\t parameters: OrderedDict([('weights', tensor([0.6826])), ('bias', tensor([0.3073]))])\n",
            "\n",
            "\n",
            "Epoch : 170 | Loss : 0.008932482451200485 | Test Loss: 0.005023092031478882\n",
            "\t parameters: OrderedDict([('weights', tensor([0.6951])), ('bias', tensor([0.2993]))])\n",
            "\n",
            "\n",
            "Epoch : 180 | Loss : 0.008932482451200485 | Test Loss: 0.005023092031478882\n",
            "\t parameters: OrderedDict([('weights', tensor([0.6951])), ('bias', tensor([0.2993]))])\n",
            "\n",
            "\n",
            "Epoch : 190 | Loss : 0.008932482451200485 | Test Loss: 0.005023092031478882\n",
            "\t parameters: OrderedDict([('weights', tensor([0.6951])), ('bias', tensor([0.2993]))])\n",
            "\n",
            "\n"
          ]
        }
      ],
      "source": [
        "RANDOM_SEED = 42\n",
        "torch.manual_seed(RANDOM_SEED)\n",
        "# an epoch is one loop through the data... (this is a hyperparameter because we set it ourselves)\n",
        "epochs = 200\n",
        "\n",
        "# Track different values\n",
        "epoch_count = []\n",
        "loss_values = []\n",
        "test_loss_values = []\n",
        "\n",
        "### Training\n",
        "# 0. Loop through the data\n",
        "for epoch in range(epochs):\n",
        "  # set the model to training mode\n",
        "  model_0.train()     # train mode in PyTorch sets all the parameters that require gradients to require gradients\n",
        "\n",
        "  # 1. Forward pass\n",
        "  y_pred = model_0(X_train)\n",
        "\n",
        "  # 2. Calculate the loss (MAE)\n",
        "  loss = loss_fn(y_pred,  y_train)\n",
        "  # print(f\"\\tLoss: {loss}\")\n",
        "\n",
        "  # 3. Optimizer zero grad\n",
        "  optimizer.zero_grad()\n",
        "\n",
        "  # 4. Perform the backpropagation on the loss with respect to the parameters of the model\n",
        "  loss.backward()\n",
        "\n",
        "  # 5. Step the optimizer (perform gradient descent)\n",
        "  optimizer.step()    # by default how the optimizer changes will accumulate through loop so... we have to zero them above in step 3 for the next iteration of the loop\n",
        "\n",
        "\n",
        "  # Testing\n",
        "  model_0.eval()      # turns off different settings in the model not needed for evaluation/testing (dropout/batch norm layers)\n",
        "  with torch.inference_mode():    # turns of the gradient tracking & a couple more things behind the scenes\n",
        "  # with torch.no_grad():       # <- this is seen in the older version of code\n",
        "    # 1. Do the forward pass\n",
        "    test_pred = model_0(X_test)\n",
        "\n",
        "    # 2. Calculate the loss\n",
        "    test_loss = loss_fn(test_pred, y_test)\n",
        "\n",
        "\n",
        "  # prints out what's happening\n",
        "  if epoch % 10 == 0:\n",
        "    epoch_count.append(epoch)\n",
        "    loss_values.append(loss)\n",
        "    test_loss_values.append(test_loss)\n",
        "    print(f\"Epoch : {epoch} | Loss : {loss} | Test Loss: {test_loss}\")\n",
        "    # Print out model state_dict()\n",
        "    print(f\"\\t parameters: {model_0.state_dict()}\")\n",
        "    print(\"\\n\")\n",
        "\n"
      ]
    },
    {
      "cell_type": "code",
      "execution_count": 71,
      "metadata": {
        "id": "zYkr1-217dJx"
      },
      "outputs": [],
      "source": [
        "# epoch_count, loss_values, test_loss_values"
      ]
    },
    {
      "cell_type": "code",
      "execution_count": 72,
      "metadata": {
        "id": "9zDRL5068UvY"
      },
      "outputs": [],
      "source": [
        "# import numpy as np\n",
        "# np.array(torch.tensor(loss_values).cpu().numpy()), test_loss_values"
      ]
    },
    {
      "cell_type": "code",
      "execution_count": 73,
      "metadata": {
        "id": "6Gq3ogYoA9P6"
      },
      "outputs": [],
      "source": [
        "# import numpy as np\n",
        "# torch.tensor(loss_values).detach(), test_loss_values\n"
      ]
    },
    {
      "cell_type": "code",
      "execution_count": 74,
      "metadata": {
        "colab": {
          "base_uri": "https://localhost:8080/",
          "height": 490
        },
        "id": "cYrh_l7t7bjp",
        "outputId": "8b7c85c7-3f44-4098-ce43-9bbadd93ba63"
      },
      "outputs": [
        {
          "output_type": "execute_result",
          "data": {
            "text/plain": [
              "<matplotlib.legend.Legend at 0x78fd283fa020>"
            ]
          },
          "metadata": {},
          "execution_count": 74
        },
        {
          "output_type": "display_data",
          "data": {
            "text/plain": [
              "<Figure size 640x480 with 1 Axes>"
            ],
            "image/png": "[encoded data removed]"
          },
          "metadata": {}
        }
      ],
      "source": [
        "# Plot the loss curves\n",
        "\n",
        "plt.plot(epoch_count, torch.tensor(loss_values).numpy(), label=\"Train Loss\")   # <- here manual conversion to numpy is required because the value of the list contians `grad_fn`\n",
        "plt.plot(epoch_count, test_loss_values, label=\"Test loss\" )\n",
        "plt.title(\"Training and test loss curves\")\n",
        "plt.ylabel(\"Loss\")\n",
        "plt.xlabel(\"Epochs\")\n",
        "plt.legend()"
      ]
    },
    {
      "cell_type": "code",
      "execution_count": 74,
      "metadata": {
        "id": "pDmwl1qn7Lw1"
      },
      "outputs": [],
      "source": []
    },
    {
      "cell_type": "code",
      "execution_count": 75,
      "metadata": {
        "id": "c7IhsEEUbJzg"
      },
      "outputs": [],
      "source": [
        "with torch.inference_mode():\n",
        "  y_preds_new = model_0(X_test)\n"
      ]
    },
    {
      "cell_type": "code",
      "execution_count": 76,
      "metadata": {
        "colab": {
          "base_uri": "https://localhost:8080/",
          "height": 599
        },
        "id": "N8xbeog-qABz",
        "outputId": "6f489360-8fbe-42ed-fe49-a4fc05c5af18"
      },
      "outputs": [
        {
          "output_type": "display_data",
          "data": {
            "text/plain": [
              "<Figure size 1000x700 with 1 Axes>"
            ],
            "image/png": "[encoded data removed]"
          },
          "metadata": {}
        }
      ],
      "source": [
        "plot_predictions(predictions=y_preds)"
      ]
    },
    {
      "cell_type": "code",
      "execution_count": 77,
      "metadata": {
        "colab": {
          "base_uri": "https://localhost:8080/",
          "height": 599
        },
        "id": "7FgPhaG_rGot",
        "outputId": "37456b94-244b-4f3c-d169-04605e380844"
      },
      "outputs": [
        {
          "output_type": "display_data",
          "data": {
            "text/plain": [
              "<Figure size 1000x700 with 1 Axes>"
            ],
            "image/png": "[encoded data removed]"
          },
          "metadata": {}
        }
      ],
      "source": [
        "plot_predictions(predictions=y_preds_new)"
      ]
    },
    {
      "cell_type": "markdown",
      "metadata": {
        "id": "7iOnjLThHYZv"
      },
      "source": [
        "## Saving a model in PyTorch\n",
        "\n",
        "\n",
        "There are three main methods for saving and loading models in PyTorch.\n",
        "\n",
        "1. `torch.save()` - allows you to save a PyTorch object in Python's pickle format\n",
        "2. `torch.load()` - allows your to load a saved PyTorch object\n",
        "3. `toch.nn.Module.load_state_dict()` - this allows to load a model's saved state dictionary\n",
        "\n",
        "\n",
        "\n",
        "PyTorch save & Load code tutorial + extra-curricular https://pytorch.org/tutorials/beginner/saving_loading_models.html"
      ]
    },
    {
      "cell_type": "code",
      "execution_count": 78,
      "metadata": {
        "colab": {
          "base_uri": "https://localhost:8080/"
        },
        "id": "tKxU-OgqrNjF",
        "outputId": "e67be1f6-af51-4fb4-a4ad-5605322b989e"
      },
      "outputs": [
        {
          "output_type": "stream",
          "name": "stdout",
          "text": [
            "Saving model to: models/01_python_workflow_model_0.pth\n"
          ]
        }
      ],
      "source": [
        "# saving our PyTorch model\n",
        "from pathlib import Path\n",
        "\n",
        "# 1. Create models directory\n",
        "MODEL_PATH = Path(\"models\")\n",
        "MODEL_PATH.mkdir(parents=True, exist_ok=True)\n",
        "\n",
        "\n",
        "# 2. Create a model save path\n",
        "MODEL_NAME = \"01_python_workflow_model_0.pth\"\n",
        "MODEL_SAVE_PATH = MODEL_PATH/MODEL_NAME\n",
        "MODEL_SAVE_PATH\n",
        "\n",
        "\n",
        "\n",
        "# 2. Save the model state dict\n",
        "print(f\"Saving model to: {MODEL_SAVE_PATH}\")\n",
        "\n",
        "torch.save(obj=model_0.state_dict(),\n",
        "           f=MODEL_SAVE_PATH)"
      ]
    },
    {
      "cell_type": "code",
      "execution_count": 79,
      "metadata": {
        "colab": {
          "base_uri": "https://localhost:8080/"
        },
        "id": "IlDLqo7sIFwy",
        "outputId": "d53e818c-e2f4-4e0b-885f-0ad7ff3334da"
      },
      "outputs": [
        {
          "output_type": "stream",
          "name": "stdout",
          "text": [
            "total 4\n",
            "-rw-r--r-- 1 root root 1674 Dec 20 15:32 01_python_workflow_model_0.pth\n"
          ]
        }
      ],
      "source": [
        "! ls -l models"
      ]
    },
    {
      "cell_type": "code",
      "execution_count": 79,
      "metadata": {
        "id": "34PzKwJNX-JG"
      },
      "outputs": [],
      "source": []
    },
    {
      "cell_type": "code",
      "execution_count": 79,
      "metadata": {
        "id": "Zm3za036ZHA3"
      },
      "outputs": [],
      "source": []
    },
    {
      "cell_type": "code",
      "execution_count": 80,
      "metadata": {
        "colab": {
          "base_uri": "https://localhost:8080/"
        },
        "id": "RN3JH-6ZZHWN",
        "outputId": "9dcbb33c-64e3-44b3-8a3f-b5d7b36871e4"
      },
      "outputs": [
        {
          "output_type": "stream",
          "name": "stdout",
          "text": [
            "Model's state_dict:\n",
            "conv1.weight \t torch.Size([6, 3, 5, 5])\n",
            "conv1.bias \t torch.Size([6])\n",
            "conv2.weight \t torch.Size([16, 6, 5, 5])\n",
            "conv2.bias \t torch.Size([16])\n",
            "fc1.weight \t torch.Size([120, 400])\n",
            "fc1.bias \t torch.Size([120])\n",
            "fc2.weight \t torch.Size([84, 120])\n",
            "fc2.bias \t torch.Size([84])\n",
            "fc3.weight \t torch.Size([10, 84])\n",
            "fc3.bias \t torch.Size([10])\n",
            "Optimizer's state_dict:\n",
            "state \t {}\n",
            "param_groups \t [{'lr': 0.001, 'momentum': 0.9, 'dampening': 0, 'weight_decay': 0, 'nesterov': False, 'maximize': False, 'foreach': None, 'differentiable': False, 'params': [0, 1, 2, 3, 4, 5, 6, 7, 8, 9]}]\n"
          ]
        }
      ],
      "source": [
        "class TheModelClass(nn.Module):\n",
        "    def __init__(self):\n",
        "        super(TheModelClass, self).__init__()\n",
        "        self.conv1 = nn.Conv2d(3, 6, 5)\n",
        "        self.pool = nn.MaxPool2d(2, 2)\n",
        "        self.conv2 = nn.Conv2d(6, 16, 5)\n",
        "        self.fc1 = nn.Linear(16 * 5 * 5, 120)\n",
        "        self.fc2 = nn.Linear(120, 84)\n",
        "        self.fc3 = nn.Linear(84, 10)\n",
        "\n",
        "    def forward(self, x):\n",
        "        x = self.pool(F.relu(self.conv1(x)))\n",
        "        x = self.pool(F.relu(self.conv2(x)))\n",
        "        x = x.view(-1, 16 * 5 * 5)\n",
        "        x = F.relu(self.fc1(x))\n",
        "        x = F.relu(self.fc2(x))\n",
        "        x = self.fc3(x)\n",
        "        return x\n",
        "\n",
        "# Initialize model\n",
        "model = TheModelClass()\n",
        "\n",
        "# Initialize optimizer\n",
        "optimizer = torch.optim.SGD(model.parameters(), lr=0.001, momentum=0.9)\n",
        "\n",
        "# Print model's state_dict\n",
        "print(\"Model's state_dict:\")\n",
        "for param_tensor in model.state_dict():\n",
        "    print(param_tensor, \"\\t\", model.state_dict()[param_tensor].size())\n",
        "\n",
        "# Print optimizer's state_dict\n",
        "print(\"Optimizer's state_dict:\")\n",
        "for var_name in optimizer.state_dict():\n",
        "    print(var_name, \"\\t\", optimizer.state_dict()[var_name])\n"
      ]
    },
    {
      "cell_type": "code",
      "execution_count": 80,
      "metadata": {
        "id": "4uuaH0XYZLf0"
      },
      "outputs": [],
      "source": []
    },
    {
      "cell_type": "markdown",
      "source": [
        "## Loading a PyTorch model\n",
        "\n",
        "Since we saved our model's `state_dict()` rather than entire model, we'll create a new instance of our model class and load the saved `state_dict` into newly created instance"
      ],
      "metadata": {
        "id": "EghElWhM0-yt"
      }
    },
    {
      "cell_type": "code",
      "source": [
        "# to load a saved state_dict() we have to instantiate a new instace of our model class\n",
        "loaded_model_0 = LinearRegressionModel()\n",
        "\n",
        "\n",
        "# Load the saved staite_dict of the model_0 (this will update new instance with updated parameters)\n",
        "loaded_model_0.load_state_dict(torch.load(f=MODEL_SAVE_PATH))"
      ],
      "metadata": {
        "colab": {
          "base_uri": "https://localhost:8080/"
        },
        "id": "dWyZHWUo1VuC",
        "outputId": "677a69c1-65ac-4e47-c1c5-f32ba6af432b"
      },
      "execution_count": 81,
      "outputs": [
        {
          "output_type": "execute_result",
          "data": {
            "text/plain": [
              "<All keys matched successfully>"
            ]
          },
          "metadata": {},
          "execution_count": 81
        }
      ]
    },
    {
      "cell_type": "code",
      "source": [
        "loaded_model_0.state_dict()"
      ],
      "metadata": {
        "colab": {
          "base_uri": "https://localhost:8080/"
        },
        "id": "_PW175LS16tU",
        "outputId": "d442010c-4a62-443a-8653-2f4e7ccc1665"
      },
      "execution_count": 82,
      "outputs": [
        {
          "output_type": "execute_result",
          "data": {
            "text/plain": [
              "OrderedDict([('weights', tensor([0.6990])), ('bias', tensor([0.3093]))])"
            ]
          },
          "metadata": {},
          "execution_count": 82
        }
      ]
    },
    {
      "cell_type": "code",
      "source": [
        "loaded_model_0.state_dict()"
      ],
      "metadata": {
        "colab": {
          "base_uri": "https://localhost:8080/"
        },
        "id": "94KXD6h81-xJ",
        "outputId": "45562c70-139e-4e2f-8c12-b528885fab53"
      },
      "execution_count": 83,
      "outputs": [
        {
          "output_type": "execute_result",
          "data": {
            "text/plain": [
              "OrderedDict([('weights', tensor([0.6990])), ('bias', tensor([0.3093]))])"
            ]
          },
          "metadata": {},
          "execution_count": 83
        }
      ]
    },
    {
      "cell_type": "code",
      "source": [
        "# Make some prediction with our loaded model to make sure it is the correct one\n",
        "loaded_model_0.eval()\n",
        "with torch.inference_mode():\n",
        "  loaded_model_preds = loaded_model_0(X_test)\n",
        "\n",
        "loaded_model_preds"
      ],
      "metadata": {
        "colab": {
          "base_uri": "https://localhost:8080/"
        },
        "id": "6fyeJzj32bgC",
        "outputId": "9f9479f5-22f9-465f-95c7-6cf2df776aad"
      },
      "execution_count": 84,
      "outputs": [
        {
          "output_type": "execute_result",
          "data": {
            "text/plain": [
              "tensor([[0.8685],\n",
              "        [0.8825],\n",
              "        [0.8965],\n",
              "        [0.9105],\n",
              "        [0.9245],\n",
              "        [0.9384],\n",
              "        [0.9524],\n",
              "        [0.9664],\n",
              "        [0.9804],\n",
              "        [0.9944]])"
            ]
          },
          "metadata": {},
          "execution_count": 84
        }
      ]
    },
    {
      "cell_type": "code",
      "source": [
        "# Make some models preds\n",
        "model_0.eval()\n",
        "with torch.inference_mode():\n",
        "  y_preds = model_0(X_test)\n",
        "\n",
        "y_preds"
      ],
      "metadata": {
        "colab": {
          "base_uri": "https://localhost:8080/"
        },
        "id": "fpOTf44F3dIl",
        "outputId": "58876201-9f53-4fcb-84bd-da6bdeeebe98"
      },
      "execution_count": 85,
      "outputs": [
        {
          "output_type": "execute_result",
          "data": {
            "text/plain": [
              "tensor([[0.8685],\n",
              "        [0.8825],\n",
              "        [0.8965],\n",
              "        [0.9105],\n",
              "        [0.9245],\n",
              "        [0.9384],\n",
              "        [0.9524],\n",
              "        [0.9664],\n",
              "        [0.9804],\n",
              "        [0.9944]])"
            ]
          },
          "metadata": {},
          "execution_count": 85
        }
      ]
    },
    {
      "cell_type": "code",
      "source": [
        "# Compare loaded model preds with original model preds\n",
        "y_preds == loaded_model_preds\n"
      ],
      "metadata": {
        "colab": {
          "base_uri": "https://localhost:8080/"
        },
        "id": "hX91rtyQ20A5",
        "outputId": "b95cacc3-ba01-4bc5-fdde-e27aa6b0a455"
      },
      "execution_count": 86,
      "outputs": [
        {
          "output_type": "execute_result",
          "data": {
            "text/plain": [
              "tensor([[True],\n",
              "        [True],\n",
              "        [True],\n",
              "        [True],\n",
              "        [True],\n",
              "        [True],\n",
              "        [True],\n",
              "        [True],\n",
              "        [True],\n",
              "        [True]])"
            ]
          },
          "metadata": {},
          "execution_count": 86
        }
      ]
    },
    {
      "cell_type": "code",
      "source": [],
      "metadata": {
        "id": "HVxs7RLx3I4L"
      },
      "execution_count": 86,
      "outputs": []
    },
    {
      "cell_type": "code",
      "source": [],
      "metadata": {
        "id": "MuGAZJ0m3zVV"
      },
      "execution_count": 86,
      "outputs": []
    },
    {
      "cell_type": "markdown",
      "source": [
        "## 6. Putting it together\n",
        "\n",
        "Let's go back through the steps above and see it all in one place."
      ],
      "metadata": {
        "id": "xegb1PQS460T"
      }
    },
    {
      "cell_type": "code",
      "source": [
        "# Import PyTorch and Matplotlib\n",
        "import torch\n",
        "from torch import nn\n",
        "import numpy as np\n",
        "import matplotlib.pyplot as plt\n",
        "\n",
        "# check the PyTorch version"
      ],
      "metadata": {
        "id": "k6Bxpg0u5V4u"
      },
      "execution_count": 37,
      "outputs": []
    },
    {
      "cell_type": "markdown",
      "source": [
        "Create a device-agnostic code  \n",
        "\n",
        "This means if we got access to GPU, our code will use it (for potentially faster computing).\n",
        "\n",
        "If no GPU is available, the code will default to using CPU."
      ],
      "metadata": {
        "id": "Jz_m_NnW52xb"
      }
    },
    {
      "cell_type": "code",
      "source": [
        "# Setup device agnostic code\n",
        "device = \"cuda\" if torch.cuda.is_available() else \"cpu\"\n",
        "print(f\"Using device: {device}\")"
      ],
      "metadata": {
        "colab": {
          "base_uri": "https://localhost:8080/"
        },
        "id": "bNt8tpKC6LBA",
        "outputId": "2853e984-e049-48e5-8aec-17fa8dd19050"
      },
      "execution_count": 36,
      "outputs": [
        {
          "output_type": "stream",
          "name": "stdout",
          "text": [
            "Using device: cpu\n"
          ]
        }
      ]
    },
    {
      "cell_type": "code",
      "source": [
        "!nvidia-smi         # to check the specs of the provided GPU"
      ],
      "metadata": {
        "colab": {
          "base_uri": "https://localhost:8080/"
        },
        "id": "ycfI2xUd6wmq",
        "outputId": "018db8c6-27e5-49ab-a8df-13c28a3fd5d6"
      },
      "execution_count": 89,
      "outputs": [
        {
          "output_type": "stream",
          "name": "stdout",
          "text": [
            "Wed Dec 20 15:32:37 2023       \n",
            "+---------------------------------------------------------------------------------------+\n",
            "| NVIDIA-SMI 535.104.05             Driver Version: 535.104.05   CUDA Version: 12.2     |\n",
            "|-----------------------------------------+----------------------+----------------------+\n",
            "| GPU  Name                 Persistence-M | Bus-Id        Disp.A | Volatile Uncorr. ECC |\n",
            "| Fan  Temp   Perf          Pwr:Usage/Cap |         Memory-Usage | GPU-Util  Compute M. |\n",
            "|                                         |                      |               MIG M. |\n",
            "|=========================================+======================+======================|\n",
            "|   0  Tesla T4                       Off | 00000000:00:04.0 Off |                    0 |\n",
            "| N/A   45C    P8               9W /  70W |      3MiB / 15360MiB |      0%      Default |\n",
            "|                                         |                      |                  N/A |\n",
            "+-----------------------------------------+----------------------+----------------------+\n",
            "                                                                                         \n",
            "+---------------------------------------------------------------------------------------+\n",
            "| Processes:                                                                            |\n",
            "|  GPU   GI   CI        PID   Type   Process name                            GPU Memory |\n",
            "|        ID   ID                                                             Usage      |\n",
            "|=======================================================================================|\n",
            "|  No running processes found                                                           |\n",
            "+---------------------------------------------------------------------------------------+\n"
          ]
        }
      ]
    },
    {
      "cell_type": "markdown",
      "source": [
        "### 6.1 Data\n",
        "\n"
      ],
      "metadata": {
        "id": "0WfRlBER5GnI"
      }
    },
    {
      "cell_type": "code",
      "source": [
        "# Create some data using the Linear regression formula of y =  weight * X + bias\n",
        "weight = 0.7\n",
        "bias = 0.3\n",
        "\n",
        "\n",
        "# Create range values\n",
        "\n",
        "start = 0\n",
        "end = 1\n",
        "step = 0.02\n",
        "\n",
        "# Create x and y (features and labels)\n",
        "X = torch.arange(start,end, step).unsqueeze(dim=1) # this will reduce the dimension of the data to 1 dimension\n",
        "# without unsqueeze, errors will pop up\n",
        "y = weight * X + bias\n",
        "X[:10], y[:10]"
      ],
      "metadata": {
        "colab": {
          "base_uri": "https://localhost:8080/"
        },
        "id": "_oL51GuZ3zPi",
        "outputId": "1649cbd0-8fde-4344-8e74-88f37d1a993f"
      },
      "execution_count": 10,
      "outputs": [
        {
          "output_type": "execute_result",
          "data": {
            "text/plain": [
              "(tensor([[0.0000],\n",
              "         [0.0200],\n",
              "         [0.0400],\n",
              "         [0.0600],\n",
              "         [0.0800],\n",
              "         [0.1000],\n",
              "         [0.1200],\n",
              "         [0.1400],\n",
              "         [0.1600],\n",
              "         [0.1800]]),\n",
              " tensor([[0.3000],\n",
              "         [0.3140],\n",
              "         [0.3280],\n",
              "         [0.3420],\n",
              "         [0.3560],\n",
              "         [0.3700],\n",
              "         [0.3840],\n",
              "         [0.3980],\n",
              "         [0.4120],\n",
              "         [0.4260]]))"
            ]
          },
          "metadata": {},
          "execution_count": 10
        }
      ]
    },
    {
      "cell_type": "code",
      "source": [
        "# split the data\n",
        "train_split = int(0.8 * len(X))\n",
        "X_train, y_train = X[:train_split], y[:train_split]\n",
        "X_test, y_test = X[train_split:], y[train_split:]\n",
        "\n",
        "len(X_train), len(y_train), len(X_test), len(y_test)"
      ],
      "metadata": {
        "colab": {
          "base_uri": "https://localhost:8080/"
        },
        "id": "0DfP4dUa3ytl",
        "outputId": "e114567d-47f3-474e-f44c-f628f482023c"
      },
      "execution_count": 14,
      "outputs": [
        {
          "output_type": "execute_result",
          "data": {
            "text/plain": [
              "(40, 40, 10, 10)"
            ]
          },
          "metadata": {},
          "execution_count": 14
        }
      ]
    },
    {
      "cell_type": "code",
      "source": [
        "# Plot the data\n",
        "plot_predictions(X_train, y_train, X_test, y_test)"
      ],
      "metadata": {
        "colab": {
          "base_uri": "https://localhost:8080/",
          "height": 599
        },
        "id": "LRdxnYuGA3xF",
        "outputId": "187e12fd-fe46-42d1-cd1d-2217b3fb08dc"
      },
      "execution_count": 27,
      "outputs": [
        {
          "output_type": "display_data",
          "data": {
            "text/plain": [
              "<Figure size 1000x700 with 1 Axes>"
            ],
            "image/png": "[encoded data removed]"
          },
          "metadata": {}
        }
      ]
    },
    {
      "cell_type": "markdown",
      "source": [
        "### 6.2 Building a PyTorch Linear Model\n",
        "\n"
      ],
      "metadata": {
        "id": "MdKt8-33EOfZ"
      }
    },
    {
      "cell_type": "code",
      "source": [
        "# create a linear model by subclassing `nn.Module`\n",
        "import torch\n",
        "from torch import nn\n",
        "import matplotlib.pyplot as plt\n",
        "\n",
        "class LinearRegressionModelv2(nn.Module):\n",
        "  def __init__(self):\n",
        "    super().__init__()\n",
        "\n",
        "    # often time you don't need to initialize the parameter yourself\n",
        "    # you will instead initialize the layers that have the parameters in-built in those layer\n",
        "\n",
        "    # Use `nn.Linear()` for creating the parameters for the Linear Model / alos called linear tranfor, probing layer, fully connected layer, dense layer\n",
        "    # this means we take one feature of `X_train` to output the one feature of `y_train`\n",
        "    self.linear_layer = nn.Linear(in_features=1,      # <- this means the we take input of size 1\n",
        "                                 out_features=1)    # <- this means the output will if size 1\n",
        "\n",
        "\n",
        "  \"\"\" input x should always be `torch.Tensor` and return type of the method will be\n",
        "  `torch.Tensor` \"\"\"\n",
        "  def forward(self, x: torch.Tensor) -> torch.Tensor:\n",
        "    return self.linear_layer(x)\n",
        "\n",
        "\n",
        "# set the manual seed\n",
        "torch.manual_seed(42)\n",
        "model_1 = LinearRegressionModelv2()\n",
        "model_1, model_1.state_dict()\n"
      ],
      "metadata": {
        "id": "kbRuuNFOBHwo",
        "colab": {
          "base_uri": "https://localhost:8080/"
        },
        "outputId": "77536f72-ecb3-4104-aa2d-485b6d26f745"
      },
      "execution_count": 34,
      "outputs": [
        {
          "output_type": "execute_result",
          "data": {
            "text/plain": [
              "(LinearRegressionModelv2(\n",
              "   (linear_layer): Linear(in_features=1, out_features=1, bias=True)\n",
              " ),\n",
              " OrderedDict([('linear_layer.weight', tensor([[0.7645]])),\n",
              "              ('linear_layer.bias', tensor([0.8300]))]))"
            ]
          },
          "metadata": {},
          "execution_count": 34
        }
      ]
    },
    {
      "cell_type": "code",
      "source": [
        "# Check the model current device\n",
        "next(model_1.parameters()).device"
      ],
      "metadata": {
        "colab": {
          "base_uri": "https://localhost:8080/"
        },
        "id": "RVbdpfO-9rHB",
        "outputId": "3bbb2293-b5f4-4907-a5c0-59918f28d76d"
      },
      "execution_count": 39,
      "outputs": [
        {
          "output_type": "execute_result",
          "data": {
            "text/plain": [
              "device(type='cpu')"
            ]
          },
          "metadata": {},
          "execution_count": 39
        }
      ]
    },
    {
      "cell_type": "code",
      "source": [
        "# Set the model to use the target device\n",
        "model_1.to(device)\n",
        "next(model_1.parameters()).device"
      ],
      "metadata": {
        "colab": {
          "base_uri": "https://localhost:8080/"
        },
        "id": "I4CkXaty7FX-",
        "outputId": "99ea23d3-e219-4f07-c4a5-532f504a9ce9"
      },
      "execution_count": 43,
      "outputs": [
        {
          "output_type": "execute_result",
          "data": {
            "text/plain": [
              "device(type='cpu')"
            ]
          },
          "metadata": {},
          "execution_count": 43
        }
      ]
    },
    {
      "cell_type": "markdown",
      "source": [],
      "metadata": {
        "id": "fnU3-7Rl66H0"
      }
    },
    {
      "cell_type": "code",
      "source": [
        "X_train[:5], y_train[:5]"
      ],
      "metadata": {
        "id": "xWfo7pYgFKQv",
        "colab": {
          "base_uri": "https://localhost:8080/"
        },
        "outputId": "ff784ad0-dc75-4f8c-bb42-e19e5d30bf79"
      },
      "execution_count": 26,
      "outputs": [
        {
          "output_type": "execute_result",
          "data": {
            "text/plain": [
              "(tensor([[0.0000],\n",
              "         [0.0200],\n",
              "         [0.0400],\n",
              "         [0.0600],\n",
              "         [0.0800]]),\n",
              " tensor([[0.3000],\n",
              "         [0.3140],\n",
              "         [0.3280],\n",
              "         [0.3420],\n",
              "         [0.3560]]))"
            ]
          },
          "metadata": {},
          "execution_count": 26
        }
      ]
    },
    {
      "cell_type": "markdown",
      "source": [
        "### 6.3 Training part\n",
        "\n",
        "For training we need\n",
        "* Loss function   - measures how wrong our model is\n",
        "* Optimizer       - adjusts the parameter values so that there is lesser loss value\n",
        "* Training loop\n",
        "* Testing loop"
      ],
      "metadata": {
        "id": "bzN4VFDX-F_A"
      }
    },
    {
      "cell_type": "code",
      "source": [
        "# Setup the loss function\n",
        "loss_fn = nn.L1Loss()     # same as MAE(Mean Absolute Error)\n",
        "\n",
        "\n",
        "# Setup our optimizer\n",
        "optimizer = torch.optim.SGD( params=model_1.parameters(), lr=0.01)   # Stochastic Gradient Descent\n"
      ],
      "metadata": {
        "id": "O1TrBepzTUFz"
      },
      "execution_count": 46,
      "outputs": []
    },
    {
      "cell_type": "code",
      "source": [
        "# Training loop\n",
        "\n",
        "torch.manual_seed(42)\n",
        "\n",
        "epochs = 200\n",
        "\n",
        "\n",
        "# Put the data on the target device (device agnostic code for data)\n",
        "X_train = X_train.to(device)\n",
        "y_train = y_train.to(device)\n",
        "X_test = X_test.to(device)\n",
        "y_test = y_test.to(device)\n",
        "\n",
        "\n",
        "\n",
        "for epoch in range(epochs):\n",
        "  model_1.train()\n",
        "\n",
        "\n",
        "  # 1. forward pass                   # <- this is where we calculate the predictions\n",
        "  y_pred = model_1(X_train)\n",
        "\n",
        "  # 2. calculate the loss\n",
        "  loss = loss_fn(y_pred, y_train)\n",
        "\n",
        "  # 3. Optimizer\n",
        "  optimizer.zero_grad()\n",
        "\n",
        "\n",
        "  # 4. backpropagation\n",
        "  loss.backward()\n",
        "\n",
        "  # 5. Optimizer step\n",
        "  optimizer.step()\n",
        "\n",
        "  ### Testing\n",
        "\n",
        "  model_1.eval()      # <- for testing we set the model into evaluation model\n",
        "       # this turn off things like Dropout, BatchNorm etc\n",
        "  with torch.inference_mode():    # <- turn off things like autograd (which is used during model training )\n",
        "    test_pred = model_1(X_test)\n",
        "\n",
        "    test_loss = loss_fn(test_pred, y_test)\n",
        "\n",
        "    # Print's out what's happening\n",
        "\n",
        "    if epoch % 10 == 0:\n",
        "      print(f\"Epoch: {epoch} | Loss : {loss} | Test loss; {test_loss}\")\n"
      ],
      "metadata": {
        "colab": {
          "base_uri": "https://localhost:8080/"
        },
        "id": "pydvcH0y_KW9",
        "outputId": "cced7619-0eb4-4140-db41-86bd4affd50b"
      },
      "execution_count": 51,
      "outputs": [
        {
          "output_type": "stream",
          "name": "stdout",
          "text": [
            "Epoch: 0 | Loss : 0.0012645035749301314 | Test loss; 0.013801807537674904\n",
            "Epoch: 10 | Loss : 0.0012645035749301314 | Test loss; 0.013801807537674904\n",
            "Epoch: 20 | Loss : 0.0012645035749301314 | Test loss; 0.013801807537674904\n",
            "Epoch: 30 | Loss : 0.0012645035749301314 | Test loss; 0.013801807537674904\n",
            "Epoch: 40 | Loss : 0.0012645035749301314 | Test loss; 0.013801807537674904\n",
            "Epoch: 50 | Loss : 0.0012645035749301314 | Test loss; 0.013801807537674904\n",
            "Epoch: 60 | Loss : 0.0012645035749301314 | Test loss; 0.013801807537674904\n",
            "Epoch: 70 | Loss : 0.0012645035749301314 | Test loss; 0.013801807537674904\n",
            "Epoch: 80 | Loss : 0.0012645035749301314 | Test loss; 0.013801807537674904\n",
            "Epoch: 90 | Loss : 0.0012645035749301314 | Test loss; 0.013801807537674904\n",
            "Epoch: 100 | Loss : 0.0012645035749301314 | Test loss; 0.013801807537674904\n",
            "Epoch: 110 | Loss : 0.0012645035749301314 | Test loss; 0.013801807537674904\n",
            "Epoch: 120 | Loss : 0.0012645035749301314 | Test loss; 0.013801807537674904\n",
            "Epoch: 130 | Loss : 0.0012645035749301314 | Test loss; 0.013801807537674904\n",
            "Epoch: 140 | Loss : 0.0012645035749301314 | Test loss; 0.013801807537674904\n",
            "Epoch: 150 | Loss : 0.0012645035749301314 | Test loss; 0.013801807537674904\n",
            "Epoch: 160 | Loss : 0.0012645035749301314 | Test loss; 0.013801807537674904\n",
            "Epoch: 170 | Loss : 0.0012645035749301314 | Test loss; 0.013801807537674904\n",
            "Epoch: 180 | Loss : 0.0012645035749301314 | Test loss; 0.013801807537674904\n",
            "Epoch: 190 | Loss : 0.0012645035749301314 | Test loss; 0.013801807537674904\n"
          ]
        }
      ]
    },
    {
      "cell_type": "code",
      "source": [
        "model_1.state_dict()"
      ],
      "metadata": {
        "colab": {
          "base_uri": "https://localhost:8080/"
        },
        "id": "xcZb6tz6_tYi",
        "outputId": "b32f5e39-8ff6-430a-fa0a-77704cafdc3c"
      },
      "execution_count": 52,
      "outputs": [
        {
          "output_type": "execute_result",
          "data": {
            "text/plain": [
              "OrderedDict([('linear_layer.weight', tensor([[0.6968]])),\n",
              "             ('linear_layer.bias', tensor([0.3025]))])"
            ]
          },
          "metadata": {},
          "execution_count": 52
        }
      ]
    },
    {
      "cell_type": "code",
      "source": [
        "weight, bias"
      ],
      "metadata": {
        "colab": {
          "base_uri": "https://localhost:8080/"
        },
        "id": "FsnnwSEpCRkd",
        "outputId": "78ff13e3-af1a-4540-b2fc-99ffc04fd1e1"
      },
      "execution_count": 53,
      "outputs": [
        {
          "output_type": "execute_result",
          "data": {
            "text/plain": [
              "(0.7, 0.3)"
            ]
          },
          "metadata": {},
          "execution_count": 53
        }
      ]
    },
    {
      "cell_type": "code",
      "source": [
        "\n",
        "type(y_preds)"
      ],
      "metadata": {
        "colab": {
          "base_uri": "https://localhost:8080/"
        },
        "id": "Lg071BIIC055",
        "outputId": "d6be1bd7-2266-4f13-aa9e-10785d64dd9f"
      },
      "execution_count": 56,
      "outputs": [
        {
          "output_type": "execute_result",
          "data": {
            "text/plain": [
              "torch.Tensor"
            ]
          },
          "metadata": {},
          "execution_count": 56
        }
      ]
    },
    {
      "cell_type": "markdown",
      "source": [
        "### 6.4 Making and evaluating predictions"
      ],
      "metadata": {
        "id": "kEwcBy4gEb9p"
      }
    },
    {
      "cell_type": "code",
      "source": [
        "#  Turn the model into evaluation mode\n",
        "model_1.eval()      # <- every time we are making prediction or inference we want our model to be in eval mode\n",
        "\n",
        "# Make the prediction on the test data = it means drawing inference from the trained model\n",
        "# by providing the test data\n",
        "with torch.inference_mode():\n",
        "  y_preds = model_1(X_test)\n",
        "\n",
        "y_preds\n",
        "\n",
        "\n"
      ],
      "metadata": {
        "colab": {
          "base_uri": "https://localhost:8080/"
        },
        "id": "-8rmzOsRCTFq",
        "outputId": "d47dc8de-e5fa-4849-def6-dbced148ab7d"
      },
      "execution_count": 63,
      "outputs": [
        {
          "output_type": "execute_result",
          "data": {
            "text/plain": [
              "tensor([[0.8600],\n",
              "        [0.8739],\n",
              "        [0.8878],\n",
              "        [0.9018],\n",
              "        [0.9157],\n",
              "        [0.9296],\n",
              "        [0.9436],\n",
              "        [0.9575],\n",
              "        [0.9714],\n",
              "        [0.9854]])"
            ]
          },
          "metadata": {},
          "execution_count": 63
        }
      ]
    },
    {
      "cell_type": "code",
      "source": [
        "# check out our model predictions visually\n",
        "plot_predictions(predictions=y_preds)"
      ],
      "metadata": {
        "colab": {
          "base_uri": "https://localhost:8080/",
          "height": 599
        },
        "id": "xjuCOsX-CoPo",
        "outputId": "db5a5895-3383-4d72-d1e5-d10cc9e1569c"
      },
      "execution_count": 64,
      "outputs": [
        {
          "output_type": "display_data",
          "data": {
            "text/plain": [
              "<Figure size 1000x700 with 1 Axes>"
            ],
            "image/png": "[encoded data removed]"
          },
          "metadata": {}
        }
      ]
    },
    {
      "cell_type": "markdown",
      "source": [
        "**NOTE**:\n",
        "\n",
        "- every time when we want to train our model we turn the model into training mode using `model_0.train()`\n",
        "- every time we want to test or plot the graph of the values of prediced model we want to turn the model into `eval` mode using `model_0.eval()`\n",
        "- while drawing the conclusion or inference of the model we turn on the model into inference mode using `inference_mode()`\n"
      ],
      "metadata": {
        "id": "EA8GxKDIE5xF"
      }
    },
    {
      "cell_type": "markdown",
      "source": [
        "### 6.5 Saving & loadin a trained model\n"
      ],
      "metadata": {
        "id": "3gu_Td9uGq9s"
      }
    },
    {
      "cell_type": "code",
      "source": [
        "from pathlib import Path\n",
        "\n",
        "# 1. Create directory\n",
        "MODEL_PATH = Path(\"model\")\n",
        "MODEL_PATH.mkdir(parents=True, exist_ok=True)\n",
        "\n",
        "\n",
        "# 2. create a model save path\n",
        "MODEL_NAME = \"01-pytorch_test.pth\"\n",
        "MODEL_SAVE_PATH = MODEL_PATH / MODEL_NAME\n",
        "\n",
        "MODEL_SAVE_PATH\n",
        "\n",
        "\n",
        "# 3. Save the model state_dict()\n",
        "print(f\"Saving the state dict of model to: {MODEL_SAVE_PATH}\")\n",
        "\n",
        "torch.save(obj=model_1.state_dict(),\n",
        "           f=MODEL_SAVE_PATH)"
      ],
      "metadata": {
        "colab": {
          "base_uri": "https://localhost:8080/"
        },
        "id": "6cVfSIbkFjaB",
        "outputId": "0442d868-4834-4c7a-aa82-091dbd57ad89"
      },
      "execution_count": 72,
      "outputs": [
        {
          "output_type": "stream",
          "name": "stdout",
          "text": [
            "Saving the state dict of model to: model/01-pytorch_test.pth\n"
          ]
        }
      ]
    },
    {
      "cell_type": "code",
      "source": [
        "model_1.state_dict()"
      ],
      "metadata": {
        "colab": {
          "base_uri": "https://localhost:8080/"
        },
        "id": "SZkAW03HLuNt",
        "outputId": "2e201476-2fa8-4a0f-96ef-171777ed8ef5"
      },
      "execution_count": 73,
      "outputs": [
        {
          "output_type": "execute_result",
          "data": {
            "text/plain": [
              "OrderedDict([('linear_layer.weight', tensor([[0.6968]])),\n",
              "             ('linear_layer.bias', tensor([0.3025]))])"
            ]
          },
          "metadata": {},
          "execution_count": 73
        }
      ]
    },
    {
      "cell_type": "markdown",
      "source": [
        "### Load a PyTorch Model\n"
      ],
      "metadata": {
        "id": "xtM6BwrqNI3T"
      }
    },
    {
      "cell_type": "code",
      "source": [
        "# load pytorch model\n",
        "\n",
        "\n",
        "## Create a new instace of linear regression model v2\n",
        "loaded_model_1 = LinearRegressionModelv2()\n",
        "\n",
        "\n",
        "# load the saved model_1 state_dict\n",
        "\n",
        "loaded_model_1.load_state_dict(torch.load(MODEL_SAVE_PATH))\n",
        "\n",
        "# put the loaded model to device\n",
        "loaded_model_1.to(device)\n",
        "\n"
      ],
      "metadata": {
        "colab": {
          "base_uri": "https://localhost:8080/"
        },
        "id": "zr8tdQ1kMeFf",
        "outputId": "37ea2317-7c7b-4ca9-c80f-ba3c60c4209e"
      },
      "execution_count": 75,
      "outputs": [
        {
          "output_type": "execute_result",
          "data": {
            "text/plain": [
              "LinearRegressionModelv2(\n",
              "  (linear_layer): Linear(in_features=1, out_features=1, bias=True)\n",
              ")"
            ]
          },
          "metadata": {},
          "execution_count": 75
        }
      ]
    },
    {
      "cell_type": "code",
      "source": [
        "next(loaded_model_1.parameters()).device\n"
      ],
      "metadata": {
        "colab": {
          "base_uri": "https://localhost:8080/"
        },
        "id": "EsZS-c3JN2Uo",
        "outputId": "396f54dd-3a52-4f4a-bb3d-9431b4d07759"
      },
      "execution_count": 77,
      "outputs": [
        {
          "output_type": "execute_result",
          "data": {
            "text/plain": [
              "device(type='cpu')"
            ]
          },
          "metadata": {},
          "execution_count": 77
        }
      ]
    },
    {
      "cell_type": "code",
      "source": [
        "loaded_model_1.state_dict()"
      ],
      "metadata": {
        "colab": {
          "base_uri": "https://localhost:8080/"
        },
        "id": "L5N9fH6SN7jH",
        "outputId": "77f8a5e2-0a28-4512-9b33-ad2160a7c373"
      },
      "execution_count": 80,
      "outputs": [
        {
          "output_type": "execute_result",
          "data": {
            "text/plain": [
              "OrderedDict([('linear_layer.weight', tensor([[0.6968]])),\n",
              "             ('linear_layer.bias', tensor([0.3025]))])"
            ]
          },
          "metadata": {},
          "execution_count": 80
        }
      ]
    },
    {
      "cell_type": "code",
      "source": [
        "\n",
        "# Evaluate the loaded model\n",
        "loaded_model_1.eval()\n",
        "\n",
        "\n",
        "with torch.inference_mode():\n",
        "  loaded_model_1_preds = loaded_model_1(X_test)\n",
        "\n",
        "y_preds == loaded_model_1_preds"
      ],
      "metadata": {
        "colab": {
          "base_uri": "https://localhost:8080/"
        },
        "id": "-mh_uF7VOAHr",
        "outputId": "9ca83d9d-c6d8-467a-93d3-f1095f019de8"
      },
      "execution_count": 82,
      "outputs": [
        {
          "output_type": "execute_result",
          "data": {
            "text/plain": [
              "tensor([[True],\n",
              "        [True],\n",
              "        [True],\n",
              "        [True],\n",
              "        [True],\n",
              "        [True],\n",
              "        [True],\n",
              "        [True],\n",
              "        [True],\n",
              "        [True]])"
            ]
          },
          "metadata": {},
          "execution_count": 82
        }
      ]
    },
    {
      "cell_type": "code",
      "source": [],
      "metadata": {
        "id": "WmcA43G6QrJ6"
      },
      "execution_count": null,
      "outputs": []
    }
  ],
  "metadata": {
    "colab": {
      "provenance": [],
      "authorship_tag": "ABX9TyNiA+4RAxmPwHPWg1XIz6ix",
      "include_colab_link": true
    },
    "kernelspec": {
      "display_name": "Python 3",
      "name": "python3"
    },
    "language_info": {
      "name": "python"
    }
  },
  "nbformat": 4,
  "nbformat_minor": 0
}