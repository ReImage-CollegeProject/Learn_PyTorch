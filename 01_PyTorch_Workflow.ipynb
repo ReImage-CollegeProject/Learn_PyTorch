{
 "cells": [
  {
   "cell_type": "markdown",
   "metadata": {
    "colab_type": "text",
    "id": "view-in-github"
   },
   "source": [
    "<a href=\"https://colab.research.google.com/github/ReImage-CollegeProject/Learn_PyTorch/blob/main/01_PyTorch_Workflow.ipynb\" target=\"_parent\"><img src=\"https://colab.research.google.com/assets/colab-badge.svg\" alt=\"Open In Colab\"/></a>"
   ]
  },
  {
   "cell_type": "markdown",
   "metadata": {
    "id": "3La8kmHWaCkI"
   },
   "source": [
    "# Pytorch Workflow\n",
    "\n",
    "Resources:\n",
    "* Book : https://www.learnpytorch.io/01_pytorch_workflow/"
   ]
  },
  {
   "cell_type": "code",
   "execution_count": null,
   "metadata": {
    "id": "RYLCtvzqZvXk"
   },
   "outputs": [],
   "source": []
  },
  {
   "cell_type": "markdown",
   "metadata": {
    "id": "VHTMtAmoa3Rg"
   },
   "source": []
  },
  {
   "cell_type": "code",
   "execution_count": 1,
   "metadata": {
    "colab": {
     "base_uri": "https://localhost:8080/"
    },
    "id": "fxyN2ED5bD3o",
    "outputId": "f48a9d6f-915d-4eae-ba2d-17243975fe84"
   },
   "outputs": [
    {
     "data": {
      "text/plain": [
       "{1: 'data (prepare and load)',\n",
       " 2: 'build model',\n",
       " 3: 'fitting the model to data (training)',\n",
       " 4: 'making predictions and evaluating a model (inferences)',\n",
       " 5: 'saving and loading a model',\n",
       " 6: 'putting it all together'}"
      ]
     },
     "execution_count": 1,
     "metadata": {},
     "output_type": "execute_result"
    }
   ],
   "source": [
    "what_we_are_covering = {\n",
    "    1: \"data (prepare and load)\",\n",
    "    2: \"build model\",\n",
    "    3: \"fitting the model to data (training)\",\n",
    "    4: \"making predictions and evaluating a model (inferences)\",\n",
    "    5: \"saving and loading a model\",\n",
    "    6: \"putting it all together\"\n",
    "}\n",
    "\n",
    "what_we_are_covering"
   ]
  },
  {
   "cell_type": "code",
   "execution_count": 2,
   "metadata": {
    "colab": {
     "base_uri": "https://localhost:8080/",
     "height": 36
    },
    "id": "-GCVKJAVbhRN",
    "outputId": "12de95c6-becb-4c51-d5cd-c92b714ad805"
   },
   "outputs": [
    {
     "data": {
      "text/plain": [
       "'2.1.2+cu121'"
      ]
     },
     "execution_count": 2,
     "metadata": {},
     "output_type": "execute_result"
    }
   ],
   "source": [
    "import torch\n",
    "from torch import nn    # nn contains all of PyTorch's building blocks for neural network\n",
    "import matplotlib.pyplot as plt\n",
    "\n",
    "\n",
    "## check PyTorch version\n",
    "torch.__version__\n"
   ]
  },
  {
   "cell_type": "markdown",
   "metadata": {
    "id": "pYBe0SgKcI-Y"
   },
   "source": [
    "## 1. Data (Preparing and Loading)\n",
    "\n",
    "data can be almost anything .. in machin leanring\n",
    "* Excel spreadsheet\n",
    "* images of any kind\n",
    "* videos (YouTube has lots of data..)\n",
    "* audio like songs or podcasts\n",
    "* DNA\n",
    "* text\n",
    "\n",
    "Machine leaning is a game of two parts:\n",
    "1. Get data into a numerical representation\n",
    "2. Build a model to learn patterns in that numerical representaion\n",
    "\n",
    "To showcase this, let's create some known data using Linear regression data\n",
    "\n",
    "We'll use linear regression formula to make a straight line with known **parameters**."
   ]
  },
  {
   "cell_type": "code",
   "execution_count": 3,
   "metadata": {
    "colab": {
     "base_uri": "https://localhost:8080/"
    },
    "id": "LeOI_va6buto",
    "outputId": "d3edbdf6-47fa-4313-d437-d69ef2dbbb6e"
   },
   "outputs": [
    {
     "data": {
      "text/plain": [
       "(tensor([[0.0000],\n",
       "         [0.0200],\n",
       "         [0.0400],\n",
       "         [0.0600],\n",
       "         [0.0800],\n",
       "         [0.1000],\n",
       "         [0.1200],\n",
       "         [0.1400],\n",
       "         [0.1600],\n",
       "         [0.1800]]),\n",
       " tensor([[0.3000],\n",
       "         [0.3140],\n",
       "         [0.3280],\n",
       "         [0.3420],\n",
       "         [0.3560],\n",
       "         [0.3700],\n",
       "         [0.3840],\n",
       "         [0.3980],\n",
       "         [0.4120],\n",
       "         [0.4260]]))"
      ]
     },
     "execution_count": 3,
     "metadata": {},
     "output_type": "execute_result"
    }
   ],
   "source": [
    " # create known parameter\n",
    " weight = 0.7\n",
    " bias = 0.3\n",
    "\n",
    " # create\n",
    " start = 0\n",
    " end = 1\n",
    " step = 0.02\n",
    " X = torch.arange(start,end,step).unsqueeze(dim=1) # tensor\n",
    " y = weight  * X + bias\n",
    "\n",
    " X[:10], y[:10]\n"
   ]
  },
  {
   "cell_type": "code",
   "execution_count": 4,
   "metadata": {
    "colab": {
     "base_uri": "https://localhost:8080/"
    },
    "id": "9i8a9ZL5et5b",
    "outputId": "113cabad-90fa-4ff9-cef0-85704b5355bb"
   },
   "outputs": [
    {
     "data": {
      "text/plain": [
       "(50, 50)"
      ]
     },
     "execution_count": 4,
     "metadata": {},
     "output_type": "execute_result"
    }
   ],
   "source": [
    "len(X), len(y)"
   ]
  },
  {
   "cell_type": "markdown",
   "metadata": {
    "id": "ScqDdVJPfy2p"
   },
   "source": [
    "### 2. Splitting data into training and test sets (one of the most important concepts in Machine learning in general)\n",
    "\n",
    "* Training set   - (60 - 80%)\n",
    "* Validation set - (10 - 20%)\n",
    "* Testing set    - (10 - 20%)\n",
    "\n",
    "Let's create a training and test set with our data.\n"
   ]
  },
  {
   "cell_type": "code",
   "execution_count": 5,
   "metadata": {
    "colab": {
     "base_uri": "https://localhost:8080/"
    },
    "id": "W1QRdZCIfU1k",
    "outputId": "0c424bab-f61f-4cbc-9b55-7b2c8aad4011"
   },
   "outputs": [
    {
     "data": {
      "text/plain": [
       "(40, 40, 10, 10)"
      ]
     },
     "execution_count": 5,
     "metadata": {},
     "output_type": "execute_result"
    }
   ],
   "source": [
    "\n",
    "#  create a train/test split data from given dataset\n",
    "\n",
    "train_split = int(0.8 * len(X))\n",
    "X_train, y_train = X[:train_split],y[:train_split]\n",
    "X_test, y_test = X[train_split:], y[train_split:]\n",
    "\n",
    "# we can create train split using `scikit learn` train test split\n",
    "## search `scikit learn train test split`\n",
    "\n",
    "\n",
    "len(X_train), len(y_train), len(X_test), len(y_test)"
   ]
  },
  {
   "cell_type": "code",
   "execution_count": 6,
   "metadata": {
    "colab": {
     "base_uri": "https://localhost:8080/"
    },
    "id": "q_8eAwefI7WR",
    "outputId": "9c28f12e-80da-44f3-bfd9-5c0a94070983"
   },
   "outputs": [
    {
     "data": {
      "text/plain": [
       "(tensor([[0.0000],\n",
       "         [0.0200],\n",
       "         [0.0400],\n",
       "         [0.0600],\n",
       "         [0.0800],\n",
       "         [0.1000],\n",
       "         [0.1200],\n",
       "         [0.1400],\n",
       "         [0.1600],\n",
       "         [0.1800],\n",
       "         [0.2000],\n",
       "         [0.2200],\n",
       "         [0.2400],\n",
       "         [0.2600],\n",
       "         [0.2800],\n",
       "         [0.3000],\n",
       "         [0.3200],\n",
       "         [0.3400],\n",
       "         [0.3600],\n",
       "         [0.3800],\n",
       "         [0.4000],\n",
       "         [0.4200],\n",
       "         [0.4400],\n",
       "         [0.4600],\n",
       "         [0.4800],\n",
       "         [0.5000],\n",
       "         [0.5200],\n",
       "         [0.5400],\n",
       "         [0.5600],\n",
       "         [0.5800],\n",
       "         [0.6000],\n",
       "         [0.6200],\n",
       "         [0.6400],\n",
       "         [0.6600],\n",
       "         [0.6800],\n",
       "         [0.7000],\n",
       "         [0.7200],\n",
       "         [0.7400],\n",
       "         [0.7600],\n",
       "         [0.7800]]),\n",
       " tensor([[0.3000],\n",
       "         [0.3140],\n",
       "         [0.3280],\n",
       "         [0.3420],\n",
       "         [0.3560],\n",
       "         [0.3700],\n",
       "         [0.3840],\n",
       "         [0.3980],\n",
       "         [0.4120],\n",
       "         [0.4260],\n",
       "         [0.4400],\n",
       "         [0.4540],\n",
       "         [0.4680],\n",
       "         [0.4820],\n",
       "         [0.4960],\n",
       "         [0.5100],\n",
       "         [0.5240],\n",
       "         [0.5380],\n",
       "         [0.5520],\n",
       "         [0.5660],\n",
       "         [0.5800],\n",
       "         [0.5940],\n",
       "         [0.6080],\n",
       "         [0.6220],\n",
       "         [0.6360],\n",
       "         [0.6500],\n",
       "         [0.6640],\n",
       "         [0.6780],\n",
       "         [0.6920],\n",
       "         [0.7060],\n",
       "         [0.7200],\n",
       "         [0.7340],\n",
       "         [0.7480],\n",
       "         [0.7620],\n",
       "         [0.7760],\n",
       "         [0.7900],\n",
       "         [0.8040],\n",
       "         [0.8180],\n",
       "         [0.8320],\n",
       "         [0.8460]]))"
      ]
     },
     "execution_count": 6,
     "metadata": {},
     "output_type": "execute_result"
    }
   ],
   "source": [
    "X_train, y_train"
   ]
  },
  {
   "cell_type": "markdown",
   "metadata": {
    "id": "XJs-7AFhLHEk"
   },
   "source": [
    "how to better visualize our data?\n",
    "\n",
    "this is where the data explorer's moto comes in !!!\n",
    "\n",
    "\"Visualize, visualize, visualize\""
   ]
  },
  {
   "cell_type": "code",
   "execution_count": 7,
   "metadata": {
    "id": "ZZrh19ryLEtf"
   },
   "outputs": [],
   "source": [
    "def plot_predictions(train_data=X_train,\n",
    "                     train_labels=y_train,\n",
    "                     test_data=X_test,\n",
    "                     test_labels=y_test,\n",
    "                     predictions=None):\n",
    "  \"\"\"\n",
    "  Plots training data, test data and compares the predictions:\n",
    "  \"\"\"\n",
    "  plt.figure(figsize=(10,7))\n",
    "\n",
    "  # Plot training data in blue\n",
    "  plt.scatter(train_data, train_labels, c=\"b\", s=4, label=\"Training data\")\n",
    "\n",
    "  # Plot test data in green\n",
    "  plt.scatter(test_data, test_labels, c=\"#02d1a8\", s=4, label=\"Testing data\")\n",
    "\n",
    "  # Are there predictions\n",
    "  if predictions is not None:\n",
    "    # plot the predictions if they exists\n",
    "    plt.scatter(test_data, predictions, c=\"r\", s=4, label=\"Predictions\")\n",
    "\n",
    "\n",
    "  #show legend\n",
    "  plt.legend(prop={\"size\": 14})"
   ]
  },
  {
   "cell_type": "code",
   "execution_count": 8,
   "metadata": {
    "colab": {
     "base_uri": "https://localhost:8080/",
     "height": 542
    },
    "id": "oedkOjrQWDOy",
    "outputId": "e654003d-ed97-474f-b6bd-041ce182b461"
   },
   "outputs": [
    {
     "data": {
      "image/png": "[encoded data removed]",
      "text/plain": [
       "<Figure size 1000x700 with 1 Axes>"
      ]
     },
     "metadata": {},
     "output_type": "display_data"
    }
   ],
   "source": [
    "plot_predictions()"
   ]
  },
  {
   "cell_type": "markdown",
   "metadata": {
    "id": "43vIv3s1XHqW"
   },
   "source": [
    "## Build Model\n",
    "\n",
    "### Creating our first PyTorch model for linear regression\n",
    "\n",
    "\n",
    "\n",
    "What our model does:\n",
    "* start with random values (weight & bias)\n",
    "* look at training data and adjus the random values to better represent (or get closer to) the ideal values (the weight and bias values we used to create the data)\n",
    "\n",
    "\n",
    "How to do so?\n",
    "\n",
    "through two main algorithms:\n",
    "1. Gradient descent\n",
    "2. backpropagation"
   ]
  },
  {
   "cell_type": "code",
   "execution_count": 9,
   "metadata": {
    "id": "5ad_LDhyWFIL"
   },
   "outputs": [],
   "source": [
    "## y = mx + c\n",
    "## y = ax + b\n",
    "\n",
    "from torch import nn\n",
    "import torch\n",
    "\n",
    "# Create linear regresson model class\n",
    "# `nn.Module` contains all the building blocks of the neural network\n",
    "class LinearRegressionModel(nn.Module): # <- almost everything in PyTorch inherihts fom nn.Moudle\n",
    "  def __init__(self):\n",
    "    super().__init__()\n",
    "\n",
    "    # Initialize the model parameters\n",
    "    \"\"\" initialize the *model parameters to be used in various computaitons (these could be different layers from torch.nn,\n",
    "    single parameter, hard-coded values or functions* \"\"\"\n",
    "    self.weights = nn.Parameter(torch.randn(1,    # <- start with a random weight and try to adjust it to the ideal weight\n",
    "                                            requires_grad=True,   # <- can this parameter be updated via gradient descent?\n",
    "                                            dtype=torch.float))   # <- PyTorch lovest the datatype torch.float32\n",
    "    \"\"\" `requires_grad=True` means PyTorch will track the gradients of this specific parameter for use\n",
    "    with `torch.autograd` and gradient descent (for many `torch.nn` moduels, `requires_grad=True` is set by default)  \"\"\"\n",
    "\n",
    "    self.bias = nn.Parameter(torch.randn(1,       # <- start with a random bias and try to adjust it to the ideal bias\n",
    "                                         requires_grad=True,  # <- can this parameter be updated via gradient descent ?\n",
    "                                         dtype=torch.float))  # <- PyTorch loves the datatype torch.float32\n",
    "\n",
    "  # Forward metho to define the computation in the model\n",
    "  \"\"\"Any subclass of the `nn.Module` needs to override forward()\n",
    "  (this defines the forward computation of the model)\"\"\"\n",
    "  def forward(self, x: torch.Tensor) -> torch.Tensor: # <- \"x\" is the input data\n",
    "    return self.weights * x + self.bias     # this is the linear regression formula y = mx + b"
   ]
  },
  {
   "cell_type": "markdown",
   "metadata": {
    "id": "qyl1GGmg-pVV"
   },
   "source": [
    "### PyTorch model building essentials\n",
    "\n",
    "* `torch.nn` - contains all of the building blocks for computation graphs (a neural network can be considered as computational graph)\n",
    "* `torch.nn.Parameter` - what parameter should our model try and learn, often a PyTorch layer from `torch.nn` will set these for us\n",
    "* `torch.nn.Module` - base class for all the neural network modules, if you subclass it, you should override `forward()` method\n",
    "* `torch.optim` - this is where the optimizers in PyTorch live, they will help with gradient descent\n",
    "* `def forward()` - All the `nn.Module` subclasses require you to override the `forward()` method, this method define what happens in the forward computation  \n",
    "* `torch.utils.data.Dataset` - Represent a map between key(label) and sample(features) pairs of your data. Such as images and their associated labels.\n",
    "* `torch.utils.data.DataLoader` - Creates a Python iterable overa a torch Dataset (allows you to iterate over your data)\n",
    "\n",
    "\n",
    "\n",
    "\n",
    "Resources:\n",
    " - PyTorch cheatsheet: https://pytorch.org/tutorials/beginner/ptcheat.html"
   ]
  },
  {
   "cell_type": "code",
   "execution_count": null,
   "metadata": {
    "id": "7ov8QxPvAKqp"
   },
   "outputs": [],
   "source": []
  },
  {
   "cell_type": "markdown",
   "metadata": {
    "id": "SG991nFGLp1p"
   },
   "source": [
    "### Checking the contents of our PyTorch model\n",
    "\n",
    "Now we've created the model let's see what's inside\n",
    "\n",
    "So we can checkout our model parameters or what's inside our model using `.parameters()`."
   ]
  },
  {
   "cell_type": "code",
   "execution_count": 10,
   "metadata": {
    "colab": {
     "base_uri": "https://localhost:8080/"
    },
    "id": "3XVtx0WHcbxf",
    "outputId": "b00fe54c-cbea-4f4c-97fc-1674b7c14e3b"
   },
   "outputs": [
    {
     "data": {
      "text/plain": [
       "[Parameter containing:\n",
       " tensor([0.3367], requires_grad=True),\n",
       " Parameter containing:\n",
       " tensor([0.1288], requires_grad=True)]"
      ]
     },
     "execution_count": 10,
     "metadata": {},
     "output_type": "execute_result"
    }
   ],
   "source": [
    "## create a random seed\n",
    "\n",
    "RANDOM_SEED=42\n",
    "torch.manual_seed(RANDOM_SEED)\n",
    "\n",
    "# Create an instace of the model (this is a subclcass of `nn.Module`)\n",
    "model_0 = LinearRegressionModel()\n",
    "\n",
    "\n",
    "# Checkout the parameters\n",
    "\n",
    "list(model_0.parameters())"
   ]
  },
  {
   "cell_type": "code",
   "execution_count": 11,
   "metadata": {
    "colab": {
     "base_uri": "https://localhost:8080/"
    },
    "id": "LzCn8qBqMWU4",
    "outputId": "6cafba60-9aca-4908-a70d-ea1418387af5"
   },
   "outputs": [
    {
     "data": {
      "text/plain": [
       "OrderedDict([('weights', tensor([0.3367])), ('bias', tensor([0.1288]))])"
      ]
     },
     "execution_count": 11,
     "metadata": {},
     "output_type": "execute_result"
    }
   ],
   "source": [
    "# list named parameters\n",
    "model_0.state_dict()"
   ]
  },
  {
   "cell_type": "code",
   "execution_count": 12,
   "metadata": {
    "colab": {
     "base_uri": "https://localhost:8080/"
    },
    "id": "bKV8tIEXAsJf",
    "outputId": "72f6afbb-2c67-4523-a504-9180a653a96d"
   },
   "outputs": [
    {
     "data": {
      "text/plain": [
       "(0.7, 0.3)"
      ]
     },
     "execution_count": 12,
     "metadata": {},
     "output_type": "execute_result"
    }
   ],
   "source": [
    "weight, bias"
   ]
  },
  {
   "cell_type": "markdown",
   "metadata": {
    "id": "4GMaZUpeP3PJ"
   },
   "source": [
    "### making prediction using `torch.inference_mode()`\n",
    "\n",
    "To check our model's predictive power, let's see how well it predicts `y_test` based on `X_test`.\n",
    "\n",
    "When we pass data through our model, it's  going to run it through the `forward()` method"
   ]
  },
  {
   "cell_type": "code",
   "execution_count": 13,
   "metadata": {
    "colab": {
     "base_uri": "https://localhost:8080/"
    },
    "id": "O7JXJTIQRzHu",
    "outputId": "9023c83c-ad47-4ff0-f31b-53f8dd961b00"
   },
   "outputs": [
    {
     "data": {
      "text/plain": [
       "tensor([[0.3982],\n",
       "        [0.4049],\n",
       "        [0.4116],\n",
       "        [0.4184],\n",
       "        [0.4251],\n",
       "        [0.4318],\n",
       "        [0.4386],\n",
       "        [0.4453],\n",
       "        [0.4520],\n",
       "        [0.4588]], grad_fn=<AddBackward0>)"
      ]
     },
     "execution_count": 13,
     "metadata": {},
     "output_type": "execute_result"
    }
   ],
   "source": [
    "y_preds = model_0(X_test)\n",
    "y_preds"
   ]
  },
  {
   "cell_type": "code",
   "execution_count": 14,
   "metadata": {
    "colab": {
     "base_uri": "https://localhost:8080/"
    },
    "id": "rSKRTX5nQo83",
    "outputId": "786a6024-f4e0-4eef-955a-2f57efaa5cb3"
   },
   "outputs": [
    {
     "data": {
      "text/plain": [
       "(tensor([[0.8000],\n",
       "         [0.8200],\n",
       "         [0.8400],\n",
       "         [0.8600],\n",
       "         [0.8800],\n",
       "         [0.9000],\n",
       "         [0.9200],\n",
       "         [0.9400],\n",
       "         [0.9600],\n",
       "         [0.9800]]),\n",
       " tensor([[0.8600],\n",
       "         [0.8740],\n",
       "         [0.8880],\n",
       "         [0.9020],\n",
       "         [0.9160],\n",
       "         [0.9300],\n",
       "         [0.9440],\n",
       "         [0.9580],\n",
       "         [0.9720],\n",
       "         [0.9860]]))"
      ]
     },
     "execution_count": 14,
     "metadata": {},
     "output_type": "execute_result"
    }
   ],
   "source": [
    "X_test,y_test"
   ]
  },
  {
   "cell_type": "code",
   "execution_count": 15,
   "metadata": {
    "colab": {
     "base_uri": "https://localhost:8080/"
    },
    "id": "PC-uhfv3NTvJ",
    "outputId": "160068a9-0808-4164-8d81-b8fc05b99308"
   },
   "outputs": [
    {
     "data": {
      "text/plain": [
       "tensor([[0.3982],\n",
       "        [0.4049],\n",
       "        [0.4116],\n",
       "        [0.4184],\n",
       "        [0.4251],\n",
       "        [0.4318],\n",
       "        [0.4386],\n",
       "        [0.4453],\n",
       "        [0.4520],\n",
       "        [0.4588]])"
      ]
     },
     "execution_count": 15,
     "metadata": {},
     "output_type": "execute_result"
    }
   ],
   "source": [
    "# Make predictions with model\n",
    "### inference mode disables all of the gradient which is needed while training our model\n",
    "with torch.inference_mode():\n",
    "  y_preds = model_0(X_test)\n",
    "\n",
    "# something similar can be done using `torch.no_grad()`, however `torch.inference_mode()` is preferred\n",
    "# with torch.no_grad():\n",
    "#   y_preds = model_0(X_test)\n",
    "\n",
    "y_preds"
   ]
  },
  {
   "cell_type": "markdown",
   "metadata": {
    "id": "Y7LFJtGjSqvI"
   },
   "source": [
    "Inference mode learning : https://x.com/PyTorch/status/1437838231505096708?s=20"
   ]
  },
  {
   "cell_type": "code",
   "execution_count": 16,
   "metadata": {
    "colab": {
     "base_uri": "https://localhost:8080/",
     "height": 542
    },
    "id": "O5ikIQ3WPX-S",
    "outputId": "6bbb8686-ddb2-4f7b-a3e8-14095fd2b25f"
   },
   "outputs": [
    {
     "data": {
      "image/png": "[encoded data removed]",
      "text/plain": [
       "<Figure size 1000x700 with 1 Axes>"
      ]
     },
     "metadata": {},
     "output_type": "display_data"
    }
   ],
   "source": [
    "plot_predictions(predictions=y_preds)"
   ]
  },
  {
   "cell_type": "markdown",
   "metadata": {
    "id": "PcnaVkDvDdKg"
   },
   "source": [
    "####  Transfer learning\n",
    "\n",
    "\n",
    "\n",
    "<br>\n",
    "<br>\n",
    "<br>\n",
    "<br>\n",
    "<br>\n",
    "\n",
    "another approach\n",
    ">  start the parameter with unknown random values and then adjust the value accordingly"
   ]
  },
  {
   "cell_type": "markdown",
   "metadata": {
    "id": "plt7TZHoInVD"
   },
   "source": [
    "## 3. **Train model**\n",
    "\n",
    "The whole idea of training is for a model to move from *unknown* parameters (these may be random) to some *known* parameters.\n",
    "\n",
    "In other words, from a poor representation of the data to a better representation of the data.\n",
    "\n",
    "\n",
    "One way to how poor or how wrong your model predictions are is to use loss function or cost function\n",
    "\n",
    "* **NOTE** : Loss function may also be called `cost function` and `criterion` in different areas. For our case we are going to refer it as a loss function - https://pytorch.org/docs/stable/optim.html\n",
    "\n"
   ]
  },
  {
   "cell_type": "markdown",
   "metadata": {
    "id": "thLgGzAFCVC-"
   },
   "source": [
    "---\n",
    "\n",
    "### 3.1 **Pick a loss function and optimizer**\n",
    "\n",
    "Things we are going to need to train our model:\n",
    "\n",
    "* **Loss Function** : A function to measure how wrong your model's predictions are to the ideal outputs, lower is better.\n",
    "* **Optimizer** : Take into account the loss of a model and adjusts the model's paramters (e.g. weight & bias in our case ) to improve the loss function\n",
    "\n",
    "  * Inside the optimizer you will often have to setup two parameters:\n",
    "    * `params`: the model parameters you'd like to optimize, for example: `params=model_0.parameters()`\n",
    "    * `lr` (learning rate): the learning rate is the hyperparameter that decides how big/small the optimizer changes the parameters with each step (a small `lr` results in small changes, a large `lr` results in large changes)\n",
    "\n",
    "<br>\n",
    "\n",
    "And specifically for PyTorch we need :\n",
    "* A training loop\n",
    "* A testinng loop"
   ]
  },
  {
   "cell_type": "code",
   "execution_count": 17,
   "metadata": {
    "id": "G2OFWDgQRcBY"
   },
   "outputs": [],
   "source": [
    "## to check those parameters we can use\n",
    "# list(model_0.parameters())\n",
    "\n"
   ]
  },
  {
   "cell_type": "code",
   "execution_count": 18,
   "metadata": {
    "colab": {
     "base_uri": "https://localhost:8080/"
    },
    "id": "mt_6oxXJQo-F",
    "outputId": "e1513e05-8776-4a8a-c646-85bda93e23a3"
   },
   "outputs": [
    {
     "data": {
      "text/plain": [
       "OrderedDict([('weights', tensor([0.3367])), ('bias', tensor([0.1288]))])"
      ]
     },
     "execution_count": 18,
     "metadata": {},
     "output_type": "execute_result"
    }
   ],
   "source": [
    "# Check out our model's parameters (a paramter is the value that the model sets itself)\n",
    "## for named parameter we need to use\n",
    "model_0.state_dict()"
   ]
  },
  {
   "cell_type": "code",
   "execution_count": 19,
   "metadata": {
    "id": "6VpzOW2FLfO-"
   },
   "outputs": [],
   "source": [
    "## Steup the loss function\n",
    "loss_fn = nn.L1Loss()       # <- measurse the how wrong our model is\n",
    "\n",
    "## Setup an optimizer\n",
    "# optimizer <- adjusts the model parameter to reduce the loss\n",
    "optimizer = torch.optim.SGD(params=model_0.parameters(),\n",
    "                            lr=0.01)       # lr = learning rate (most important  hyperparameter that we can set)\n"
   ]
  },
  {
   "cell_type": "markdown",
   "metadata": {
    "id": "6u70OzoI_guv"
   },
   "source": [
    "**Q**: Which loss function and optimizer should I use ? <br>\n",
    "**A**: The answer of this question is problem specific. <br>\n",
    "  For example: for a regression problem(like ours), a loss function of `nn.L1Loss()` and an optimizer like `torch.optim.SGD()` will suffice\n",
    "\n",
    "\n",
    "But for a classification problem like classifying whether a photo is of a cat or a dog, loss functions of `nn.BCELoss()`(binary cross entropy loss) is likely to be used."
   ]
  },
  {
   "cell_type": "markdown",
   "metadata": {
    "id": "8iZxuGYpBtga"
   },
   "source": [
    "---\n",
    "\n",
    "### 3.2 **Building a training loop (and a testing loop) in PyTorch**\n",
    "\n",
    "A couple of things we need in a training loop:\n",
    "0. Loop through the data and do...\n",
    "1. Forward pass (this involves data moving through our model's `forward()` methods ) to make predictions on data - also called `forward propagtion`\n",
    "2. Calculate the loss (compare forward pass prediction to ground truth labels)\n",
    "3. Optimize the zero grad\n",
    "4. Loss backward - move backward through the network to calculate the gradients of each of the parameters of our model with respect to the loss (**backpropagation**)\n",
    "5. Optimize step - use the optimizer to adjust our model's parameters to try and improve the loss (**gradient descent**)\n"
   ]
  },
  {
   "cell_type": "code",
   "execution_count": 20,
   "metadata": {
    "id": "DzdARtD0Zl3x"
   },
   "outputs": [],
   "source": [
    "list(model_0.eval().parameters())\n",
    "\n",
    "with torch.no_grad():\n",
    "  list(model_0.parameters())"
   ]
  },
  {
   "cell_type": "code",
   "execution_count": 21,
   "metadata": {
    "colab": {
     "base_uri": "https://localhost:8080/"
    },
    "id": "f_JDdQ16YvOZ",
    "outputId": "47c909be-1393-40d1-9dbf-47ebcd8bb0ff"
   },
   "outputs": [
    {
     "data": {
      "text/plain": [
       "[Parameter containing:\n",
       " tensor([0.3367], requires_grad=True),\n",
       " Parameter containing:\n",
       " tensor([0.1288], requires_grad=True)]"
      ]
     },
     "execution_count": 21,
     "metadata": {},
     "output_type": "execute_result"
    }
   ],
   "source": [
    "list(model_0.parameters())"
   ]
  },
  {
   "cell_type": "code",
   "execution_count": 22,
   "metadata": {
    "colab": {
     "base_uri": "https://localhost:8080/"
    },
    "id": "I23tCd8LO6mY",
    "outputId": "dd814373-50c9-4049-8b84-d2bd0d995eab"
   },
   "outputs": [
    {
     "name": "stdout",
     "output_type": "stream",
     "text": [
      "Epoch : 0 | Loss : 0.31288138031959534 | Test Loss: 0.48106518387794495\n",
      "\t parameters: OrderedDict([('weights', tensor([0.3406])), ('bias', tensor([0.1388]))])\n",
      "\n",
      "\n",
      "Epoch : 10 | Loss : 0.1976713240146637 | Test Loss: 0.3463551998138428\n",
      "\t parameters: OrderedDict([('weights', tensor([0.3796])), ('bias', tensor([0.2388]))])\n",
      "\n",
      "\n",
      "Epoch : 20 | Loss : 0.08908725529909134 | Test Loss: 0.21729660034179688\n",
      "\t parameters: OrderedDict([('weights', tensor([0.4184])), ('bias', tensor([0.3333]))])\n",
      "\n",
      "\n",
      "Epoch : 30 | Loss : 0.053148526698350906 | Test Loss: 0.14464017748832703\n",
      "\t parameters: OrderedDict([('weights', tensor([0.4512])), ('bias', tensor([0.3768]))])\n",
      "\n",
      "\n",
      "Epoch : 40 | Loss : 0.04543796554207802 | Test Loss: 0.11360953003168106\n",
      "\t parameters: OrderedDict([('weights', tensor([0.4748])), ('bias', tensor([0.3868]))])\n",
      "\n",
      "\n",
      "Epoch : 50 | Loss : 0.04167863354086876 | Test Loss: 0.09919948130846024\n",
      "\t parameters: OrderedDict([('weights', tensor([0.4938])), ('bias', tensor([0.3843]))])\n",
      "\n",
      "\n",
      "Epoch : 60 | Loss : 0.03818932920694351 | Test Loss: 0.08886633068323135\n",
      "\t parameters: OrderedDict([('weights', tensor([0.5116])), ('bias', tensor([0.3788]))])\n",
      "\n",
      "\n",
      "Epoch : 70 | Loss : 0.03476089984178543 | Test Loss: 0.0805937647819519\n",
      "\t parameters: OrderedDict([('weights', tensor([0.5288])), ('bias', tensor([0.3718]))])\n",
      "\n",
      "\n",
      "Epoch : 80 | Loss : 0.03132382780313492 | Test Loss: 0.07232122868299484\n",
      "\t parameters: OrderedDict([('weights', tensor([0.5459])), ('bias', tensor([0.3648]))])\n",
      "\n",
      "\n",
      "Epoch : 90 | Loss : 0.02788739837706089 | Test Loss: 0.06473556160926819\n",
      "\t parameters: OrderedDict([('weights', tensor([0.5629])), ('bias', tensor([0.3573]))])\n",
      "\n",
      "\n",
      "Epoch : 100 | Loss : 0.024458957836031914 | Test Loss: 0.05646304413676262\n",
      "\t parameters: OrderedDict([('weights', tensor([0.5800])), ('bias', tensor([0.3503]))])\n",
      "\n",
      "\n",
      "Epoch : 110 | Loss : 0.021020207554101944 | Test Loss: 0.04819049686193466\n",
      "\t parameters: OrderedDict([('weights', tensor([0.5972])), ('bias', tensor([0.3433]))])\n",
      "\n",
      "\n",
      "Epoch : 120 | Loss : 0.01758546568453312 | Test Loss: 0.04060482233762741\n",
      "\t parameters: OrderedDict([('weights', tensor([0.6141])), ('bias', tensor([0.3358]))])\n",
      "\n",
      "\n",
      "Epoch : 130 | Loss : 0.014155393466353416 | Test Loss: 0.03233227878808975\n",
      "\t parameters: OrderedDict([('weights', tensor([0.6313])), ('bias', tensor([0.3288]))])\n",
      "\n",
      "\n",
      "Epoch : 140 | Loss : 0.010716589167714119 | Test Loss: 0.024059748277068138\n",
      "\t parameters: OrderedDict([('weights', tensor([0.6485])), ('bias', tensor([0.3218]))])\n",
      "\n",
      "\n",
      "Epoch : 150 | Loss : 0.0072835334576666355 | Test Loss: 0.016474086791276932\n",
      "\t parameters: OrderedDict([('weights', tensor([0.6654])), ('bias', tensor([0.3143]))])\n",
      "\n",
      "\n",
      "Epoch : 160 | Loss : 0.0038517764769494534 | Test Loss: 0.008201557211577892\n",
      "\t parameters: OrderedDict([('weights', tensor([0.6826])), ('bias', tensor([0.3073]))])\n",
      "\n",
      "\n",
      "Epoch : 170 | Loss : 0.008932482451200485 | Test Loss: 0.005023092031478882\n",
      "\t parameters: OrderedDict([('weights', tensor([0.6951])), ('bias', tensor([0.2993]))])\n",
      "\n",
      "\n",
      "Epoch : 180 | Loss : 0.008932482451200485 | Test Loss: 0.005023092031478882\n",
      "\t parameters: OrderedDict([('weights', tensor([0.6951])), ('bias', tensor([0.2993]))])\n",
      "\n",
      "\n",
      "Epoch : 190 | Loss : 0.008932482451200485 | Test Loss: 0.005023092031478882\n",
      "\t parameters: OrderedDict([('weights', tensor([0.6951])), ('bias', tensor([0.2993]))])\n",
      "\n",
      "\n"
     ]
    }
   ],
   "source": [
    "RANDOM_SEED = 42\n",
    "torch.manual_seed(RANDOM_SEED)\n",
    "# an epoch is one loop through the data... (this is a hyperparameter because we set it ourselves)\n",
    "epochs = 200\n",
    "\n",
    "# Track different values\n",
    "epoch_count = []\n",
    "loss_values = []\n",
    "test_loss_values = []\n",
    "\n",
    "### Training\n",
    "# 0. Loop through the data\n",
    "for epoch in range(epochs):\n",
    "  # set the model to training mode\n",
    "  model_0.train()     # train mode in PyTorch sets all the parameters that require gradients to require gradients\n",
    "\n",
    "  # 1. Forward pass\n",
    "  y_pred = model_0(X_train)\n",
    "\n",
    "  # 2. Calculate the loss (MAE)\n",
    "  loss = loss_fn(y_pred,  y_train)\n",
    "  # print(f\"\\tLoss: {loss}\")\n",
    "\n",
    "  # 3. Optimizer zero grad\n",
    "  optimizer.zero_grad()\n",
    "\n",
    "  # 4. Perform the backpropagation on the loss with respect to the parameters of the model\n",
    "  loss.backward()\n",
    "\n",
    "  # 5. Step the optimizer (perform gradient descent)\n",
    "  optimizer.step()    # by default how the optimizer changes will accumulate through loop so... we have to zero them above in step 3 for the next iteration of the loop\n",
    "\n",
    "\n",
    "  # Testing\n",
    "  model_0.eval()      # turns off different settings in the model not needed for evaluation/testing (dropout/batch norm layers)\n",
    "  with torch.inference_mode():    # turns of the gradient tracking & a couple more things behind the scenes\n",
    "  # with torch.no_grad():       # <- this is seen in the older version of code\n",
    "    # 1. Do the forward pass\n",
    "    test_pred = model_0(X_test)\n",
    "\n",
    "    # 2. Calculate the loss\n",
    "    test_loss = loss_fn(test_pred, y_test)\n",
    "\n",
    "\n",
    "  # prints out what's happening\n",
    "  if epoch % 10 == 0:\n",
    "    epoch_count.append(epoch)\n",
    "    loss_values.append(loss)\n",
    "    test_loss_values.append(test_loss)\n",
    "    print(f\"Epoch : {epoch} | Loss : {loss} | Test Loss: {test_loss}\")\n",
    "    # Print out model state_dict()\n",
    "    print(f\"\\t parameters: {model_0.state_dict()}\")\n",
    "    print(\"\\n\")\n",
    "\n"
   ]
  },
  {
   "cell_type": "code",
   "execution_count": 23,
   "metadata": {
    "id": "zYkr1-217dJx"
   },
   "outputs": [],
   "source": [
    "# epoch_count, loss_values, test_loss_values"
   ]
  },
  {
   "cell_type": "code",
   "execution_count": 24,
   "metadata": {
    "id": "9zDRL5068UvY"
   },
   "outputs": [],
   "source": [
    "# import numpy as np\n",
    "# np.array(torch.tensor(loss_values).cpu().numpy()), test_loss_values"
   ]
  },
  {
   "cell_type": "code",
   "execution_count": 25,
   "metadata": {
    "id": "6Gq3ogYoA9P6"
   },
   "outputs": [],
   "source": [
    "# import numpy as np\n",
    "# torch.tensor(loss_values).detach(), test_loss_values\n"
   ]
  },
  {
   "cell_type": "code",
   "execution_count": 26,
   "metadata": {
    "colab": {
     "base_uri": "https://localhost:8080/",
     "height": 490
    },
    "id": "cYrh_l7t7bjp",
    "outputId": "2fdb130b-46d3-4944-b41b-d1737d5845b9"
   },
   "outputs": [
    {
     "data": {
      "text/plain": [
       "<matplotlib.legend.Legend at 0x7ff817ec2990>"
      ]
     },
     "execution_count": 26,
     "metadata": {},
     "output_type": "execute_result"
    },
    {
     "data": {
      "image/png": "[encoded data removed]",
      "text/plain": [
       "<Figure size 640x480 with 1 Axes>"
      ]
     },
     "metadata": {},
     "output_type": "display_data"
    }
   ],
   "source": [
    "# Plot the loss curves\n",
    "\n",
    "plt.plot(epoch_count, torch.tensor(loss_values).numpy(), label=\"Train Loss\")   # <- here manual conversion to numpy is required because the value of the list contians `grad_fn`\n",
    "plt.plot(epoch_count, test_loss_values, label=\"Test loss\" )\n",
    "plt.title(\"Training and test loss curves\")\n",
    "plt.ylabel(\"Loss\")\n",
    "plt.xlabel(\"Epochs\")\n",
    "plt.legend()"
   ]
  },
  {
   "cell_type": "code",
   "execution_count": null,
   "metadata": {
    "id": "pDmwl1qn7Lw1"
   },
   "outputs": [],
   "source": []
  },
  {
   "cell_type": "code",
   "execution_count": 27,
   "metadata": {
    "id": "c7IhsEEUbJzg"
   },
   "outputs": [],
   "source": [
    "with torch.inference_mode():\n",
    "  y_preds_new = model_0(X_test)\n"
   ]
  },
  {
   "cell_type": "code",
   "execution_count": 28,
   "metadata": {
    "colab": {
     "base_uri": "https://localhost:8080/",
     "height": 542
    },
    "id": "N8xbeog-qABz",
    "outputId": "60b64745-0b53-4251-940f-e3305436a4a5"
   },
   "outputs": [
    {
     "data": {
      "image/png": "[encoded data removed]",
      "text/plain": [
       "<Figure size 1000x700 with 1 Axes>"
      ]
     },
     "metadata": {},
     "output_type": "display_data"
    }
   ],
   "source": [
    "plot_predictions(predictions=y_preds)"
   ]
  },
  {
   "cell_type": "code",
   "execution_count": 29,
   "metadata": {
    "colab": {
     "base_uri": "https://localhost:8080/",
     "height": 542
    },
    "id": "7FgPhaG_rGot",
    "outputId": "96bb7094-a3f6-4231-d461-9e888f1f8200"
   },
   "outputs": [
    {
     "data": {
      "image/png": "[encoded data removed]",
      "text/plain": [
       "<Figure size 1000x700 with 1 Axes>"
      ]
     },
     "metadata": {},
     "output_type": "display_data"
    }
   ],
   "source": [
    "plot_predictions(predictions=y_preds_new)"
   ]
  },
  {
   "cell_type": "markdown",
   "metadata": {
    "id": "7iOnjLThHYZv"
   },
   "source": [
    "## Saving a model in PyTorch\n",
    "\n",
    "\n",
    "There are three main methods for saving and loading models in PyTorch.\n",
    "\n",
    "1. `torch.save()` - allows you to save a PyTorch object in Python's pickle format\n",
    "2. `torch.load()` - allows your to load a saved PyTorch object\n",
    "3. `toch.nn.Module.load_state_dict()` - this allows to load a model's saved state dictionary\n",
    "\n",
    "\n",
    "\n",
    "PyTorch save & Load code tutorial + extra-curricular https://pytorch.org/tutorials/beginner/saving_loading_models.html"
   ]
  },
  {
   "cell_type": "code",
   "execution_count": 30,
   "metadata": {
    "colab": {
     "base_uri": "https://localhost:8080/"
    },
    "id": "tKxU-OgqrNjF",
    "outputId": "9bb0be6d-74b9-44e0-b54f-7337c033bacb"
   },
   "outputs": [
    {
     "name": "stdout",
     "output_type": "stream",
     "text": [
      "Saving model to: models/01_python_workflow_model_0.pth\n"
     ]
    }
   ],
   "source": [
    "# saving our PyTorch model\n",
    "from pathlib import Path\n",
    "\n",
    "# 1. Create models directory\n",
    "MODEL_PATH = Path(\"models\")\n",
    "MODEL_PATH.mkdir(parents=True, exist_ok=True)\n",
    "\n",
    "\n",
    "# 2. Create a model save path\n",
    "MODEL_NAME = \"01_python_workflow_model_0.pth\"\n",
    "MODEL_SAVE_PATH = MODEL_PATH/MODEL_NAME\n",
    "MODEL_SAVE_PATH\n",
    "\n",
    "\n",
    "\n",
    "# 2. Save the model state dict\n",
    "print(f\"Saving model to: {MODEL_SAVE_PATH}\")\n",
    "\n",
    "torch.save(obj=model_0.state_dict(),\n",
    "           f=MODEL_SAVE_PATH)"
   ]
  },
  {
   "cell_type": "code",
   "execution_count": 31,
   "metadata": {
    "colab": {
     "base_uri": "https://localhost:8080/"
    },
    "id": "IlDLqo7sIFwy",
    "outputId": "3e632fff-5a4b-4918-a630-ec4eb2d97fe6"
   },
   "outputs": [
    {
     "name": "stdout",
     "output_type": "stream",
     "text": [
      ".\u001b[38;5;2mr\u001b[39m\u001b[38;5;3mw\u001b[39m\u001b[38;5;245m-\u001b[39m\u001b[38;5;2mr\u001b[39m\u001b[38;5;245m-\u001b[39m\u001b[38;5;245m-\u001b[39m\u001b[38;5;2mr\u001b[39m\u001b[38;5;245m-\u001b[39m\u001b[38;5;245m-\u001b[39m\u001b[38;5;6m\u001b[39m \u001b[38;5;230msaurab\u001b[39m \u001b[38;5;187msaurab\u001b[39m \u001b[38;5;229m1.6\u001b[39m \u001b[38;5;229mKB\u001b[39m \u001b[38;5;40mWed Dec 20 19:24:11 2023\u001b[39m  01_python_workflow_model_0.pth\r\n"
     ]
    }
   ],
   "source": [
    "! ls -l models"
   ]
  },
  {
   "cell_type": "code",
   "execution_count": null,
   "metadata": {
    "id": "34PzKwJNX-JG"
   },
   "outputs": [],
   "source": []
  },
  {
   "cell_type": "code",
   "execution_count": null,
   "metadata": {
    "id": "Zm3za036ZHA3"
   },
   "outputs": [],
   "source": []
  },
  {
   "cell_type": "code",
   "execution_count": 32,
   "metadata": {
    "colab": {
     "base_uri": "https://localhost:8080/"
    },
    "id": "RN3JH-6ZZHWN",
    "outputId": "7abe8f8c-e9f8-4861-d03f-eba3d85fed8a"
   },
   "outputs": [
    {
     "name": "stdout",
     "output_type": "stream",
     "text": [
      "Model's state_dict:\n",
      "conv1.weight \t torch.Size([6, 3, 5, 5])\n",
      "conv1.bias \t torch.Size([6])\n",
      "conv2.weight \t torch.Size([16, 6, 5, 5])\n",
      "conv2.bias \t torch.Size([16])\n",
      "fc1.weight \t torch.Size([120, 400])\n",
      "fc1.bias \t torch.Size([120])\n",
      "fc2.weight \t torch.Size([84, 120])\n",
      "fc2.bias \t torch.Size([84])\n",
      "fc3.weight \t torch.Size([10, 84])\n",
      "fc3.bias \t torch.Size([10])\n",
      "Optimizer's state_dict:\n",
      "state \t {}\n",
      "param_groups \t [{'lr': 0.001, 'momentum': 0.9, 'dampening': 0, 'weight_decay': 0, 'nesterov': False, 'maximize': False, 'foreach': None, 'differentiable': False, 'params': [0, 1, 2, 3, 4, 5, 6, 7, 8, 9]}]\n"
     ]
    }
   ],
   "source": [
    "class TheModelClass(nn.Module):\n",
    "    def __init__(self):\n",
    "        super(TheModelClass, self).__init__()\n",
    "        self.conv1 = nn.Conv2d(3, 6, 5)\n",
    "        self.pool = nn.MaxPool2d(2, 2)\n",
    "        self.conv2 = nn.Conv2d(6, 16, 5)\n",
    "        self.fc1 = nn.Linear(16 * 5 * 5, 120)\n",
    "        self.fc2 = nn.Linear(120, 84)\n",
    "        self.fc3 = nn.Linear(84, 10)\n",
    "\n",
    "    def forward(self, x):\n",
    "        x = self.pool(F.relu(self.conv1(x)))\n",
    "        x = self.pool(F.relu(self.conv2(x)))\n",
    "        x = x.view(-1, 16 * 5 * 5)\n",
    "        x = F.relu(self.fc1(x))\n",
    "        x = F.relu(self.fc2(x))\n",
    "        x = self.fc3(x)\n",
    "        return x\n",
    "\n",
    "# Initialize model\n",
    "model = TheModelClass()\n",
    "\n",
    "# Initialize optimizer\n",
    "optimizer = torch.optim.SGD(model.parameters(), lr=0.001, momentum=0.9)\n",
    "\n",
    "# Print model's state_dict\n",
    "print(\"Model's state_dict:\")\n",
    "for param_tensor in model.state_dict():\n",
    "    print(param_tensor, \"\\t\", model.state_dict()[param_tensor].size())\n",
    "\n",
    "# Print optimizer's state_dict\n",
    "print(\"Optimizer's state_dict:\")\n",
    "for var_name in optimizer.state_dict():\n",
    "    print(var_name, \"\\t\", optimizer.state_dict()[var_name])\n"
   ]
  },
  {
   "cell_type": "code",
   "execution_count": null,
   "metadata": {
    "id": "4uuaH0XYZLf0"
   },
   "outputs": [],
   "source": []
  },
  {
   "cell_type": "markdown",
   "metadata": {
    "id": "EghElWhM0-yt"
   },
   "source": [
    "## Loading a PyTorch model\n",
    "\n",
    "Since we saved our model's `state_dict()` rather than entire model, we'll create a new instance of our model class and load the saved `state_dict` into newly created instance"
   ]
  },
  {
   "cell_type": "code",
   "execution_count": 33,
   "metadata": {
    "colab": {
     "base_uri": "https://localhost:8080/"
    },
    "id": "dWyZHWUo1VuC",
    "outputId": "f448e4e5-b37b-4c08-b32b-c246439db5cf"
   },
   "outputs": [
    {
     "data": {
      "text/plain": [
       "<All keys matched successfully>"
      ]
     },
     "execution_count": 33,
     "metadata": {},
     "output_type": "execute_result"
    }
   ],
   "source": [
    "# to load a saved state_dict() we have to instantiate a new instace of our model class\n",
    "loaded_model_0 = LinearRegressionModel()\n",
    "\n",
    "\n",
    "# Load the saved staite_dict of the model_0 (this will update new instance with updated parameters)\n",
    "loaded_model_0.load_state_dict(torch.load(f=MODEL_SAVE_PATH))"
   ]
  },
  {
   "cell_type": "code",
   "execution_count": 34,
   "metadata": {
    "colab": {
     "base_uri": "https://localhost:8080/"
    },
    "id": "_PW175LS16tU",
    "outputId": "3958c5e4-a845-49ba-b0a7-5bed19090a11"
   },
   "outputs": [
    {
     "data": {
      "text/plain": [
       "OrderedDict([('weights', tensor([0.6990])), ('bias', tensor([0.3093]))])"
      ]
     },
     "execution_count": 34,
     "metadata": {},
     "output_type": "execute_result"
    }
   ],
   "source": [
    "loaded_model_0.state_dict()"
   ]
  },
  {
   "cell_type": "code",
   "execution_count": 35,
   "metadata": {
    "colab": {
     "base_uri": "https://localhost:8080/"
    },
    "id": "94KXD6h81-xJ",
    "outputId": "c8308d7c-caf9-4f8a-b896-1cfa8758df3f"
   },
   "outputs": [
    {
     "data": {
      "text/plain": [
       "OrderedDict([('weights', tensor([0.6990])), ('bias', tensor([0.3093]))])"
      ]
     },
     "execution_count": 35,
     "metadata": {},
     "output_type": "execute_result"
    }
   ],
   "source": [
    "loaded_model_0.state_dict()"
   ]
  },
  {
   "cell_type": "code",
   "execution_count": 36,
   "metadata": {
    "colab": {
     "base_uri": "https://localhost:8080/"
    },
    "id": "6fyeJzj32bgC",
    "outputId": "17ffd321-4e9b-4033-8596-d6e45a90c1d1"
   },
   "outputs": [
    {
     "data": {
      "text/plain": [
       "tensor([[0.8685],\n",
       "        [0.8825],\n",
       "        [0.8965],\n",
       "        [0.9105],\n",
       "        [0.9245],\n",
       "        [0.9384],\n",
       "        [0.9524],\n",
       "        [0.9664],\n",
       "        [0.9804],\n",
       "        [0.9944]])"
      ]
     },
     "execution_count": 36,
     "metadata": {},
     "output_type": "execute_result"
    }
   ],
   "source": [
    "# Make some prediction with our loaded model to make sure it is the correct one\n",
    "loaded_model_0.eval()\n",
    "with torch.inference_mode():\n",
    "  loaded_model_preds = loaded_model_0(X_test)\n",
    "\n",
    "loaded_model_preds"
   ]
  },
  {
   "cell_type": "code",
   "execution_count": 37,
   "metadata": {
    "colab": {
     "base_uri": "https://localhost:8080/"
    },
    "id": "fpOTf44F3dIl",
    "outputId": "cdf1474d-3667-4e42-e238-e5585fd2ed39"
   },
   "outputs": [
    {
     "data": {
      "text/plain": [
       "tensor([[0.8685],\n",
       "        [0.8825],\n",
       "        [0.8965],\n",
       "        [0.9105],\n",
       "        [0.9245],\n",
       "        [0.9384],\n",
       "        [0.9524],\n",
       "        [0.9664],\n",
       "        [0.9804],\n",
       "        [0.9944]])"
      ]
     },
     "execution_count": 37,
     "metadata": {},
     "output_type": "execute_result"
    }
   ],
   "source": [
    "# Make some models preds\n",
    "model_0.eval()\n",
    "with torch.inference_mode():\n",
    "  y_preds = model_0(X_test)\n",
    "\n",
    "y_preds"
   ]
  },
  {
   "cell_type": "code",
   "execution_count": 38,
   "metadata": {
    "colab": {
     "base_uri": "https://localhost:8080/"
    },
    "id": "hX91rtyQ20A5",
    "outputId": "47b807ce-f533-4483-aa2a-344818e0a51e"
   },
   "outputs": [
    {
     "data": {
      "text/plain": [
       "tensor([[True],\n",
       "        [True],\n",
       "        [True],\n",
       "        [True],\n",
       "        [True],\n",
       "        [True],\n",
       "        [True],\n",
       "        [True],\n",
       "        [True],\n",
       "        [True]])"
      ]
     },
     "execution_count": 38,
     "metadata": {},
     "output_type": "execute_result"
    }
   ],
   "source": [
    "# Compare loaded model preds with original model preds\n",
    "y_preds == loaded_model_preds\n"
   ]
  },
  {
   "cell_type": "code",
   "execution_count": null,
   "metadata": {
    "id": "HVxs7RLx3I4L"
   },
   "outputs": [],
   "source": []
  },
  {
   "cell_type": "code",
   "execution_count": null,
   "metadata": {
    "id": "MuGAZJ0m3zVV"
   },
   "outputs": [],
   "source": []
  },
  {
   "cell_type": "markdown",
   "metadata": {
    "id": "xegb1PQS460T"
   },
   "source": [
    "## 6. Putting it together\n",
    "\n",
    "Let's go back through the steps above and see it all in one place."
   ]
  },
  {
   "cell_type": "code",
   "execution_count": 39,
   "metadata": {
    "id": "k6Bxpg0u5V4u"
   },
   "outputs": [],
   "source": [
    "# Import PyTorch and Matplotlib\n",
    "import torch\n",
    "from torch import nn\n",
    "import numpy as np\n",
    "import matplotlib.pyplot as plt\n",
    "\n",
    "# check the PyTorch version"
   ]
  },
  {
   "cell_type": "markdown",
   "metadata": {
    "id": "Jz_m_NnW52xb"
   },
   "source": [
    "Create a device-agnostic code  \n",
    "\n",
    "This means if we got access to GPU, our code will use it (for potentially faster computing).\n",
    "\n",
    "If no GPU is available, the code will default to using CPU."
   ]
  },
  {
   "cell_type": "code",
   "execution_count": 40,
   "metadata": {
    "colab": {
     "base_uri": "https://localhost:8080/"
    },
    "id": "bNt8tpKC6LBA",
    "outputId": "7244745d-fda9-4af3-c9b7-e8dee48d944f"
   },
   "outputs": [
    {
     "name": "stdout",
     "output_type": "stream",
     "text": [
      "Using device: cpu\n"
     ]
    }
   ],
   "source": [
    "# Setup device agnostic code\n",
    "device = \"cuda\" if torch.cuda.is_available() else \"cpu\"\n",
    "print(f\"Using device: {device}\")"
   ]
  },
  {
   "cell_type": "code",
   "execution_count": 41,
   "metadata": {
    "colab": {
     "base_uri": "https://localhost:8080/"
    },
    "id": "ycfI2xUd6wmq",
    "outputId": "278e9213-e693-4666-8ef6-342409ba0b2a"
   },
   "outputs": [
    {
     "name": "stdout",
     "output_type": "stream",
     "text": [
      "NVIDIA-SMI has failed because it couldn't communicate with the NVIDIA driver. Make sure that the latest NVIDIA driver is installed and running.\r\n",
      "\r\n"
     ]
    }
   ],
   "source": [
    "!nvidia-smi         # to check the specs of the provided GPU"
   ]
  },
  {
   "cell_type": "markdown",
   "metadata": {
    "id": "0WfRlBER5GnI"
   },
   "source": [
    "### 6.1 Data\n",
    "\n"
   ]
  },
  {
   "cell_type": "code",
   "execution_count": 42,
   "metadata": {
    "colab": {
     "base_uri": "https://localhost:8080/"
    },
    "id": "_oL51GuZ3zPi",
    "outputId": "fb0b1d65-3bbb-4ee2-9efd-b88bf22dd1e0"
   },
   "outputs": [
    {
     "data": {
      "text/plain": [
       "(tensor([[0.0000],\n",
       "         [0.0200],\n",
       "         [0.0400],\n",
       "         [0.0600],\n",
       "         [0.0800],\n",
       "         [0.1000],\n",
       "         [0.1200],\n",
       "         [0.1400],\n",
       "         [0.1600],\n",
       "         [0.1800]]),\n",
       " tensor([[0.3000],\n",
       "         [0.3140],\n",
       "         [0.3280],\n",
       "         [0.3420],\n",
       "         [0.3560],\n",
       "         [0.3700],\n",
       "         [0.3840],\n",
       "         [0.3980],\n",
       "         [0.4120],\n",
       "         [0.4260]]))"
      ]
     },
     "execution_count": 42,
     "metadata": {},
     "output_type": "execute_result"
    }
   ],
   "source": [
    "# Create some data using the Linear regression formula of y =  weight * X + bias\n",
    "weight = 0.7\n",
    "bias = 0.3\n",
    "\n",
    "\n",
    "# Create range values\n",
    "\n",
    "start = 0\n",
    "end = 1\n",
    "step = 0.02\n",
    "\n",
    "# Create x and y (features and labels)\n",
    "X = torch.arange(start,end, step).unsqueeze(dim=1) # this will reduce the dimension of the data to 1 dimension\n",
    "# without unsqueeze, errors will pop up\n",
    "y = weight * X + bias\n",
    "X[:10], y[:10]"
   ]
  },
  {
   "cell_type": "code",
   "execution_count": 43,
   "metadata": {
    "colab": {
     "base_uri": "https://localhost:8080/"
    },
    "id": "0DfP4dUa3ytl",
    "outputId": "be4632b1-48a2-4a36-992e-a05da1c3e611"
   },
   "outputs": [
    {
     "data": {
      "text/plain": [
       "(40, 40, 10, 10)"
      ]
     },
     "execution_count": 43,
     "metadata": {},
     "output_type": "execute_result"
    }
   ],
   "source": [
    "# split the data\n",
    "train_split = int(0.8 * len(X))\n",
    "X_train, y_train = X[:train_split], y[:train_split]\n",
    "X_test, y_test = X[train_split:], y[train_split:]\n",
    "\n",
    "len(X_train), len(y_train), len(X_test), len(y_test)"
   ]
  },
  {
   "cell_type": "code",
   "execution_count": 44,
   "metadata": {
    "colab": {
     "base_uri": "https://localhost:8080/",
     "height": 542
    },
    "id": "LRdxnYuGA3xF",
    "outputId": "32444da1-878f-4a76-f697-3750c37e845d"
   },
   "outputs": [
    {
     "data": {
      "image/png": "[encoded data removed]",
      "text/plain": [
       "<Figure size 1000x700 with 1 Axes>"
      ]
     },
     "metadata": {},
     "output_type": "display_data"
    }
   ],
   "source": [
    "# Plot the data\n",
    "plot_predictions(X_train, y_train, X_test, y_test)"
   ]
  },
  {
   "cell_type": "markdown",
   "metadata": {
    "id": "MdKt8-33EOfZ"
   },
   "source": [
    "### 6.2 Building a PyTorch Linear Model\n",
    "\n"
   ]
  },
  {
   "cell_type": "code",
   "execution_count": 45,
   "metadata": {
    "id": "kbRuuNFOBHwo"
   },
   "outputs": [],
   "source": [
    "# create a linear model by subclassing `nn.Module`\n",
    "class LinearRegressionModelv2(nn.Module):\n",
    "  def __init__():\n",
    "    super().__init__()\n",
    "    # Use `nn.Linear` for creating the parameters for the Linear Moel\n",
    "    self.linear_layer = nn.Linear(in_features=1,\n",
    "                                  out_featueres=1)"
   ]
  },
  {
   "cell_type": "code",
   "execution_count": 46,
   "metadata": {},
   "outputs": [
    {
     "data": {
      "text/plain": [
       "False"
      ]
     },
     "execution_count": 46,
     "metadata": {},
     "output_type": "execute_result"
    }
   ],
   "source": [
    "import torch\n",
    "torch.cuda.is_available()\n"
   ]
  },
  {
   "cell_type": "code",
   "execution_count": 47,
   "metadata": {
    "id": "xWfo7pYgFKQv"
   },
   "outputs": [],
   "source": [
    "# !pip3 install torch torchvision torchaudio --index-url https://download.pytorch.org/whl/rocm5.6"
   ]
  },
  {
   "cell_type": "code",
   "execution_count": null,
   "metadata": {},
   "outputs": [],
   "source": []
  }
 ],
 "metadata": {
  "accelerator": "GPU",
  "colab": {
   "authorship_tag": "ABX9TyOC7758gUbMqEMZz59OdukD",
   "gpuType": "T4",
   "include_colab_link": true,
   "provenance": []
  },
  "kernelspec": {
   "display_name": "Python 3",
   "language": "python",
   "name": "python3"
  },
  "language_info": {
   "codemirror_mode": {
    "name": "ipython",
    "version": 3
   },
   "file_extension": ".py",
   "mimetype": "text/x-python",
   "name": "python",
   "nbconvert_exporter": "python",
   "pygments_lexer": "ipython3",
   "version": "3.11.5"
  }
 },
 "nbformat": 4,
 "nbformat_minor": 1
}
